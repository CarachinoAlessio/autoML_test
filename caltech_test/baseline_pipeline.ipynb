{
 "cells": [
  {
   "cell_type": "markdown",
   "metadata": {
    "id": "c9QcGnGPdX2C"
   },
   "source": [
    "\n",
    "**Install requirements**"
   ]
  },
  {
   "cell_type": "code",
   "execution_count": null,
   "metadata": {
    "id": "k9O3aM3Tb28q",
    "vscode": {
     "languageId": "python"
    }
   },
   "outputs": [],
   "source": [
    "!pip3 install torch\n",
    "!pip3 install torchvision\n",
    "!pip3 install Pillow-SIMD\n",
    "!pip3 install tqdm"
   ]
  },
  {
   "cell_type": "markdown",
   "metadata": {
    "id": "fo942LMOdlh4"
   },
   "source": [
    "**Import libraries**"
   ]
  },
  {
   "cell_type": "code",
   "execution_count": null,
   "metadata": {
    "id": "DokFOdD1dJEl",
    "vscode": {
     "languageId": "python"
    },
    "is_executing": true
   },
   "outputs": [],
   "source": [
    "import os\n",
    "import logging\n",
    "\n",
    "import torch\n",
    "import torch.nn as nn\n",
    "import torch.optim as optim\n",
    "from torch.utils.data import Subset, DataLoader\n",
    "from torch.backends import cudnn\n",
    "\n",
    "import torchvision\n",
    "from torchvision import transforms\n",
    "from torchvision.models import alexnet\n",
    "\n",
    "from PIL import Image\n",
    "from tqdm import tqdm"
   ]
  },
  {
   "cell_type": "markdown",
   "metadata": {
    "id": "OIDLJuIXK_vh"
   },
   "source": [
    "**Set Arguments**"
   ]
  },
  {
   "cell_type": "code",
   "execution_count": 36,
   "metadata": {
    "id": "d5PkYfqfK_SA",
    "vscode": {
     "languageId": "python"
    },
    "ExecuteTime": {
     "end_time": "2023-11-30T13:25:51.863420600Z",
     "start_time": "2023-11-30T13:25:51.823405Z"
    }
   },
   "outputs": [],
   "source": [
    "DEVICE = 'cpu'\n",
    "\n",
    "NUM_CLASSES = 102\n",
    "\n",
    "BATCH_SIZE = 256     \n",
    "\n",
    "LR = 1e-3            \n",
    "MOMENTUM = 0.9       \n",
    "WEIGHT_DECAY = 5e-5  \n",
    "\n",
    "NUM_EPOCHS = 40      \n",
    "STEP_SIZE = 20       \n",
    "GAMMA = 0.1          \n",
    "\n",
    "LOG_FREQUENCY = 10"
   ]
  },
  {
   "cell_type": "markdown",
   "metadata": {
    "id": "9gwii0TBHvzh"
   },
   "source": [
    "**Define Data Preprocessing**"
   ]
  },
  {
   "cell_type": "code",
   "execution_count": 8,
   "metadata": {
    "id": "QUDdw4j2H0Mc",
    "vscode": {
     "languageId": "python"
    },
    "ExecuteTime": {
     "end_time": "2023-11-30T11:28:00.266754500Z",
     "start_time": "2023-11-30T11:28:00.212760100Z"
    }
   },
   "outputs": [],
   "source": [
    "# Define transforms for training phase\n",
    "train_transform = transforms.Compose([transforms.Resize(256),      # Resizes short size of the PIL image to 256\n",
    "                                      transforms.CenterCrop(224),  # Crops a central square patch of the image\n",
    "                                                                   # 224 because torchvision's AlexNet needs a 224x224 input!\n",
    "                                                                   # Remember this when applying different transformations, otherwise you get an error\n",
    "                                      transforms.ToTensor(), # Turn PIL Image to torch.Tensor\n",
    "                                      transforms.Normalize((0.5, 0.5, 0.5), (0.5, 0.5, 0.5)) # Normalizes tensor with mean and standard deviation\n",
    "])\n",
    "# Define transforms for the evaluation phase\n",
    "eval_transform = transforms.Compose([transforms.Resize(256),\n",
    "                                      transforms.CenterCrop(224),\n",
    "                                      transforms.ToTensor(),\n",
    "                                      transforms.Normalize((0.5, 0.5, 0.5), (0.5, 0.5, 0.5))                                    \n",
    "])"
   ]
  },
  {
   "cell_type": "markdown",
   "metadata": {
    "id": "2qYIHPzYLY7i"
   },
   "source": [
    "**Prepare Dataset**"
   ]
  },
  {
   "cell_type": "code",
   "execution_count": 20,
   "outputs": [],
   "source": [
    "from torchvision.datasets import VisionDataset\n",
    "\n",
    "from PIL import Image\n",
    "\n",
    "\n",
    "def pil_loader(path):\n",
    "    with open(path, 'rb') as f:\n",
    "        img = Image.open(f)\n",
    "        return img.convert('RGB')\n",
    "\n",
    "\n",
    "class Caltech1(VisionDataset):\n",
    "    def __init__(self, root, split='train', transform=None, target_transform=None):\n",
    "        super(Caltech1, self).__init__(root, transform=transform, target_transform=target_transform)\n",
    "        \n",
    "\n",
    "        self.split = split # This defines the split you are going to use\n",
    "                           # (split files are called 'train.txt' and 'test.txt')\n",
    "\n",
    "        #path = \"/content/Caltech101/\" + self.split + \".txt\"\n",
    "        path = \"./Caltech101/\" + self.split + \".txt\"\n",
    "\n",
    "        self.data = list()\n",
    "        self.labels = set()\n",
    "        \n",
    "        with open(path, 'r') as f:\n",
    "            for line in f:\n",
    "                #image_path = \"/content/\" + root + '/' + line.strip()\n",
    "                image_path = \"\" + root + '/' + line.strip()\n",
    "\n",
    "                label = line.strip().split('/')[0]\n",
    "                image = pil_loader(image_path)\n",
    "                if \"BACKGROUND_Google\" not in label:\n",
    "                    self.labels.add(label)\n",
    "                    self.data.append((image, list(self.labels).index(label)))\n",
    "\n",
    "    def __getitem__(self, index):\n",
    "        '''\n",
    "        __getitem__ should access an element through its index\n",
    "        Args:\n",
    "            index (int): Index\n",
    "\n",
    "        Returns:\n",
    "            tuple: (sample, target) where target is class_index of the target class.\n",
    "        '''\n",
    "\n",
    "        image, label = self.data[index]\n",
    "\n",
    "        # Applies preprocessing when accessing the image\n",
    "        if self.transform is not None:\n",
    "            image = self.transform(image)\n",
    "\n",
    "        return image, label\n",
    "\n",
    "    def __len__(self):\n",
    "        '''\n",
    "        The __len__ method returns the length of the dataset\n",
    "        It is mandatory, as this is used by several other components\n",
    "        '''\n",
    "        return len(self.data)\n"
   ],
   "metadata": {
    "collapsed": false,
    "ExecuteTime": {
     "end_time": "2023-11-30T11:42:15.458337300Z",
     "start_time": "2023-11-30T11:42:15.406338Z"
    }
   }
  },
  {
   "cell_type": "code",
   "execution_count": 21,
   "metadata": {
    "colab": {
     "base_uri": "https://localhost:8080/"
    },
    "id": "QfVq_uDHLbsR",
    "outputId": "f80167ff-5a0b-4d94-af40-f7d9473967c8",
    "vscode": {
     "languageId": "python"
    },
    "ExecuteTime": {
     "end_time": "2023-11-30T11:42:45.611203700Z",
     "start_time": "2023-11-30T11:42:17.895702200Z"
    }
   },
   "outputs": [
    {
     "name": "stdout",
     "output_type": "stream",
     "text": [
      "Train Dataset: 2892\n",
      "Valid Dataset: 2892\n",
      "Test Dataset: 2893\n"
     ]
    }
   ],
   "source": [
    "# Clone github repository with data\n",
    "if not os.path.isdir('./Caltech101'):\n",
    "  !git clone https://github.com/CarachinoAlessio/test_Caltech101.git\n",
    "  #!mv 'test_Caltech101' 'Caltech101'\n",
    "\n",
    "DATA_DIR = 'Caltech101/101_ObjectCategories'\n",
    "\n",
    "from Caltech101.caltech_dataset import Caltech\n",
    "from sklearn.model_selection import train_test_split\n",
    "\n",
    "# Prepare Pytorch train/test Datasets\n",
    "train_ds = Caltech1(DATA_DIR, split='train',  transform=train_transform)\n",
    "test_dataset = Caltech1(DATA_DIR, split='test', transform=eval_transform)\n",
    "\n",
    "ids = [x for x in range(len(train_ds))]\n",
    "labels_indexes = [y for (x,y) in train_ds]\n",
    "\n",
    "train_indexes, val_indexes = train_test_split(ids, test_size=0.5, shuffle=True, stratify=labels_indexes)\n",
    "\n",
    "train_dataset = Subset(train_ds, train_indexes)\n",
    "val_dataset = Subset(train_ds, val_indexes)\n",
    "\n",
    "# Check dataset sizes\n",
    "print('Train Dataset: {}'.format(len(train_dataset)))\n",
    "print('Valid Dataset: {}'.format(len(val_dataset)))\n",
    "print('Test Dataset: {}'.format(len(test_dataset)))"
   ]
  },
  {
   "cell_type": "markdown",
   "metadata": {
    "id": "FYEDQ7Z21ldN"
   },
   "source": [
    "**Prepare Dataloaders**"
   ]
  },
  {
   "cell_type": "code",
   "execution_count": 22,
   "metadata": {
    "colab": {
     "base_uri": "https://localhost:8080/"
    },
    "id": "VriRw8SI1nle",
    "outputId": "bc2a855e-6ec4-40be-d8e9-fd811e9fbca6",
    "vscode": {
     "languageId": "python"
    },
    "ExecuteTime": {
     "end_time": "2023-11-30T11:43:11.139697500Z",
     "start_time": "2023-11-30T11:43:11.102607200Z"
    }
   },
   "outputs": [],
   "source": [
    "# Dataloaders iterate over pytorch datasets and transparently provide useful functions (e.g. parallelization and shuffling)\n",
    "train_dataloader = DataLoader(train_dataset, batch_size=BATCH_SIZE, shuffle=True, drop_last=True)\n",
    "val_dataloader = DataLoader(val_dataset, batch_size=BATCH_SIZE, shuffle=False)\n",
    "\n",
    "test_dataloader = DataLoader(test_dataset, batch_size=BATCH_SIZE, shuffle=False)"
   ]
  },
  {
   "cell_type": "markdown",
   "metadata": {
    "id": "gbZ1t5Qs2z4j"
   },
   "source": [
    "**Prepare Network**"
   ]
  },
  {
   "cell_type": "code",
   "execution_count": 37,
   "metadata": {
    "id": "exHUjtXa22DN",
    "vscode": {
     "languageId": "python"
    },
    "ExecuteTime": {
     "end_time": "2023-11-30T13:26:49.411467900Z",
     "start_time": "2023-11-30T13:26:02.752791200Z"
    }
   },
   "outputs": [
    {
     "name": "stderr",
     "output_type": "stream",
     "text": [
      "C:\\Users\\alcarachin\\Desktop\\autoML_test\\venv\\lib\\site-packages\\torchvision\\models\\_utils.py:208: UserWarning: The parameter 'pretrained' is deprecated since 0.13 and may be removed in the future, please use 'weights' instead.\n",
      "  warnings.warn(\n",
      "C:\\Users\\alcarachin\\Desktop\\autoML_test\\venv\\lib\\site-packages\\torchvision\\models\\_utils.py:223: UserWarning: Arguments other than a weight enum or `None` for 'weights' are deprecated since 0.13 and may be removed in the future. The current behavior is equivalent to passing `weights=AlexNet_Weights.IMAGENET1K_V1`. You can also use `weights=AlexNet_Weights.DEFAULT` to get the most up-to-date weights.\n",
      "  warnings.warn(msg)\n",
      "Downloading: \"https://download.pytorch.org/models/alexnet-owt-7be5be79.pth\" to C:\\Users\\alcarachin/.cache\\torch\\hub\\checkpoints\\alexnet-owt-7be5be79.pth\n",
      "100%|██████████| 233M/233M [00:45<00:00, 5.38MB/s] \n"
     ]
    }
   ],
   "source": [
    "net = alexnet(pretrained=True) # Loading AlexNet model\n",
    "\n",
    "# AlexNet has 1000 output neurons, corresponding to the 1000 ImageNet's classes\n",
    "# We need 101 outputs for Caltech-101\n",
    "net.classifier[6] = nn.Linear(4096, NUM_CLASSES) # nn.Linear in pytorch is a fully connected layer\n",
    "                                                 # The convolutional layer is nn.Conv2d\n",
    "\n",
    "# We just changed the last layer of AlexNet with a new fully connected layer with 101 outputs\n",
    "# It is strongly suggested to study torchvision.models.alexnet source code"
   ]
  },
  {
   "cell_type": "markdown",
   "metadata": {
    "id": "KEyL3H_R4qCf"
   },
   "source": [
    "**Prepare Training**"
   ]
  },
  {
   "cell_type": "code",
   "execution_count": 38,
   "metadata": {
    "id": "9sjq00G94tSc",
    "vscode": {
     "languageId": "python"
    },
    "ExecuteTime": {
     "end_time": "2023-11-30T13:27:03.776011Z",
     "start_time": "2023-11-30T13:27:03.709314200Z"
    }
   },
   "outputs": [],
   "source": [
    "# Define loss function\n",
    "criterion = nn.CrossEntropyLoss()\n",
    "parameters_to_optimize = net.parameters()\n",
    "optimizer = optim.SGD(parameters_to_optimize, lr=LR, momentum=MOMENTUM, weight_decay=WEIGHT_DECAY)\n",
    "scheduler = optim.lr_scheduler.StepLR(optimizer, step_size=STEP_SIZE, gamma=GAMMA)"
   ]
  },
  {
   "cell_type": "markdown",
   "metadata": {
    "id": "AxYUli9d9uYQ"
   },
   "source": [
    "**Train**"
   ]
  },
  {
   "cell_type": "code",
   "execution_count": 39,
   "metadata": {
    "colab": {
     "base_uri": "https://localhost:8080/"
    },
    "id": "ZcoQ5fD49yT_",
    "outputId": "4af483a4-b440-4883-b41a-454a3f21cd7e",
    "vscode": {
     "languageId": "python"
    },
    "ExecuteTime": {
     "end_time": "2023-11-30T14:03:11.191375800Z",
     "start_time": "2023-11-30T13:27:07.042615100Z"
    }
   },
   "outputs": [
    {
     "name": "stdout",
     "output_type": "stream",
     "text": [
      "Starting epoch 1/40, LR = [0.001]\n",
      "Step 0, Loss 4.808793067932129\n",
      "Step 10, Loss 3.0609891414642334\n",
      "Starting epoch 2/40, LR = [0.001]\n",
      "Step 20, Loss 2.1703829765319824\n",
      "Starting epoch 3/40, LR = [0.001]\n",
      "Step 30, Loss 1.5911250114440918\n",
      "Starting epoch 4/40, LR = [0.001]\n",
      "Step 40, Loss 1.3508399724960327\n",
      "Starting epoch 5/40, LR = [0.001]\n",
      "Step 50, Loss 0.8977063298225403\n",
      "Starting epoch 6/40, LR = [0.001]\n",
      "Step 60, Loss 0.7443479299545288\n",
      "Starting epoch 7/40, LR = [0.001]\n",
      "Step 70, Loss 0.6106410026550293\n",
      "Starting epoch 8/40, LR = [0.001]\n",
      "Step 80, Loss 0.40423792600631714\n",
      "Starting epoch 9/40, LR = [0.001]\n",
      "Step 90, Loss 0.4432658851146698\n",
      "Starting epoch 10/40, LR = [0.001]\n",
      "Step 100, Loss 0.32229936122894287\n",
      "Starting epoch 11/40, LR = [0.001]\n",
      "Step 110, Loss 0.2469196319580078\n",
      "Step 120, Loss 0.31955334544181824\n",
      "Starting epoch 12/40, LR = [0.001]\n",
      "Step 130, Loss 0.24901512265205383\n",
      "Starting epoch 13/40, LR = [0.001]\n",
      "Step 140, Loss 0.21305115520954132\n",
      "Starting epoch 14/40, LR = [0.001]\n",
      "Step 150, Loss 0.2197142094373703\n",
      "Starting epoch 15/40, LR = [0.001]\n",
      "Step 160, Loss 0.13516928255558014\n",
      "Starting epoch 16/40, LR = [0.001]\n",
      "Step 170, Loss 0.1564830243587494\n",
      "Starting epoch 17/40, LR = [0.001]\n",
      "Step 180, Loss 0.11503836512565613\n",
      "Starting epoch 18/40, LR = [0.001]\n",
      "Step 190, Loss 0.11003918200731277\n",
      "Starting epoch 19/40, LR = [0.001]\n",
      "Step 200, Loss 0.11299101263284683\n",
      "Starting epoch 20/40, LR = [0.001]\n",
      "Step 210, Loss 0.0977114737033844\n",
      "Starting epoch 21/40, LR = [1e-05]\n",
      "Step 220, Loss 0.08697660267353058\n",
      "Step 230, Loss 0.050676051527261734\n",
      "Starting epoch 22/40, LR = [0.0001]\n",
      "Step 240, Loss 0.06837737560272217\n",
      "Starting epoch 23/40, LR = [0.0001]\n",
      "Step 250, Loss 0.0753130167722702\n",
      "Starting epoch 24/40, LR = [0.0001]\n",
      "Step 260, Loss 0.05908786132931709\n",
      "Starting epoch 25/40, LR = [0.0001]\n",
      "Step 270, Loss 0.0458344928920269\n",
      "Starting epoch 26/40, LR = [0.0001]\n",
      "Step 280, Loss 0.06454641371965408\n",
      "Starting epoch 27/40, LR = [0.0001]\n",
      "Step 290, Loss 0.08088254928588867\n",
      "Starting epoch 28/40, LR = [0.0001]\n",
      "Step 300, Loss 0.05951577425003052\n",
      "Starting epoch 29/40, LR = [0.0001]\n",
      "Step 310, Loss 0.056865908205509186\n",
      "Starting epoch 30/40, LR = [0.0001]\n",
      "Step 320, Loss 0.08362186700105667\n",
      "Starting epoch 31/40, LR = [0.0001]\n",
      "Step 330, Loss 0.04773426800966263\n",
      "Step 340, Loss 0.045728638768196106\n",
      "Starting epoch 32/40, LR = [0.0001]\n",
      "Step 350, Loss 0.09013862907886505\n",
      "Starting epoch 33/40, LR = [0.0001]\n",
      "Step 360, Loss 0.049795959144830704\n",
      "Starting epoch 34/40, LR = [0.0001]\n",
      "Step 370, Loss 0.06493742763996124\n",
      "Starting epoch 35/40, LR = [0.0001]\n",
      "Step 380, Loss 0.05920181795954704\n",
      "Starting epoch 36/40, LR = [0.0001]\n",
      "Step 390, Loss 0.061517078429460526\n",
      "Starting epoch 37/40, LR = [0.0001]\n",
      "Step 400, Loss 0.08438704162836075\n",
      "Starting epoch 38/40, LR = [0.0001]\n",
      "Step 410, Loss 0.035158976912498474\n",
      "Starting epoch 39/40, LR = [0.0001]\n",
      "Step 420, Loss 0.04764837771654129\n",
      "Starting epoch 40/40, LR = [0.0001]\n",
      "Step 430, Loss 0.05979245528578758\n"
     ]
    }
   ],
   "source": [
    "net = net.to(DEVICE)\n",
    "cudnn.benchmark\n",
    "\n",
    "current_step = 0\n",
    "for epoch in range(NUM_EPOCHS):\n",
    "  print('Starting epoch {}/{}, LR = {}'.format(epoch+1, NUM_EPOCHS, scheduler.get_lr()))\n",
    "\n",
    "  for images, labels in train_dataloader:\n",
    "    images = images.to(DEVICE)\n",
    "    labels = labels.to(DEVICE)\n",
    "\n",
    "    net.train()\n",
    "    optimizer.zero_grad()\n",
    "\n",
    "    \n",
    "    outputs = net(images)\n",
    "    loss = criterion(outputs, labels)\n",
    "\n",
    "    if current_step % LOG_FREQUENCY == 0:\n",
    "      print('Step {}, Loss {}'.format(current_step, loss.item()))\n",
    "\n",
    "    loss.backward()\n",
    "    optimizer.step()\n",
    "\n",
    "    current_step += 1\n",
    "\n",
    "  # Step the scheduler\n",
    "  scheduler.step() "
   ]
  },
  {
   "cell_type": "markdown",
   "metadata": {
    "id": "UsHFI-GAJd69"
   },
   "source": [
    "**Validation**"
   ]
  },
  {
   "cell_type": "code",
   "execution_count": 40,
   "metadata": {
    "colab": {
     "base_uri": "https://localhost:8080/"
    },
    "id": "EO3HV5pqJg1o",
    "outputId": "e8d900e7-4930-4128-8302-3b5cbfb684f4",
    "vscode": {
     "languageId": "python"
    },
    "ExecuteTime": {
     "end_time": "2023-11-30T14:06:31.499083600Z",
     "start_time": "2023-11-30T14:06:08.925966600Z"
    }
   },
   "outputs": [
    {
     "name": "stderr",
     "output_type": "stream",
     "text": [
      "100%|██████████| 12/12 [00:22<00:00,  1.88s/it]"
     ]
    },
    {
     "name": "stdout",
     "output_type": "stream",
     "text": [
      "Validation Accuracy: 0.8153526970954357\n"
     ]
    },
    {
     "name": "stderr",
     "output_type": "stream",
     "text": [
      "\n"
     ]
    }
   ],
   "source": [
    "net = net.to(DEVICE)\n",
    "net.train(False)\n",
    "\n",
    "running_corrects = 0\n",
    "for images, labels in tqdm(val_dataloader):\n",
    "  images = images.to(DEVICE)\n",
    "  labels = labels.to(DEVICE)\n",
    "\n",
    "  outputs = net(images)\n",
    "  _, preds = torch.max(outputs.data, 1)\n",
    "\n",
    "  running_corrects += torch.sum(preds == labels.data).data.item()\n",
    "\n",
    "accuracy = running_corrects / float(len(val_dataset))\n",
    "\n",
    "print('Validation Accuracy: {}'.format(accuracy))"
   ]
  },
  {
   "cell_type": "markdown",
   "metadata": {
    "id": "jxekmR745ySe"
   },
   "source": [
    "**Test**"
   ]
  },
  {
   "cell_type": "code",
   "execution_count": 41,
   "metadata": {
    "colab": {
     "base_uri": "https://localhost:8080/"
    },
    "id": "fSHcUqLB5yWO",
    "outputId": "45e1b6eb-dc8c-426e-c4a1-83d430e39518",
    "vscode": {
     "languageId": "python"
    },
    "ExecuteTime": {
     "end_time": "2023-11-30T14:08:38.728137800Z",
     "start_time": "2023-11-30T14:08:15.260171500Z"
    }
   },
   "outputs": [
    {
     "name": "stderr",
     "output_type": "stream",
     "text": [
      "100%|██████████| 12/12 [00:23<00:00,  1.95s/it]"
     ]
    },
    {
     "name": "stdout",
     "output_type": "stream",
     "text": [
      "Test Accuracy: 0.8067749740753543\n"
     ]
    },
    {
     "name": "stderr",
     "output_type": "stream",
     "text": [
      "\n"
     ]
    }
   ],
   "source": [
    "net = net.to(DEVICE)\n",
    "net.train(False)\n",
    "\n",
    "running_corrects = 0\n",
    "for images, labels in tqdm(test_dataloader):\n",
    "  images = images.to(DEVICE)\n",
    "  labels = labels.to(DEVICE)\n",
    "\n",
    "  outputs = net(images)\n",
    "  _, preds = torch.max(outputs.data, 1)\n",
    "\n",
    "  running_corrects += torch.sum(preds == labels.data).data.item()\n",
    "\n",
    "accuracy = running_corrects / float(len(test_dataset))\n",
    "\n",
    "print('Test Accuracy: {}'.format(accuracy))"
   ]
  },
  {
   "cell_type": "code",
   "execution_count": 43,
   "outputs": [],
   "source": [
    "torch.save(net, 'baseline.pth')"
   ],
   "metadata": {
    "collapsed": false,
    "ExecuteTime": {
     "end_time": "2023-11-30T14:12:17.826403100Z",
     "start_time": "2023-11-30T14:12:17.298927100Z"
    }
   }
  }
 ],
 "metadata": {
    "authors": [
    ],
    "date": "",
    "title": "Allegato H: Baseline test for Caltech",
    "kernelspec": { },
    "language_info": { },
  "kernelspec": {
   "display_name": "Python 3 (ipykernel)",
   "language": "python",
   "name": "python3"
  },
  "language_info": {
   "codemirror_mode": {
    "name": "ipython",
    "version": 3
   },
   "file_extension": ".py",
   "mimetype": "text/x-python",
   "name": "python",
   "nbconvert_exporter": "python",
   "pygments_lexer": "ipython3",
   "version": "3.10.12"
  }
 },
 "nbformat": 4,
 "nbformat_minor": 5
}
