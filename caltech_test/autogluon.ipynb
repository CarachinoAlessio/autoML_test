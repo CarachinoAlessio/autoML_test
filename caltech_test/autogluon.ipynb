{
 "cells": [
  {
   "cell_type": "code",
   "execution_count": null,
   "id": "initial_id",
   "metadata": {
    "collapsed": true,
    "is_executing": true
   },
   "outputs": [],
   "source": [
    "from autogluon.multimodal import MultiModalPredictor\n",
    "import uuid\n",
    "import pandas as pd"
   ]
  },
  {
   "cell_type": "code",
   "execution_count": 2,
   "outputs": [],
   "source": [
    "from torchvision.datasets import VisionDataset\n",
    "\n",
    "from PIL import Image\n",
    "\n",
    "\n",
    "def pil_loader(path):\n",
    "    # open path as file to avoid ResourceWarning (https://github.com/python-pillow/Pillow/issues/835)\n",
    "    with open(path, 'rb') as f:\n",
    "        img = Image.open(f)\n",
    "        return img.convert('RGB')\n",
    "\n",
    "\n",
    "class Caltech1(VisionDataset):\n",
    "    def __init__(self, root, split='train', transform=None, target_transform=None, use_path=False):\n",
    "        super(Caltech1, self).__init__(root, transform=transform, target_transform=target_transform)\n",
    "        self.use_path = use_path\n",
    "\n",
    "        self.split = split\n",
    "\n",
    "        #path = \"/content/Caltech101/\" + self.split + \".txt\"\n",
    "        path = \"./Caltech101/\" + self.split + \".txt\"\n",
    "\n",
    "        self.data = list()\n",
    "        self.labels = set()\n",
    "        \n",
    "        with open(path, 'r') as f:\n",
    "            for line in f:\n",
    "                #image_path = \"/content/\" + root + '/' + line.strip()\n",
    "                image_path = \"\" + root + '/' + line.strip()\n",
    "\n",
    "                label = line.strip().split('/')[0]\n",
    "                if self.use_path:\n",
    "                    image = image_path\n",
    "                else:\n",
    "                    image = pil_loader(image_path)\n",
    "                if \"BACKGROUND_Google\" not in label:\n",
    "                    self.labels.add(label)\n",
    "                    self.data.append((image, list(self.labels).index(label)))\n",
    "\n",
    "    def __getitem__(self, index):\n",
    "        '''\n",
    "        __getitem__ should access an element through its index\n",
    "        Args:\n",
    "            index (int): Index\n",
    "\n",
    "        Returns:\n",
    "            tuple: (sample, target) where target is class_index of the target class.\n",
    "        '''\n",
    "\n",
    "        image, label = self.data[index]\n",
    "\n",
    "        # Applies preprocessing when accessing the image\n",
    "        if self.transform is not None:\n",
    "            image = self.transform(image)\n",
    "\n",
    "        return image, label\n",
    "\n",
    "    def __len__(self):\n",
    "        '''\n",
    "        The __len__ method returns the length of the dataset\n",
    "        It is mandatory, as this is used by several other components\n",
    "        '''\n",
    "        return len(self.data)\n"
   ],
   "metadata": {
    "collapsed": false,
    "ExecuteTime": {
     "end_time": "2024-02-19T08:49:15.087242700Z",
     "start_time": "2024-02-19T08:49:15.044244400Z"
    }
   },
   "id": "130eece33a76e785"
  },
  {
   "cell_type": "code",
   "execution_count": 3,
   "outputs": [
    {
     "name": "stdout",
     "output_type": "stream",
     "text": [
      "Train Dataset: 2892\n",
      "Valid Dataset: 2892\n",
      "Test Dataset: 2893\n"
     ]
    }
   ],
   "source": [
    "from torch.utils.data import Subset\n",
    "\n",
    "DATA_DIR = 'Caltech101/101_ObjectCategories'\n",
    "\n",
    "from sklearn.model_selection import train_test_split\n",
    "\n",
    "train_ds = Caltech1(DATA_DIR, split='train', use_path=True)\n",
    "test_dataset = Caltech1(DATA_DIR, split='test', use_path=True)\n",
    "\n",
    "ids = [x for x in range(len(train_ds))]\n",
    "labels_indexes = [y for (x,y) in train_ds]\n",
    "\n",
    "train_indexes, val_indexes = train_test_split(ids, test_size=0.5, shuffle=True, stratify=labels_indexes)\n",
    "\n",
    "train_dataset = Subset(train_ds, train_indexes)\n",
    "val_dataset = Subset(train_ds, val_indexes)\n",
    "\n",
    "# Check dataset sizes\n",
    "print('Train Dataset: {}'.format(len(train_dataset)))\n",
    "print('Valid Dataset: {}'.format(len(val_dataset)))\n",
    "print('Test Dataset: {}'.format(len(test_dataset)))"
   ],
   "metadata": {
    "collapsed": false,
    "ExecuteTime": {
     "end_time": "2024-02-19T08:49:15.254243200Z",
     "start_time": "2024-02-19T08:49:15.082243800Z"
    }
   },
   "id": "aaf90cb2936747d0"
  },
  {
   "cell_type": "code",
   "execution_count": 4,
   "outputs": [],
   "source": [
    "train_list = [j for i, j in enumerate(train_ds) if i in train_indexes]\n",
    "val_list = [j for i, j in enumerate(train_ds) if i in val_indexes]\n",
    "\n",
    "train_df = pd.DataFrame(train_list, columns=['image', 'label'])\n",
    "val_df = pd.DataFrame(val_list, columns=['image', 'label'])\n"
   ],
   "metadata": {
    "collapsed": false,
    "ExecuteTime": {
     "end_time": "2024-02-19T08:49:15.651242400Z",
     "start_time": "2024-02-19T08:49:15.209244600Z"
    }
   },
   "id": "b10e07914418fa18"
  },
  {
   "cell_type": "code",
   "execution_count": 10,
   "outputs": [
    {
     "name": "stderr",
     "output_type": "stream",
     "text": [
      "Load pretrained checkpoint: C:\\Users\\alcarachin\\Desktop\\autoML_test\\caltech_test\\autogloun_model\\model.ckpt\n"
     ]
    }
   ],
   "source": [
    "model_path = f\"./autogloun_model/\"\n",
    "predictor = MultiModalPredictor(label=\"label\").load(path=f\"{model_path}\")"
   ],
   "metadata": {
    "collapsed": false,
    "ExecuteTime": {
     "end_time": "2024-02-19T13:29:06.827862Z",
     "start_time": "2024-02-19T13:29:05.372862800Z"
    }
   },
   "id": "9ed0874cffd494cf"
  },
  {
   "cell_type": "code",
   "execution_count": 8,
   "outputs": [
    {
     "name": "stderr",
     "output_type": "stream",
     "text": [
      "=================== System Info ===================\n",
      "AutoGluon Version:  1.0.0\n",
      "Python Version:     3.10.11\n",
      "Operating System:   Windows\n",
      "Platform Machine:   AMD64\n",
      "Platform Version:   10.0.19045\n",
      "CPU Count:          8\n",
      "Pytorch Version:    2.0.1+cpu\n",
      "CUDA Version:       CUDA is not available\n",
      "Memory Avail:       13.56 GB / 31.85 GB (42.6%)\n",
      "Disk Space Avail:   776.77 GB / 940.03 GB (82.6%)\n",
      "===================================================\n",
      "AutoGluon infers your prediction problem is: 'multiclass' (because dtype of label-column == int, but few unique label-values observed).\n",
      "\tFirst 10 (of 48) unique label values:  [0, 1, 3, 2, 4, 6, 11, 5, 12, 14]\n",
      "\tIf 'multiclass' is not the correct problem_type, please manually specify the problem_type parameter during predictor init (You may specify problem_type as one of: ['binary', 'multiclass', 'regression'])\n",
      "\n",
      "AutoMM starts to create your model. ✨✨✨\n",
      "\n",
      "To track the learning progress, you can open a terminal and launch Tensorboard:\n",
      "    ```shell\n",
      "    # Assume you have installed tensorboard\n",
      "    tensorboard --logdir C:\\Users\\alcarachin\\Desktop\\autoML_test\\caltech_test\\autogloun_model\n",
      "    ```\n",
      "\n",
      "Global seed set to 0\n",
      "GPU Count: 0\n",
      "GPU Count to be Used: 0\n",
      "\n",
      "C:\\Users\\alcarachin\\Desktop\\autoML_test\\venv\\lib\\site-packages\\autogluon\\multimodal\\utils\\environment.py:131: UserWarning: Only CPU is detected in the instance. This may result in slow speed for MultiModalPredictor. Consider using an instance with GPU support.\n",
      "  warnings.warn(\n",
      "GPU available: False, used: False\n",
      "TPU available: False, using: 0 TPU cores\n",
      "IPU available: False, using: 0 IPUs\n",
      "HPU available: False, using: 0 HPUs\n",
      "\n",
      "  | Name              | Type                            | Params\n",
      "----------------------------------------------------------------------\n",
      "0 | model             | TimmAutoModelForImagePrediction | 95.8 M\n",
      "1 | validation_metric | MulticlassAccuracy              | 0     \n",
      "2 | loss_func         | CrossEntropyLoss                | 0     \n",
      "----------------------------------------------------------------------\n",
      "95.8 M    Trainable params\n",
      "0         Non-trainable params\n",
      "95.8 M    Total params\n",
      "383.312   Total estimated model params size (MB)\n"
     ]
    },
    {
     "data": {
      "text/plain": "Sanity Checking: 0it [00:00, ?it/s]",
      "application/vnd.jupyter.widget-view+json": {
       "version_major": 2,
       "version_minor": 0,
       "model_id": "9863c5c95e05430b8436712379303bd6"
      }
     },
     "metadata": {},
     "output_type": "display_data"
    },
    {
     "data": {
      "text/plain": "Training: 0it [00:00, ?it/s]",
      "application/vnd.jupyter.widget-view+json": {
       "version_major": 2,
       "version_minor": 0,
       "model_id": "3b211b3fa1f64e9a90689af9743e25cc"
      }
     },
     "metadata": {},
     "output_type": "display_data"
    },
    {
     "data": {
      "text/plain": "Validation: 0it [00:00, ?it/s]",
      "application/vnd.jupyter.widget-view+json": {
       "version_major": 2,
       "version_minor": 0,
       "model_id": "dd347c94267e4d2296337e7e9ba5005f"
      }
     },
     "metadata": {},
     "output_type": "display_data"
    },
    {
     "name": "stderr",
     "output_type": "stream",
     "text": [
      "Epoch 0, global step 9: 'val_accuracy' reached 0.35200 (best 0.35200), saving model to 'C:\\\\Users\\\\alcarachin\\\\Desktop\\\\autoML_test\\\\caltech_test\\\\autogloun_model\\\\epoch=0-step=9.ckpt' as top 3\n"
     ]
    },
    {
     "data": {
      "text/plain": "Validation: 0it [00:00, ?it/s]",
      "application/vnd.jupyter.widget-view+json": {
       "version_major": 2,
       "version_minor": 0,
       "model_id": "d10d053469a44489897efeb807191421"
      }
     },
     "metadata": {},
     "output_type": "display_data"
    },
    {
     "name": "stderr",
     "output_type": "stream",
     "text": [
      "Epoch 0, global step 18: 'val_accuracy' reached 0.55000 (best 0.55000), saving model to 'C:\\\\Users\\\\alcarachin\\\\Desktop\\\\autoML_test\\\\caltech_test\\\\autogloun_model\\\\epoch=0-step=18.ckpt' as top 3\n"
     ]
    },
    {
     "data": {
      "text/plain": "Validation: 0it [00:00, ?it/s]",
      "application/vnd.jupyter.widget-view+json": {
       "version_major": 2,
       "version_minor": 0,
       "model_id": "d407ff0953004247a22c599736b8b8c5"
      }
     },
     "metadata": {},
     "output_type": "display_data"
    },
    {
     "name": "stderr",
     "output_type": "stream",
     "text": [
      "Epoch 1, global step 28: 'val_accuracy' reached 0.89400 (best 0.89400), saving model to 'C:\\\\Users\\\\alcarachin\\\\Desktop\\\\autoML_test\\\\caltech_test\\\\autogloun_model\\\\epoch=1-step=28.ckpt' as top 3\n"
     ]
    },
    {
     "data": {
      "text/plain": "Validation: 0it [00:00, ?it/s]",
      "application/vnd.jupyter.widget-view+json": {
       "version_major": 2,
       "version_minor": 0,
       "model_id": "36d4c436039e4697abe38e38f62b720b"
      }
     },
     "metadata": {},
     "output_type": "display_data"
    },
    {
     "name": "stderr",
     "output_type": "stream",
     "text": [
      "Epoch 1, global step 37: 'val_accuracy' reached 0.95000 (best 0.95000), saving model to 'C:\\\\Users\\\\alcarachin\\\\Desktop\\\\autoML_test\\\\caltech_test\\\\autogloun_model\\\\epoch=1-step=37.ckpt' as top 3\n",
      "Time limit reached. Elapsed time is 2:00:06. Signaling Trainer to stop.\n"
     ]
    },
    {
     "data": {
      "text/plain": "Validation: 0it [00:00, ?it/s]",
      "application/vnd.jupyter.widget-view+json": {
       "version_major": 2,
       "version_minor": 0,
       "model_id": "fe7deafb95424b369134333055069163"
      }
     },
     "metadata": {},
     "output_type": "display_data"
    },
    {
     "name": "stderr",
     "output_type": "stream",
     "text": [
      "Epoch 2, global step 39: 'val_accuracy' reached 0.95000 (best 0.95000), saving model to 'C:\\\\Users\\\\alcarachin\\\\Desktop\\\\autoML_test\\\\caltech_test\\\\autogloun_model\\\\epoch=2-step=39.ckpt' as top 3\n",
      "Start to fuse 3 checkpoints via the greedy soup algorithm.\n"
     ]
    },
    {
     "data": {
      "text/plain": "Predicting: 0it [00:00, ?it/s]",
      "application/vnd.jupyter.widget-view+json": {
       "version_major": 2,
       "version_minor": 0,
       "model_id": "d0ddaa41d516410c96cfa9f4e365004f"
      }
     },
     "metadata": {},
     "output_type": "display_data"
    },
    {
     "data": {
      "text/plain": "Predicting: 0it [00:00, ?it/s]",
      "application/vnd.jupyter.widget-view+json": {
       "version_major": 2,
       "version_minor": 0,
       "model_id": "2d5efb08fde145b59f446a6d56d4dd46"
      }
     },
     "metadata": {},
     "output_type": "display_data"
    },
    {
     "data": {
      "text/plain": "Predicting: 0it [00:00, ?it/s]",
      "application/vnd.jupyter.widget-view+json": {
       "version_major": 2,
       "version_minor": 0,
       "model_id": "9f2ca814f6e04c2b8eb16ae22d7422a6"
      }
     },
     "metadata": {},
     "output_type": "display_data"
    },
    {
     "name": "stderr",
     "output_type": "stream",
     "text": [
      "AutoMM has created your model. 🎉🎉🎉\n",
      "\n",
      "To load the model, use the code below:\n",
      "    ```python\n",
      "    from autogluon.multimodal import MultiModalPredictor\n",
      "    predictor = MultiModalPredictor.load(\"C:\\Users\\alcarachin\\Desktop\\autoML_test\\caltech_test\\autogloun_model\")\n",
      "    ```\n",
      "\n",
      "If you are not satisfied with the model, try to increase the training time, \n",
      "adjust the hyperparameters (https://auto.gluon.ai/stable/tutorials/multimodal/advanced_topics/customization.html),\n",
      "or post issues on GitHub (https://github.com/autogluon/autogluon/issues).\n",
      "\n",
      "\n"
     ]
    },
    {
     "data": {
      "text/plain": "<autogluon.multimodal.predictor.MultiModalPredictor at 0x2363bd0aaa0>"
     },
     "execution_count": 8,
     "metadata": {},
     "output_type": "execute_result"
    }
   ],
   "source": [
    "model_path = f\"./autogloun_model/\"\n",
    "predictor = MultiModalPredictor(label=\"label\", path=model_path)\n",
    "predictor.fit(\n",
    "    train_data=train_df,\n",
    "    time_limit=7200,\n",
    ")"
   ],
   "metadata": {
    "collapsed": false,
    "ExecuteTime": {
     "end_time": "2024-02-19T12:06:23.305151400Z",
     "start_time": "2024-02-19T09:49:04.172699700Z"
    }
   },
   "id": "e82bf7266e9171cb"
  },
  {
   "cell_type": "code",
   "execution_count": 9,
   "outputs": [
    {
     "data": {
      "text/plain": "Predicting: 0it [00:00, ?it/s]",
      "application/vnd.jupyter.widget-view+json": {
       "version_major": 2,
       "version_minor": 0,
       "model_id": "de33428130374e738a7c6269cc8f47db"
      }
     },
     "metadata": {},
     "output_type": "display_data"
    },
    {
     "name": "stdout",
     "output_type": "stream",
     "text": [
      "Top-1 test acc: 0.956\n"
     ]
    }
   ],
   "source": [
    "scores = predictor.evaluate(val_df, metrics=[\"accuracy\"])\n",
    "print('Top-1 test acc: %.3f' % scores[\"accuracy\"])"
   ],
   "metadata": {
    "collapsed": false,
    "ExecuteTime": {
     "end_time": "2024-02-19T12:29:22.901663800Z",
     "start_time": "2024-02-19T12:06:59.885735300Z"
    }
   },
   "id": "cad8c084e8bbc635"
  },
  {
   "cell_type": "code",
   "execution_count": 13,
   "outputs": [
    {
     "data": {
      "text/plain": "Predicting: 0it [00:00, ?it/s]",
      "application/vnd.jupyter.widget-view+json": {
       "version_major": 2,
       "version_minor": 0,
       "model_id": "8e17531cc87343c4b055ce6a4031f601"
      }
     },
     "metadata": {},
     "output_type": "display_data"
    },
    {
     "data": {
      "text/plain": "100    1\n101    1\n102    1\n103    1\n104    1\nName: label, dtype: int64"
     },
     "execution_count": 13,
     "metadata": {},
     "output_type": "execute_result"
    }
   ],
   "source": [
    "predictor.predict(val_df[100:105])"
   ],
   "metadata": {
    "collapsed": false,
    "ExecuteTime": {
     "end_time": "2024-02-19T14:13:59.200245900Z",
     "start_time": "2024-02-19T14:13:35.275369200Z"
    }
   },
   "id": "f4ee6cd5333a3f25"
  },
  {
   "cell_type": "code",
   "execution_count": null,
   "outputs": [],
   "source": [
    "import shap\n",
    "import matplotlib.pyplot as plt\n",
    "import pandas as pd\n",
    "\n",
    "def wrapped_model(x):\n",
    "    x = pd.DataFrame(x)\n",
    "    preds = predictor.predict(x).to_numpy()\n",
    "        \n",
    "    return preds\n",
    "\n",
    "test_data = TabularDataset('Test.csv')\n",
    "\n",
    "to_be_explained = pd.DataFrame(test_data).drop('label', axis=1).to_numpy()[0]\n",
    "explainer = shap.KernelExplainer(wrapped_model, pd.read_csv('./Train.csv').drop('label', axis=1).sample(n=100))\n",
    "shap_values = explainer.shap_values(to_be_explained)\n",
    "relevance = abs(shap_values.ravel())"
   ],
   "metadata": {
    "collapsed": false
   },
   "id": "efa5d42bc14bd731"
  }
 ],
 "metadata": {
  "authors": [],
  "date": "",
  "title": "Allegato D: Autogloun test for Image Classification (Caltech dataset)",
  "kernelspec": {
   "display_name": "Python 3",
   "language": "python",
   "name": "python3"
  },
  "language_info": {
   "codemirror_mode": {
    "name": "ipython",
    "version": 2
   },
   "file_extension": ".py",
   "mimetype": "text/x-python",
   "name": "python",
   "nbconvert_exporter": "python",
   "pygments_lexer": "ipython2",
   "version": "2.7.6"
  }
 },
 "nbformat": 4,
 "nbformat_minor": 5
}
