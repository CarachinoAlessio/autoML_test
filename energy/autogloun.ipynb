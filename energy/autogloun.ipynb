{
 "cells": [
  {
   "cell_type": "code",
   "execution_count": 32,
   "id": "58e0d7686f02376d",
   "metadata": {
    "collapsed": false,
    "ExecuteTime": {
     "end_time": "2024-03-05T15:02:16.635537600Z",
     "start_time": "2024-03-05T15:02:16.587536Z"
    }
   },
   "outputs": [],
   "source": [
    "import os\n",
    "\n",
    "from autogluon.tabular import TabularDataset, TabularPredictor\n",
    "import pandas as pd\n",
    "import numpy as np"
   ]
  },
  {
   "cell_type": "code",
   "execution_count": 9,
   "id": "4a1cfdecddf06d0f",
   "metadata": {
    "collapsed": false,
    "ExecuteTime": {
     "end_time": "2024-03-05T14:23:28.461298300Z",
     "start_time": "2024-03-05T14:23:28.398366Z"
    }
   },
   "outputs": [
    {
     "data": {
      "text/plain": "     X1     X2     X3      X4   X5  X6   X7  X8\n0  0.98  514.5  294.0  110.25  7.0   2  0.0   0\n1  0.98  514.5  294.0  110.25  7.0   3  0.0   0\n2  0.98  514.5  294.0  110.25  7.0   4  0.0   0\n3  0.98  514.5  294.0  110.25  7.0   5  0.0   0\n4  0.90  563.5  318.5  122.50  7.0   2  0.0   0",
      "text/html": "<div>\n<style scoped>\n    .dataframe tbody tr th:only-of-type {\n        vertical-align: middle;\n    }\n\n    .dataframe tbody tr th {\n        vertical-align: top;\n    }\n\n    .dataframe thead th {\n        text-align: right;\n    }\n</style>\n<table border=\"1\" class=\"dataframe\">\n  <thead>\n    <tr style=\"text-align: right;\">\n      <th></th>\n      <th>X1</th>\n      <th>X2</th>\n      <th>X3</th>\n      <th>X4</th>\n      <th>X5</th>\n      <th>X6</th>\n      <th>X7</th>\n      <th>X8</th>\n    </tr>\n  </thead>\n  <tbody>\n    <tr>\n      <th>0</th>\n      <td>0.98</td>\n      <td>514.5</td>\n      <td>294.0</td>\n      <td>110.25</td>\n      <td>7.0</td>\n      <td>2</td>\n      <td>0.0</td>\n      <td>0</td>\n    </tr>\n    <tr>\n      <th>1</th>\n      <td>0.98</td>\n      <td>514.5</td>\n      <td>294.0</td>\n      <td>110.25</td>\n      <td>7.0</td>\n      <td>3</td>\n      <td>0.0</td>\n      <td>0</td>\n    </tr>\n    <tr>\n      <th>2</th>\n      <td>0.98</td>\n      <td>514.5</td>\n      <td>294.0</td>\n      <td>110.25</td>\n      <td>7.0</td>\n      <td>4</td>\n      <td>0.0</td>\n      <td>0</td>\n    </tr>\n    <tr>\n      <th>3</th>\n      <td>0.98</td>\n      <td>514.5</td>\n      <td>294.0</td>\n      <td>110.25</td>\n      <td>7.0</td>\n      <td>5</td>\n      <td>0.0</td>\n      <td>0</td>\n    </tr>\n    <tr>\n      <th>4</th>\n      <td>0.90</td>\n      <td>563.5</td>\n      <td>318.5</td>\n      <td>122.50</td>\n      <td>7.0</td>\n      <td>2</td>\n      <td>0.0</td>\n      <td>0</td>\n    </tr>\n  </tbody>\n</table>\n</div>"
     },
     "execution_count": 9,
     "metadata": {},
     "output_type": "execute_result"
    }
   ],
   "source": [
    "from sklearn.model_selection import train_test_split\n",
    "\n",
    "df = pd.read_csv('ENB2012_data.csv')\n",
    "y_columns = [\"Y1\", \"Y2\"]\n",
    "x_columns = [x for x in df.columns if x not in y_columns]\n",
    "data_x = df[x_columns]\n",
    "data_y = df[y_columns]\n",
    "data_x.head()\n"
   ]
  },
  {
   "cell_type": "code",
   "execution_count": 6,
   "outputs": [
    {
     "data": {
      "text/plain": "      Y1     Y2\n0  15.55  21.33\n1  15.55  21.33\n2  15.55  21.33\n3  15.55  21.33\n4  20.84  28.28",
      "text/html": "<div>\n<style scoped>\n    .dataframe tbody tr th:only-of-type {\n        vertical-align: middle;\n    }\n\n    .dataframe tbody tr th {\n        vertical-align: top;\n    }\n\n    .dataframe thead th {\n        text-align: right;\n    }\n</style>\n<table border=\"1\" class=\"dataframe\">\n  <thead>\n    <tr style=\"text-align: right;\">\n      <th></th>\n      <th>Y1</th>\n      <th>Y2</th>\n    </tr>\n  </thead>\n  <tbody>\n    <tr>\n      <th>0</th>\n      <td>15.55</td>\n      <td>21.33</td>\n    </tr>\n    <tr>\n      <th>1</th>\n      <td>15.55</td>\n      <td>21.33</td>\n    </tr>\n    <tr>\n      <th>2</th>\n      <td>15.55</td>\n      <td>21.33</td>\n    </tr>\n    <tr>\n      <th>3</th>\n      <td>15.55</td>\n      <td>21.33</td>\n    </tr>\n    <tr>\n      <th>4</th>\n      <td>20.84</td>\n      <td>28.28</td>\n    </tr>\n  </tbody>\n</table>\n</div>"
     },
     "execution_count": 6,
     "metadata": {},
     "output_type": "execute_result"
    }
   ],
   "source": [
    "data_y.head()"
   ],
   "metadata": {
    "collapsed": false,
    "ExecuteTime": {
     "end_time": "2024-03-05T14:21:13.031772800Z",
     "start_time": "2024-03-05T14:21:12.970854600Z"
    }
   },
   "id": "788ed666091616b"
  },
  {
   "cell_type": "code",
   "execution_count": 26,
   "outputs": [],
   "source": [
    "train_x, test_x, train_y, test_y = train_test_split(data_x, data_y, test_size=0.2, random_state=42)"
   ],
   "metadata": {
    "collapsed": false,
    "ExecuteTime": {
     "end_time": "2024-03-05T14:42:16.168349100Z",
     "start_time": "2024-03-05T14:42:16.126352Z"
    }
   },
   "id": "30518dfc3c57bb79"
  },
  {
   "cell_type": "code",
   "execution_count": 27,
   "outputs": [],
   "source": [
    "num_input = len(x_columns)\n",
    "num_output = len(y_columns)"
   ],
   "metadata": {
    "collapsed": false,
    "ExecuteTime": {
     "end_time": "2024-03-05T14:42:17.314633600Z",
     "start_time": "2024-03-05T14:42:17.287885300Z"
    }
   },
   "id": "62c80196c659e112"
  },
  {
   "cell_type": "code",
   "execution_count": 30,
   "outputs": [
    {
     "name": "stderr",
     "output_type": "stream",
     "text": [
      "No presets specified! To achieve strong results with AutoGluon, it is recommended to use the available presets.\n",
      "\tRecommended Presets (For more details refer to https://auto.gluon.ai/stable/tutorials/tabular/tabular-essentials.html#presets):\n",
      "\tpresets='best_quality'   : Maximize accuracy. Default time_limit=3600.\n",
      "\tpresets='high_quality'   : Strong accuracy with fast inference speed. Default time_limit=3600.\n",
      "\tpresets='good_quality'   : Good accuracy with very fast inference speed. Default time_limit=3600.\n",
      "\tpresets='medium_quality' : Fast training time, ideal for initial prototyping.\n",
      "Beginning AutoGluon training ...\n",
      "AutoGluon will save models to \"./autogluon_models/model_0\"\n",
      "=================== System Info ===================\n",
      "AutoGluon Version:  1.0.0\n",
      "Python Version:     3.10.11\n",
      "Operating System:   Windows\n",
      "Platform Machine:   AMD64\n",
      "Platform Version:   10.0.19045\n",
      "CPU Count:          8\n",
      "Memory Avail:       13.19 GB / 31.85 GB (41.4%)\n",
      "Disk Space Avail:   760.69 GB / 940.03 GB (80.9%)\n",
      "===================================================\n",
      "Train Data Rows:    614\n",
      "Train Data Columns: 8\n",
      "Label Column:       Y1\n",
      "Problem Type:       regression\n",
      "Preprocessing data ...\n",
      "Using Feature Generators to preprocess the data ...\n",
      "Fitting AutoMLPipelineFeatureGenerator...\n",
      "\tAvailable Memory:                    13501.54 MB\n",
      "\tTrain Data (Original)  Memory Usage: 0.04 MB (0.0% of available memory)\n",
      "\tInferring data type of each feature based on column values. Set feature_metadata_in to manually specify special dtypes of the features.\n",
      "\tStage 1 Generators:\n",
      "\t\tFitting AsTypeFeatureGenerator...\n",
      "\t\t\tNote: Converting 1 features to boolean dtype as they only contain 2 unique values.\n",
      "\tStage 2 Generators:\n",
      "\t\tFitting FillNaFeatureGenerator...\n",
      "\tStage 3 Generators:\n",
      "\t\tFitting IdentityFeatureGenerator...\n",
      "\tStage 4 Generators:\n",
      "\t\tFitting DropUniqueFeatureGenerator...\n",
      "\tStage 5 Generators:\n",
      "\t\tFitting DropDuplicatesFeatureGenerator...\n",
      "\tTypes of features in original data (raw dtype, special dtypes):\n",
      "\t\t('float', []) : 6 | ['X1', 'X2', 'X3', 'X4', 'X5', ...]\n",
      "\t\t('int', [])   : 2 | ['X6', 'X8']\n",
      "\tTypes of features in processed data (raw dtype, special dtypes):\n",
      "\t\t('float', [])     : 5 | ['X1', 'X2', 'X3', 'X4', 'X7']\n"
     ]
    },
    {
     "name": "stdout",
     "output_type": "stream",
     "text": [
      "Training for output #0\n"
     ]
    },
    {
     "name": "stderr",
     "output_type": "stream",
     "text": [
      "\t\t('int', [])       : 2 | ['X6', 'X8']\n",
      "\t\t('int', ['bool']) : 1 | ['X5']\n",
      "\t0.1s = Fit runtime\n",
      "\t8 features in original data used to generate 8 features in processed data.\n",
      "\tTrain Data (Processed) Memory Usage: 0.03 MB (0.0% of available memory)\n",
      "Data preprocessing and feature engineering runtime = 0.13s ...\n",
      "AutoGluon will gauge predictive performance using evaluation metric: 'mean_squared_error'\n",
      "\tThis metric's sign has been flipped to adhere to being higher_is_better. The metric score can be multiplied by -1 to get the metric value.\n",
      "\tTo change this, specify the eval_metric parameter of Predictor()\n",
      "Automatically generating train/validation split with holdout_frac=0.2, Train Rows: 491, Val Rows: 123\n",
      "User-specified model hyperparameters to be fit:\n",
      "{\n",
      "\t'NN_TORCH': {},\n",
      "\t'GBM': [{'extra_trees': True, 'ag_args': {'name_suffix': 'XT'}}, {}, 'GBMLarge'],\n",
      "\t'CAT': {},\n",
      "\t'XGB': {},\n",
      "\t'FASTAI': {},\n",
      "\t'RF': [{'criterion': 'gini', 'ag_args': {'name_suffix': 'Gini', 'problem_types': ['binary', 'multiclass']}}, {'criterion': 'entropy', 'ag_args': {'name_suffix': 'Entr', 'problem_types': ['binary', 'multiclass']}}, {'criterion': 'squared_error', 'ag_args': {'name_suffix': 'MSE', 'problem_types': ['regression', 'quantile']}}],\n",
      "\t'XT': [{'criterion': 'gini', 'ag_args': {'name_suffix': 'Gini', 'problem_types': ['binary', 'multiclass']}}, {'criterion': 'entropy', 'ag_args': {'name_suffix': 'Entr', 'problem_types': ['binary', 'multiclass']}}, {'criterion': 'squared_error', 'ag_args': {'name_suffix': 'MSE', 'problem_types': ['regression', 'quantile']}}],\n",
      "\t'KNN': [{'weights': 'uniform', 'ag_args': {'name_suffix': 'Unif'}}, {'weights': 'distance', 'ag_args': {'name_suffix': 'Dist'}}],\n",
      "}\n",
      "Fitting 11 L1 models ...\n",
      "Fitting model: KNeighborsUnif ...\n",
      "\t-7.1429\t = Validation score   (-mean_squared_error)\n",
      "\t7.41s\t = Training   runtime\n",
      "\t0.04s\t = Validation runtime\n",
      "Fitting model: KNeighborsDist ...\n",
      "\t-9.0181\t = Validation score   (-mean_squared_error)\n",
      "\t0.01s\t = Training   runtime\n",
      "\t0.03s\t = Validation runtime\n",
      "Fitting model: LightGBMXT ...\n",
      "\t-1.7983\t = Validation score   (-mean_squared_error)\n",
      "\t1.31s\t = Training   runtime\n",
      "\t0.0s\t = Validation runtime\n",
      "Fitting model: LightGBM ...\n"
     ]
    },
    {
     "name": "stdout",
     "output_type": "stream",
     "text": [
      "[1000]\tvalid_set's l2: 0.221524\n",
      "[2000]\tvalid_set's l2: 0.195006\n"
     ]
    },
    {
     "name": "stderr",
     "output_type": "stream",
     "text": [
      "\t-0.1936\t = Validation score   (-mean_squared_error)\n",
      "\t2.68s\t = Training   runtime\n",
      "\t0.01s\t = Validation runtime\n",
      "Fitting model: RandomForestMSE ...\n",
      "\t-0.3673\t = Validation score   (-mean_squared_error)\n",
      "\t1.17s\t = Training   runtime\n",
      "\t0.08s\t = Validation runtime\n",
      "Fitting model: CatBoost ...\n",
      "\t-0.1482\t = Validation score   (-mean_squared_error)\n",
      "\t10.29s\t = Training   runtime\n",
      "\t0.0s\t = Validation runtime\n",
      "Fitting model: ExtraTreesMSE ...\n",
      "\t-0.3213\t = Validation score   (-mean_squared_error)\n",
      "\t0.61s\t = Training   runtime\n",
      "\t0.06s\t = Validation runtime\n",
      "Fitting model: NeuralNetFastAI ...\n",
      "\tWarning: Exception caused NeuralNetFastAI to fail during training... Skipping this model.\n",
      "\t\tException occured in `AgSaveModelCallback` when calling event `after_epoch`:\n",
      "\tFile C:\\Users\\ALCARA~1\\AppData\\Local\\Temp\\tmp7v9ry0lb\\models\\model.pth cannot be opened.\n",
      "Detailed Traceback:\n",
      "Traceback (most recent call last):\n",
      "  File \"C:\\Users\\alcarachin\\Desktop\\autoML_test\\venv\\lib\\site-packages\\autogluon\\core\\trainer\\abstract_trainer.py\", line 1817, in _train_and_save\n",
      "    model = self._train_single(X, y, model, X_val, y_val, total_resources=total_resources, **model_fit_kwargs)\n",
      "  File \"C:\\Users\\alcarachin\\Desktop\\autoML_test\\venv\\lib\\site-packages\\autogluon\\core\\trainer\\abstract_trainer.py\", line 1763, in _train_single\n",
      "    model = model.fit(X=X, y=y, X_val=X_val, y_val=y_val, total_resources=total_resources, **model_fit_kwargs)\n",
      "  File \"C:\\Users\\alcarachin\\Desktop\\autoML_test\\venv\\lib\\site-packages\\autogluon\\core\\models\\abstract\\abstract_model.py\", line 854, in fit\n",
      "    out = self._fit(**kwargs)\n",
      "  File \"C:\\Users\\alcarachin\\Desktop\\autoML_test\\venv\\lib\\site-packages\\autogluon\\tabular\\models\\fastainn\\tabular_nn_fastai.py\", line 354, in _fit\n",
      "    self.model.fit_one_cycle(epochs, params[\"lr\"], cbs=callbacks)\n",
      "  File \"C:\\Users\\alcarachin\\Desktop\\autoML_test\\venv\\lib\\site-packages\\fastai\\callback\\schedule.py\", line 119, in fit_one_cycle\n",
      "    self.fit(n_epoch, cbs=ParamScheduler(scheds)+L(cbs), reset_opt=reset_opt, wd=wd, start_epoch=start_epoch)\n",
      "  File \"C:\\Users\\alcarachin\\Desktop\\autoML_test\\venv\\lib\\site-packages\\fastai\\learner.py\", line 264, in fit\n",
      "    self._with_events(self._do_fit, 'fit', CancelFitException, self._end_cleanup)\n",
      "  File \"C:\\Users\\alcarachin\\Desktop\\autoML_test\\venv\\lib\\site-packages\\fastai\\learner.py\", line 199, in _with_events\n",
      "    try: self(f'before_{event_type}');  f()\n",
      "  File \"C:\\Users\\alcarachin\\Desktop\\autoML_test\\venv\\lib\\site-packages\\fastai\\learner.py\", line 253, in _do_fit\n",
      "    self._with_events(self._do_epoch, 'epoch', CancelEpochException)\n",
      "  File \"C:\\Users\\alcarachin\\Desktop\\autoML_test\\venv\\lib\\site-packages\\fastai\\learner.py\", line 201, in _with_events\n",
      "    self(f'after_{event_type}');  final()\n",
      "  File \"C:\\Users\\alcarachin\\Desktop\\autoML_test\\venv\\lib\\site-packages\\fastai\\learner.py\", line 172, in __call__\n",
      "    def __call__(self, event_name): L(event_name).map(self._call_one)\n",
      "  File \"C:\\Users\\alcarachin\\Desktop\\autoML_test\\venv\\lib\\site-packages\\fastcore\\foundation.py\", line 156, in map\n",
      "    def map(self, f, *args, **kwargs): return self._new(map_ex(self, f, *args, gen=False, **kwargs))\n",
      "  File \"C:\\Users\\alcarachin\\Desktop\\autoML_test\\venv\\lib\\site-packages\\fastcore\\basics.py\", line 840, in map_ex\n",
      "    return list(res)\n",
      "  File \"C:\\Users\\alcarachin\\Desktop\\autoML_test\\venv\\lib\\site-packages\\fastcore\\basics.py\", line 825, in __call__\n",
      "    return self.func(*fargs, **kwargs)\n",
      "  File \"C:\\Users\\alcarachin\\Desktop\\autoML_test\\venv\\lib\\site-packages\\fastai\\learner.py\", line 176, in _call_one\n",
      "    for cb in self.cbs.sorted('order'): cb(event_name)\n",
      "  File \"C:\\Users\\alcarachin\\Desktop\\autoML_test\\venv\\lib\\site-packages\\fastai\\callback\\core.py\", line 62, in __call__\n",
      "    except Exception as e: raise modify_exception(e, f'Exception occured in `{self.__class__.__name__}` when calling event `{event_name}`:\\n\\t{e.args[0]}', replace=True)\n",
      "  File \"C:\\Users\\alcarachin\\Desktop\\autoML_test\\venv\\lib\\site-packages\\fastai\\callback\\core.py\", line 60, in __call__\n",
      "    try: res = getcallable(self, event_name)()\n",
      "  File \"C:\\Users\\alcarachin\\Desktop\\autoML_test\\venv\\lib\\site-packages\\autogluon\\tabular\\models\\fastainn\\callbacks.py\", line 111, in after_epoch\n",
      "    self._save(f\"{self.fname}\")\n",
      "  File \"C:\\Users\\alcarachin\\Desktop\\autoML_test\\venv\\lib\\site-packages\\autogluon\\tabular\\models\\fastainn\\callbacks.py\", line 95, in _save\n",
      "    self.last_saved_path = self.learn.save(name, with_opt=self.with_opt)\n",
      "  File \"C:\\Users\\alcarachin\\Desktop\\autoML_test\\venv\\lib\\site-packages\\fastai\\learner.py\", line 408, in save\n",
      "    save_model(file, self.model, getattr(self,'opt',None), **kwargs)\n",
      "  File \"C:\\Users\\alcarachin\\Desktop\\autoML_test\\venv\\lib\\site-packages\\fastai\\learner.py\", line 44, in save_model\n",
      "    torch.save(state, file, pickle_protocol=pickle_protocol, **torch_save_kwargs)\n",
      "  File \"C:\\Users\\alcarachin\\Desktop\\autoML_test\\venv\\lib\\site-packages\\torch\\serialization.py\", line 440, in save\n",
      "    with _open_zipfile_writer(f) as opened_zipfile:\n",
      "  File \"C:\\Users\\alcarachin\\Desktop\\autoML_test\\venv\\lib\\site-packages\\torch\\serialization.py\", line 315, in _open_zipfile_writer\n",
      "    return container(name_or_buffer)\n",
      "  File \"C:\\Users\\alcarachin\\Desktop\\autoML_test\\venv\\lib\\site-packages\\torch\\serialization.py\", line 288, in __init__\n",
      "    super().__init__(torch._C.PyTorchFileWriter(str(name)))\n",
      "RuntimeError: Exception occured in `AgSaveModelCallback` when calling event `after_epoch`:\n",
      "\tFile C:\\Users\\ALCARA~1\\AppData\\Local\\Temp\\tmp7v9ry0lb\\models\\model.pth cannot be opened.\n",
      "Fitting model: XGBoost ...\n",
      "\t-0.1691\t = Validation score   (-mean_squared_error)\n",
      "\t0.73s\t = Training   runtime\n",
      "\t0.0s\t = Validation runtime\n",
      "Fitting model: NeuralNetTorch ...\n",
      "\t-0.4836\t = Validation score   (-mean_squared_error)\n",
      "\t8.76s\t = Training   runtime\n",
      "\t0.0s\t = Validation runtime\n",
      "Fitting model: LightGBMLarge ...\n"
     ]
    },
    {
     "name": "stdout",
     "output_type": "stream",
     "text": [
      "[1000]\tvalid_set's l2: 0.246898\n"
     ]
    },
    {
     "name": "stderr",
     "output_type": "stream",
     "text": [
      "\t-0.246\t = Validation score   (-mean_squared_error)\n",
      "\t2.05s\t = Training   runtime\n",
      "\t0.01s\t = Validation runtime\n",
      "Fitting model: WeightedEnsemble_L2 ...\n",
      "\tEnsemble Weights: {'CatBoost': 0.8, 'XGBoost': 0.118, 'LightGBM': 0.059, 'LightGBMXT': 0.024}\n",
      "\t-0.1463\t = Validation score   (-mean_squared_error)\n",
      "\t0.29s\t = Training   runtime\n",
      "\t0.0s\t = Validation runtime\n",
      "AutoGluon training complete, total runtime = 42.21s ... Best model: \"WeightedEnsemble_L2\"\n",
      "TabularPredictor saved. To load, use: predictor = TabularPredictor.load(\"./autogluon_models/model_0\")\n",
      "No presets specified! To achieve strong results with AutoGluon, it is recommended to use the available presets.\n",
      "\tRecommended Presets (For more details refer to https://auto.gluon.ai/stable/tutorials/tabular/tabular-essentials.html#presets):\n",
      "\tpresets='best_quality'   : Maximize accuracy. Default time_limit=3600.\n",
      "\tpresets='high_quality'   : Strong accuracy with fast inference speed. Default time_limit=3600.\n",
      "\tpresets='good_quality'   : Good accuracy with very fast inference speed. Default time_limit=3600.\n",
      "\tpresets='medium_quality' : Fast training time, ideal for initial prototyping.\n",
      "Beginning AutoGluon training ...\n",
      "AutoGluon will save models to \"./autogluon_models/model_1\"\n",
      "=================== System Info ===================\n",
      "AutoGluon Version:  1.0.0\n",
      "Python Version:     3.10.11\n",
      "Operating System:   Windows\n",
      "Platform Machine:   AMD64\n",
      "Platform Version:   10.0.19045\n",
      "CPU Count:          8\n",
      "Memory Avail:       12.83 GB / 31.85 GB (40.3%)\n",
      "Disk Space Avail:   760.65 GB / 940.03 GB (80.9%)\n",
      "===================================================\n",
      "Train Data Rows:    614\n",
      "Train Data Columns: 8\n",
      "Label Column:       Y2\n",
      "Problem Type:       regression\n",
      "Preprocessing data ...\n",
      "Using Feature Generators to preprocess the data ...\n",
      "Fitting AutoMLPipelineFeatureGenerator...\n",
      "\tAvailable Memory:                    13142.94 MB\n",
      "\tTrain Data (Original)  Memory Usage: 0.04 MB (0.0% of available memory)\n",
      "\tInferring data type of each feature based on column values. Set feature_metadata_in to manually specify special dtypes of the features.\n",
      "\tStage 1 Generators:\n",
      "\t\tFitting AsTypeFeatureGenerator...\n",
      "\t\t\tNote: Converting 1 features to boolean dtype as they only contain 2 unique values.\n",
      "\tStage 2 Generators:\n",
      "\t\tFitting FillNaFeatureGenerator...\n",
      "\tStage 3 Generators:\n",
      "\t\tFitting IdentityFeatureGenerator...\n",
      "\tStage 4 Generators:\n",
      "\t\tFitting DropUniqueFeatureGenerator...\n",
      "\tStage 5 Generators:\n"
     ]
    },
    {
     "name": "stdout",
     "output_type": "stream",
     "text": [
      "Training for output #1\n"
     ]
    },
    {
     "name": "stderr",
     "output_type": "stream",
     "text": [
      "\t\tFitting DropDuplicatesFeatureGenerator...\n",
      "\tTypes of features in original data (raw dtype, special dtypes):\n",
      "\t\t('float', []) : 6 | ['X1', 'X2', 'X3', 'X4', 'X5', ...]\n",
      "\t\t('int', [])   : 2 | ['X6', 'X8']\n",
      "\tTypes of features in processed data (raw dtype, special dtypes):\n",
      "\t\t('float', [])     : 5 | ['X1', 'X2', 'X3', 'X4', 'X7']\n",
      "\t\t('int', [])       : 2 | ['X6', 'X8']\n",
      "\t\t('int', ['bool']) : 1 | ['X5']\n",
      "\t0.1s = Fit runtime\n",
      "\t8 features in original data used to generate 8 features in processed data.\n",
      "\tTrain Data (Processed) Memory Usage: 0.03 MB (0.0% of available memory)\n",
      "Data preprocessing and feature engineering runtime = 0.15s ...\n",
      "AutoGluon will gauge predictive performance using evaluation metric: 'mean_squared_error'\n",
      "\tThis metric's sign has been flipped to adhere to being higher_is_better. The metric score can be multiplied by -1 to get the metric value.\n",
      "\tTo change this, specify the eval_metric parameter of Predictor()\n",
      "Automatically generating train/validation split with holdout_frac=0.2, Train Rows: 491, Val Rows: 123\n",
      "User-specified model hyperparameters to be fit:\n",
      "{\n",
      "\t'NN_TORCH': {},\n",
      "\t'GBM': [{'extra_trees': True, 'ag_args': {'name_suffix': 'XT'}}, {}, 'GBMLarge'],\n",
      "\t'CAT': {},\n",
      "\t'XGB': {},\n",
      "\t'FASTAI': {},\n",
      "\t'RF': [{'criterion': 'gini', 'ag_args': {'name_suffix': 'Gini', 'problem_types': ['binary', 'multiclass']}}, {'criterion': 'entropy', 'ag_args': {'name_suffix': 'Entr', 'problem_types': ['binary', 'multiclass']}}, {'criterion': 'squared_error', 'ag_args': {'name_suffix': 'MSE', 'problem_types': ['regression', 'quantile']}}],\n",
      "\t'XT': [{'criterion': 'gini', 'ag_args': {'name_suffix': 'Gini', 'problem_types': ['binary', 'multiclass']}}, {'criterion': 'entropy', 'ag_args': {'name_suffix': 'Entr', 'problem_types': ['binary', 'multiclass']}}, {'criterion': 'squared_error', 'ag_args': {'name_suffix': 'MSE', 'problem_types': ['regression', 'quantile']}}],\n",
      "\t'KNN': [{'weights': 'uniform', 'ag_args': {'name_suffix': 'Unif'}}, {'weights': 'distance', 'ag_args': {'name_suffix': 'Dist'}}],\n",
      "}\n",
      "Fitting 11 L1 models ...\n",
      "Fitting model: KNeighborsUnif ...\n",
      "\t-4.9361\t = Validation score   (-mean_squared_error)\n",
      "\t0.01s\t = Training   runtime\n",
      "\t0.03s\t = Validation runtime\n",
      "Fitting model: KNeighborsDist ...\n",
      "\t-5.5572\t = Validation score   (-mean_squared_error)\n",
      "\t0.01s\t = Training   runtime\n",
      "\t0.03s\t = Validation runtime\n",
      "Fitting model: LightGBMXT ...\n"
     ]
    },
    {
     "name": "stdout",
     "output_type": "stream",
     "text": [
      "[1000]\tvalid_set's l2: 2.65843\n"
     ]
    },
    {
     "name": "stderr",
     "output_type": "stream",
     "text": [
      "\t-2.6325\t = Validation score   (-mean_squared_error)\n",
      "\t1.45s\t = Training   runtime\n",
      "\t0.0s\t = Validation runtime\n",
      "Fitting model: LightGBM ...\n"
     ]
    },
    {
     "name": "stdout",
     "output_type": "stream",
     "text": [
      "[1000]\tvalid_set's l2: 0.829873\n",
      "[2000]\tvalid_set's l2: 0.693867\n",
      "[3000]\tvalid_set's l2: 0.675211\n",
      "[4000]\tvalid_set's l2: 0.665257\n",
      "[5000]\tvalid_set's l2: 0.664307\n",
      "[6000]\tvalid_set's l2: 0.65571\n",
      "[7000]\tvalid_set's l2: 0.654342\n",
      "[8000]\tvalid_set's l2: 0.648866\n",
      "[9000]\tvalid_set's l2: 0.647715\n",
      "[10000]\tvalid_set's l2: 0.645408\n"
     ]
    },
    {
     "name": "stderr",
     "output_type": "stream",
     "text": [
      "\t-0.6452\t = Validation score   (-mean_squared_error)\n",
      "\t8.34s\t = Training   runtime\n",
      "\t0.03s\t = Validation runtime\n",
      "Fitting model: RandomForestMSE ...\n",
      "\t-2.0157\t = Validation score   (-mean_squared_error)\n",
      "\t0.63s\t = Training   runtime\n",
      "\t0.06s\t = Validation runtime\n",
      "Fitting model: CatBoost ...\n",
      "\t-0.4566\t = Validation score   (-mean_squared_error)\n",
      "\t2.53s\t = Training   runtime\n",
      "\t0.0s\t = Validation runtime\n",
      "Fitting model: ExtraTreesMSE ...\n",
      "\t-2.1228\t = Validation score   (-mean_squared_error)\n",
      "\t0.59s\t = Training   runtime\n",
      "\t0.06s\t = Validation runtime\n",
      "Fitting model: NeuralNetFastAI ...\n",
      "\t-10.9477\t = Validation score   (-mean_squared_error)\n",
      "\t3.56s\t = Training   runtime\n",
      "\t0.01s\t = Validation runtime\n",
      "Fitting model: XGBoost ...\n",
      "\t-1.0054\t = Validation score   (-mean_squared_error)\n",
      "\t0.96s\t = Training   runtime\n",
      "\t0.0s\t = Validation runtime\n",
      "Fitting model: NeuralNetTorch ...\n",
      "\t-1.1189\t = Validation score   (-mean_squared_error)\n",
      "\t6.91s\t = Training   runtime\n",
      "\t0.0s\t = Validation runtime\n",
      "Fitting model: LightGBMLarge ...\n"
     ]
    },
    {
     "name": "stdout",
     "output_type": "stream",
     "text": [
      "[1000]\tvalid_set's l2: 0.609604\n",
      "[2000]\tvalid_set's l2: 0.597763\n",
      "[3000]\tvalid_set's l2: 0.596731\n"
     ]
    },
    {
     "name": "stderr",
     "output_type": "stream",
     "text": [
      "\t-0.5966\t = Validation score   (-mean_squared_error)\n",
      "\t4.53s\t = Training   runtime\n",
      "\t0.01s\t = Validation runtime\n",
      "Fitting model: WeightedEnsemble_L2 ...\n",
      "\tEnsemble Weights: {'CatBoost': 0.91, 'NeuralNetTorch': 0.08, 'ExtraTreesMSE': 0.01}\n",
      "\t-0.4508\t = Validation score   (-mean_squared_error)\n",
      "\t0.27s\t = Training   runtime\n",
      "\t0.0s\t = Validation runtime\n",
      "AutoGluon training complete, total runtime = 31.85s ... Best model: \"WeightedEnsemble_L2\"\n",
      "TabularPredictor saved. To load, use: predictor = TabularPredictor.load(\"./autogluon_models/model_1\")\n"
     ]
    }
   ],
   "source": [
    "train_mode = True\n",
    "if train_mode:\n",
    "    for i in range(num_output):\n",
    "        print(f\"Training for output #{i}\")\n",
    "        columns_names = x_columns + [y_columns[i]]\n",
    "        train = pd.concat([train_x, train_y[y_columns[i]]], axis=1)\n",
    "                \n",
    "        x = x_columns\n",
    "        y = y_columns[i]\n",
    "        label = y\n",
    "        model_path = f'./autogluon_models/model_{i}'\n",
    "        \n",
    "        predictor = TabularPredictor(label=label, problem_type='regression', eval_metric='mean_squared_error', path=model_path).fit(train, time_limit=None)"
   ],
   "metadata": {
    "collapsed": false,
    "ExecuteTime": {
     "end_time": "2024-03-05T14:45:06.294954100Z",
     "start_time": "2024-03-05T14:43:51.980802Z"
    }
   },
   "id": "5fea91fcbc4cecd5"
  },
  {
   "cell_type": "code",
   "execution_count": 33,
   "id": "dfba6a4205bcebdc",
   "metadata": {
    "collapsed": false,
    "ExecuteTime": {
     "end_time": "2024-03-05T15:02:22.095712100Z",
     "start_time": "2024-03-05T15:02:22.023713600Z"
    }
   },
   "outputs": [
    {
     "name": "stdout",
     "output_type": "stream",
     "text": [
      "Model 0 loaded\n",
      "Model 1 loaded\n"
     ]
    }
   ],
   "source": [
    "models = []\n",
    "for i in range(len(y_columns)):\n",
    "    model_path = model_path = f'./autogluon_models/model_{i}'\n",
    "    files = os.listdir(model_path)\n",
    "    label = y_columns[i]\n",
    "    \n",
    "    predictor = TabularPredictor.load(path=model_path)\n",
    "    models.append(predictor)\n",
    "    print(f'Model {i} loaded')"
   ]
  },
  {
   "cell_type": "code",
   "execution_count": 43,
   "outputs": [
    {
     "name": "stdout",
     "output_type": "stream",
     "text": [
      "--------------------------------------------------\n",
      "Testing for output #0\n",
      "mean_squared_error: -0.13730501904022688\n",
      "root_mean_squared_error: -0.3705469188108665\n",
      "mean_absolute_error: -0.2589197306199506\n",
      "r2: 0.9986826923387171\n",
      "pearsonr: 0.9993470077064329\n",
      "median_absolute_error: -0.17558017730712816\n",
      "--------------------------------------------------\n",
      "Testing for output #1\n",
      "mean_squared_error: -0.5425054770612614\n",
      "root_mean_squared_error: -0.7365497111948802\n",
      "mean_absolute_error: -0.491613530988817\n",
      "r2: 0.9941450285432246\n",
      "pearsonr: 0.9970713487148072\n",
      "median_absolute_error: -0.3158574676513668\n"
     ]
    }
   ],
   "source": [
    "for i in range(num_output):\n",
    "    print(f\"--------------------------------------------------\")\n",
    "    print(f\"Testing for output #{i}\")\n",
    "    columns_names = x_columns + [y_columns[i]]\n",
    "    test = pd.concat([test_x, test_y[y_columns[i]]], axis=1)\n",
    "            \n",
    "    x = x_columns\n",
    "    y = y_columns[i]\n",
    "    label = y\n",
    "    predictor = models[i]\n",
    "    \n",
    "    ev = predictor.evaluate(test)\n",
    "    for key in ev.keys():\n",
    "        print(f'{key}: {ev[key]}')"
   ],
   "metadata": {
    "collapsed": false,
    "ExecuteTime": {
     "end_time": "2024-03-05T15:31:05.557715400Z",
     "start_time": "2024-03-05T15:31:05.071717500Z"
    }
   },
   "id": "8795229ce66093a6"
  },
  {
   "cell_type": "code",
   "execution_count": 60,
   "outputs": [
    {
     "data": {
      "text/plain": "  0%|          | 0/1 [00:00<?, ?it/s]",
      "application/vnd.jupyter.widget-view+json": {
       "version_major": 2,
       "version_minor": 0,
       "model_id": "03875e98413744b191ce3e522889a16b"
      }
     },
     "metadata": {},
     "output_type": "display_data"
    },
    {
     "name": "stdout",
     "output_type": "stream",
     "text": [
      "[-3.27471356 -1.31963985  0.9585866  -1.52861751 -3.11142531 -0.30889316\n",
      "  2.12279501  0.0056044 ]\n"
     ]
    },
    {
     "data": {
      "text/plain": "Text(0.5, 1.0, 'SHAP Values for AutoGluon - output index 0')"
     },
     "execution_count": 60,
     "metadata": {},
     "output_type": "execute_result"
    },
    {
     "data": {
      "text/plain": "<Figure size 640x480 with 2 Axes>",
      "image/png": "[encoded data removed]"
     },
     "metadata": {},
     "output_type": "display_data"
    },
    {
     "data": {
      "text/plain": "<Figure size 1500x600 with 1 Axes>",
      "image/png": "[encoded data removed]"
     },
     "metadata": {},
     "output_type": "display_data"
    }
   ],
   "source": [
    "import shap\n",
    "import matplotlib.pyplot as plt\n",
    "\n",
    "np.random.seed(42)\n",
    "y_index_to_explain = 0\n",
    "predictor = models[y_index_to_explain] # I want to explain state estimation for node at index 0\n",
    "columns_names = x_columns + [y_columns[y_index_to_explain]]\n",
    "\n",
    "\n",
    "def wrapped_model(x):\n",
    "    x = pd.DataFrame(x, columns=train_x.columns)\n",
    "    preds = predictor.predict(x).to_numpy()\n",
    "    return preds\n",
    "\n",
    "to_be_explained = pd.DataFrame([test_x.iloc[0]], columns=test_x.columns)\n",
    "background = train_x.sample(n=100)\n",
    "explainer = shap.KernelExplainer(wrapped_model, background)\n",
    "shap_values = explainer.shap_values(to_be_explained)\n",
    "relevance = shap_values.ravel()\n",
    "\n",
    "\n",
    "norm_relevance = ((relevance - min(relevance)) / (max(relevance) - min(relevance)))\n",
    "\n",
    "print(relevance)\n",
    "plt.imshow(norm_relevance.reshape((2, 4)))\n",
    "plt.colorbar()\n",
    "\n",
    "x_positions = np.arange(len(relevance))\n",
    "plt.figure(figsize=(15,6))\n",
    "plt.bar(x_positions, relevance, color='green')\n",
    "plt.xlabel('Model input index')\n",
    "plt.ylabel('Contributions')\n",
    "plt.title(f'SHAP Values for AutoGluon - output index {y_index_to_explain}')"
   ],
   "metadata": {
    "collapsed": false,
    "ExecuteTime": {
     "end_time": "2024-03-05T16:16:47.523978300Z",
     "start_time": "2024-03-05T16:16:43.798981100Z"
    }
   },
   "id": "53fa8c49c9979333"
  },
  {
   "cell_type": "code",
   "execution_count": 61,
   "outputs": [
    {
     "name": "stdout",
     "output_type": "stream",
     "text": [
      "Intercept 20.93730024095695\n",
      "Prediction_local [18.16057287]\n",
      "Right: 15.842507\n",
      "[-3.72850716 -1.51503709  1.76095019 -3.15093772  0.01794391 -0.18335908\n",
      "  3.29755957  0.72466002]\n"
     ]
    },
    {
     "data": {
      "text/plain": "Text(0.5, 1.0, 'LIME for AutoGluon - output index 0')"
     },
     "execution_count": 61,
     "metadata": {},
     "output_type": "execute_result"
    },
    {
     "data": {
      "text/plain": "<Figure size 640x480 with 2 Axes>",
      "image/png": "[encoded data removed]"
     },
     "metadata": {},
     "output_type": "display_data"
    },
    {
     "data": {
      "text/plain": "<Figure size 1500x600 with 1 Axes>",
      "image/png": "[encoded data removed]"
     },
     "metadata": {},
     "output_type": "display_data"
    }
   ],
   "source": [
    "import lime.lime_tabular\n",
    "import numpy as np\n",
    "import matplotlib.pyplot as plt\n",
    "import pandas as pd\n",
    "\n",
    "np.random.seed(42)\n",
    "y_index_to_explain = 0\n",
    "predictor = models[y_index_to_explain] # I want to explain state estimation for node at index 0\n",
    "columns_names = x_columns + [y_columns[y_index_to_explain]]\n",
    "\n",
    "def wrapped_net(x):\n",
    "    x = pd.DataFrame(x, columns=train_x.columns)\n",
    "    preds = predictor.predict(x).to_numpy()\n",
    "    return preds\n",
    "\n",
    "to_be_explained = pd.DataFrame([test_x.iloc[0]], columns=test_x.columns).to_numpy().ravel()\n",
    "background = train_x.sample(n=100).to_numpy()\n",
    "\n",
    "explainer = lime.lime_tabular.LimeTabularExplainer(\n",
    "    background,\n",
    "    feature_names=x_columns,\n",
    "    verbose=True,\n",
    "    mode='regression'\n",
    ")\n",
    "\n",
    "exp = explainer.explain_instance(to_be_explained, wrapped_net, num_features=num_input)\n",
    "# exp.save_to_file('lime_explanationall.html')\n",
    "# relevance = abs(np.asarray([float(i) for i in exp.domain_mapper.feature_values]))\n",
    "relevance = np.asarray([j for i, j in sorted(exp.local_exp[1], key=lambda i: i[0])])\n",
    "\n",
    "\n",
    "perc_relevance = 100 * relevance / sum(relevance)\n",
    "# relevance = exp.local_exp[1]\n",
    "norm_relevance = ((relevance - min(relevance)) / (max(relevance) - min(relevance)))\n",
    "\n",
    "\n",
    "print(relevance)\n",
    "plt.imshow(norm_relevance.reshape((2, 4)))\n",
    "plt.colorbar()\n",
    "\n",
    "x_positions = np.arange(len(relevance))\n",
    "plt.figure(figsize=(15,6))\n",
    "plt.bar(x_positions, relevance, color='green')\n",
    "plt.xlabel('Model input index')\n",
    "plt.ylabel('Contributions')\n",
    "plt.title(f'LIME for AutoGluon - output index {y_index_to_explain}')\n",
    "#plt.xticks(x_positions, ['A', 'B', 'C', 'D', 'E'])"
   ],
   "metadata": {
    "collapsed": false,
    "ExecuteTime": {
     "end_time": "2024-03-05T16:17:03.713994Z",
     "start_time": "2024-03-05T16:17:01.911994800Z"
    }
   },
   "id": "560f722e3a940959"
  },
  {
   "cell_type": "code",
   "execution_count": null,
   "outputs": [],
   "source": [],
   "metadata": {
    "collapsed": false
   },
   "id": "109f45bf49d7a772"
  }
 ],
 "metadata": {
  "authors": [],
  "date": "",
  "title": "Allegato A: Autogloun test for gender detection",
  "kernelspec": {
   "display_name": "Python 3",
   "language": "python",
   "name": "python3"
  },
  "language_info": {
   "codemirror_mode": {
    "name": "ipython",
    "version": 2
   },
   "file_extension": ".py",
   "mimetype": "text/x-python",
   "name": "python",
   "nbconvert_exporter": "python",
   "pygments_lexer": "ipython2",
   "version": "2.7.6"
  }
 },
 "nbformat": 4,
 "nbformat_minor": 5
}
