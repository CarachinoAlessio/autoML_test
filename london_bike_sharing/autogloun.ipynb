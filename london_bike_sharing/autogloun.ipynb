{
 "cells": [
  {
   "cell_type": "code",
   "execution_count": 1,
   "id": "58e0d7686f02376d",
   "metadata": {
    "collapsed": false,
    "ExecuteTime": {
     "end_time": "2024-02-28T15:52:53.134864800Z",
     "start_time": "2024-02-28T15:52:29.617865500Z"
    }
   },
   "outputs": [],
   "source": [
    "from autogluon.tabular import TabularDataset, TabularPredictor"
   ]
  },
  {
   "cell_type": "code",
   "execution_count": 2,
   "id": "30518dfc3c57bb79",
   "metadata": {
    "collapsed": false,
    "ExecuteTime": {
     "end_time": "2024-02-28T15:55:48.007551600Z",
     "start_time": "2024-02-28T15:55:47.860286300Z"
    }
   },
   "outputs": [
    {
     "data": {
      "text/plain": "count    13060.000000\nmean      1139.233844\nstd       1083.850522\nmin          0.000000\n25%        257.000000\n50%        837.000000\n75%       1664.250000\nmax       7860.000000\nName: cnt, dtype: float64"
     },
     "execution_count": 2,
     "metadata": {},
     "output_type": "execute_result"
    }
   ],
   "source": [
    "from sklearn.model_selection import train_test_split\n",
    "\n",
    "data = TabularDataset('data.csv')\n",
    "train_data, test_data = train_test_split(data, random_state=1)\n",
    "\n",
    "train_data.head()\n",
    "\n",
    "label = 'cnt'\n",
    "train_data[label].describe()"
   ]
  },
  {
   "cell_type": "code",
   "execution_count": 15,
   "id": "dfba6a4205bcebdc",
   "metadata": {
    "collapsed": false,
    "ExecuteTime": {
     "end_time": "2024-02-27T15:54:48.297422500Z",
     "start_time": "2024-02-27T15:54:48.226424400Z"
    }
   },
   "outputs": [
    {
     "data": {
      "text/plain": "count    13931.000000\nmean      1140.577274\nstd       1081.964648\nmin          0.000000\n25%        259.000000\n50%        842.000000\n75%       1663.000000\nmax       7860.000000\nName: cnt, dtype: float64"
     },
     "execution_count": 15,
     "metadata": {},
     "output_type": "execute_result"
    }
   ],
   "source": [
    "predictor = TabularPredictor(label=label).fit(train_data)"
   ]
  },
  {
   "cell_type": "code",
   "execution_count": 3,
   "outputs": [],
   "source": [
    "predictor = TabularPredictor.load(\"./autogloun_model/\")"
   ],
   "metadata": {
    "collapsed": false,
    "ExecuteTime": {
     "end_time": "2024-02-28T15:55:59.605750300Z",
     "start_time": "2024-02-28T15:55:59.517754800Z"
    }
   },
   "id": "b7014ee3327dcfd8"
  },
  {
   "cell_type": "code",
   "execution_count": 4,
   "id": "219c26018c7fbeef",
   "metadata": {
    "collapsed": false,
    "ExecuteTime": {
     "end_time": "2024-02-28T15:56:27.576540Z",
     "start_time": "2024-02-28T15:56:03.164937200Z"
    }
   },
   "outputs": [
    {
     "data": {
      "text/plain": "14999     727.184204\n5504     1056.075317\n10259    1249.485840\n15150    1785.752197\n345       201.123642\nName: cnt, dtype: float32"
     },
     "execution_count": 4,
     "metadata": {},
     "output_type": "execute_result"
    }
   ],
   "source": [
    "y_pred = predictor.predict(test_data.drop(columns=[label]))\n",
    "y_pred.head()"
   ]
  },
  {
   "cell_type": "code",
   "execution_count": 5,
   "id": "cd75517906b275bd",
   "metadata": {
    "collapsed": false,
    "ExecuteTime": {
     "end_time": "2024-02-28T15:56:28.503537800Z",
     "start_time": "2024-02-28T15:56:27.560539800Z"
    }
   },
   "outputs": [
    {
     "data": {
      "text/plain": "{'root_mean_squared_error': -831.1946741681302,\n 'mean_squared_error': -690884.5863654641,\n 'mean_absolute_error': -585.3470244839151,\n 'r2': 0.4172016926865758,\n 'pearsonr': 0.6484387217849894,\n 'median_absolute_error': -422.31573486328125}"
     },
     "execution_count": 5,
     "metadata": {},
     "output_type": "execute_result"
    }
   ],
   "source": [
    "predictor.evaluate(test_data, silent=True)"
   ]
  },
  {
   "cell_type": "code",
   "execution_count": 6,
   "id": "60df8f7f5872ed15",
   "metadata": {
    "collapsed": false,
    "ExecuteTime": {
     "end_time": "2024-02-28T15:56:30.639552400Z",
     "start_time": "2024-02-28T15:56:28.480209700Z"
    }
   },
   "outputs": [
    {
     "data": {
      "text/plain": "                  model  score_test   score_val              eval_metric  \\\n0   WeightedEnsemble_L2 -831.194674 -851.193578  root_mean_squared_error   \n1         ExtraTreesMSE -834.894921 -889.042982  root_mean_squared_error   \n2       RandomForestMSE -849.867244 -903.845828  root_mean_squared_error   \n3         LightGBMLarge -854.687917 -864.160039  root_mean_squared_error   \n4               XGBoost -862.286051 -862.676594  root_mean_squared_error   \n5       NeuralNetFastAI -865.317246 -862.007270  root_mean_squared_error   \n6            LightGBMXT -867.184388 -862.525423  root_mean_squared_error   \n7              CatBoost -867.430746 -862.014261  root_mean_squared_error   \n8              LightGBM -867.474643 -864.203128  root_mean_squared_error   \n9        NeuralNetTorch -900.914608 -888.359756  root_mean_squared_error   \n10       KNeighborsDist -931.167843 -985.836040  root_mean_squared_error   \n11       KNeighborsUnif -960.189218 -978.234814  root_mean_squared_error   \n\n    pred_time_test  pred_time_val   fit_time  pred_time_test_marginal  \\\n0         0.848012       0.248980  41.171174                 0.006000   \n1         0.582000       0.202999   4.401082                 0.582000   \n2         0.627000       0.186997   6.382169                 0.627000   \n3         0.034000       0.010999   1.474072                 0.034000   \n4         0.029998       0.005999   0.842525                 0.029998   \n5         0.138012       0.023000  15.598369                 0.138012   \n6         0.390996       0.013001   1.533518                 0.390996   \n7         0.052001       0.002981   1.606015                 0.052001   \n8         0.023000       0.006999   0.965998                 0.023000   \n9         0.040000       0.011000  18.416183                 0.040000   \n10        0.062003       0.034317   0.049004                 0.062003   \n11        0.056002       0.040998   0.054002                 0.056002   \n\n    pred_time_val_marginal  fit_time_marginal  stack_level  can_infer  \\\n0                 0.003001           0.307000            2       True   \n1                 0.202999           4.401082            1       True   \n2                 0.186997           6.382169            1       True   \n3                 0.010999           1.474072            1       True   \n4                 0.005999           0.842525            1       True   \n5                 0.023000          15.598369            1       True   \n6                 0.013001           1.533518            1       True   \n7                 0.002981           1.606015            1       True   \n8                 0.006999           0.965998            1       True   \n9                 0.011000          18.416183            1       True   \n10                0.034317           0.049004            1       True   \n11                0.040998           0.054002            1       True   \n\n    fit_order  \n0          12  \n1           7  \n2           5  \n3          11  \n4           9  \n5           8  \n6           3  \n7           6  \n8           4  \n9          10  \n10          2  \n11          1  ",
      "text/html": "<div>\n<style scoped>\n    .dataframe tbody tr th:only-of-type {\n        vertical-align: middle;\n    }\n\n    .dataframe tbody tr th {\n        vertical-align: top;\n    }\n\n    .dataframe thead th {\n        text-align: right;\n    }\n</style>\n<table border=\"1\" class=\"dataframe\">\n  <thead>\n    <tr style=\"text-align: right;\">\n      <th></th>\n      <th>model</th>\n      <th>score_test</th>\n      <th>score_val</th>\n      <th>eval_metric</th>\n      <th>pred_time_test</th>\n      <th>pred_time_val</th>\n      <th>fit_time</th>\n      <th>pred_time_test_marginal</th>\n      <th>pred_time_val_marginal</th>\n      <th>fit_time_marginal</th>\n      <th>stack_level</th>\n      <th>can_infer</th>\n      <th>fit_order</th>\n    </tr>\n  </thead>\n  <tbody>\n    <tr>\n      <th>0</th>\n      <td>WeightedEnsemble_L2</td>\n      <td>-831.194674</td>\n      <td>-851.193578</td>\n      <td>root_mean_squared_error</td>\n      <td>0.848012</td>\n      <td>0.248980</td>\n      <td>41.171174</td>\n      <td>0.006000</td>\n      <td>0.003001</td>\n      <td>0.307000</td>\n      <td>2</td>\n      <td>True</td>\n      <td>12</td>\n    </tr>\n    <tr>\n      <th>1</th>\n      <td>ExtraTreesMSE</td>\n      <td>-834.894921</td>\n      <td>-889.042982</td>\n      <td>root_mean_squared_error</td>\n      <td>0.582000</td>\n      <td>0.202999</td>\n      <td>4.401082</td>\n      <td>0.582000</td>\n      <td>0.202999</td>\n      <td>4.401082</td>\n      <td>1</td>\n      <td>True</td>\n      <td>7</td>\n    </tr>\n    <tr>\n      <th>2</th>\n      <td>RandomForestMSE</td>\n      <td>-849.867244</td>\n      <td>-903.845828</td>\n      <td>root_mean_squared_error</td>\n      <td>0.627000</td>\n      <td>0.186997</td>\n      <td>6.382169</td>\n      <td>0.627000</td>\n      <td>0.186997</td>\n      <td>6.382169</td>\n      <td>1</td>\n      <td>True</td>\n      <td>5</td>\n    </tr>\n    <tr>\n      <th>3</th>\n      <td>LightGBMLarge</td>\n      <td>-854.687917</td>\n      <td>-864.160039</td>\n      <td>root_mean_squared_error</td>\n      <td>0.034000</td>\n      <td>0.010999</td>\n      <td>1.474072</td>\n      <td>0.034000</td>\n      <td>0.010999</td>\n      <td>1.474072</td>\n      <td>1</td>\n      <td>True</td>\n      <td>11</td>\n    </tr>\n    <tr>\n      <th>4</th>\n      <td>XGBoost</td>\n      <td>-862.286051</td>\n      <td>-862.676594</td>\n      <td>root_mean_squared_error</td>\n      <td>0.029998</td>\n      <td>0.005999</td>\n      <td>0.842525</td>\n      <td>0.029998</td>\n      <td>0.005999</td>\n      <td>0.842525</td>\n      <td>1</td>\n      <td>True</td>\n      <td>9</td>\n    </tr>\n    <tr>\n      <th>5</th>\n      <td>NeuralNetFastAI</td>\n      <td>-865.317246</td>\n      <td>-862.007270</td>\n      <td>root_mean_squared_error</td>\n      <td>0.138012</td>\n      <td>0.023000</td>\n      <td>15.598369</td>\n      <td>0.138012</td>\n      <td>0.023000</td>\n      <td>15.598369</td>\n      <td>1</td>\n      <td>True</td>\n      <td>8</td>\n    </tr>\n    <tr>\n      <th>6</th>\n      <td>LightGBMXT</td>\n      <td>-867.184388</td>\n      <td>-862.525423</td>\n      <td>root_mean_squared_error</td>\n      <td>0.390996</td>\n      <td>0.013001</td>\n      <td>1.533518</td>\n      <td>0.390996</td>\n      <td>0.013001</td>\n      <td>1.533518</td>\n      <td>1</td>\n      <td>True</td>\n      <td>3</td>\n    </tr>\n    <tr>\n      <th>7</th>\n      <td>CatBoost</td>\n      <td>-867.430746</td>\n      <td>-862.014261</td>\n      <td>root_mean_squared_error</td>\n      <td>0.052001</td>\n      <td>0.002981</td>\n      <td>1.606015</td>\n      <td>0.052001</td>\n      <td>0.002981</td>\n      <td>1.606015</td>\n      <td>1</td>\n      <td>True</td>\n      <td>6</td>\n    </tr>\n    <tr>\n      <th>8</th>\n      <td>LightGBM</td>\n      <td>-867.474643</td>\n      <td>-864.203128</td>\n      <td>root_mean_squared_error</td>\n      <td>0.023000</td>\n      <td>0.006999</td>\n      <td>0.965998</td>\n      <td>0.023000</td>\n      <td>0.006999</td>\n      <td>0.965998</td>\n      <td>1</td>\n      <td>True</td>\n      <td>4</td>\n    </tr>\n    <tr>\n      <th>9</th>\n      <td>NeuralNetTorch</td>\n      <td>-900.914608</td>\n      <td>-888.359756</td>\n      <td>root_mean_squared_error</td>\n      <td>0.040000</td>\n      <td>0.011000</td>\n      <td>18.416183</td>\n      <td>0.040000</td>\n      <td>0.011000</td>\n      <td>18.416183</td>\n      <td>1</td>\n      <td>True</td>\n      <td>10</td>\n    </tr>\n    <tr>\n      <th>10</th>\n      <td>KNeighborsDist</td>\n      <td>-931.167843</td>\n      <td>-985.836040</td>\n      <td>root_mean_squared_error</td>\n      <td>0.062003</td>\n      <td>0.034317</td>\n      <td>0.049004</td>\n      <td>0.062003</td>\n      <td>0.034317</td>\n      <td>0.049004</td>\n      <td>1</td>\n      <td>True</td>\n      <td>2</td>\n    </tr>\n    <tr>\n      <th>11</th>\n      <td>KNeighborsUnif</td>\n      <td>-960.189218</td>\n      <td>-978.234814</td>\n      <td>root_mean_squared_error</td>\n      <td>0.056002</td>\n      <td>0.040998</td>\n      <td>0.054002</td>\n      <td>0.056002</td>\n      <td>0.040998</td>\n      <td>0.054002</td>\n      <td>1</td>\n      <td>True</td>\n      <td>1</td>\n    </tr>\n  </tbody>\n</table>\n</div>"
     },
     "execution_count": 6,
     "metadata": {},
     "output_type": "execute_result"
    }
   ],
   "source": [
    "predictor.leaderboard(test_data)"
   ]
  },
  {
   "cell_type": "code",
   "execution_count": 27,
   "outputs": [
    {
     "data": {
      "text/plain": "{'root_mean_squared_error': -864.7775674115269,\n 'mean_squared_error': -747840.241098198,\n 'mean_absolute_error': -608.0744023789903,\n 'r2': 0.3791673724300947,\n 'pearsonr': 0.6166151071994901,\n 'median_absolute_error': -434.9698486328125}"
     },
     "execution_count": 27,
     "metadata": {},
     "output_type": "execute_result"
    }
   ],
   "source": [
    "import shap\n",
    "import matplotlib.pyplot as plt\n",
    "import pandas as pd\n",
    "\n",
    "def wrapped_model(x):\n",
    "    column_names = [f'column_{i}' for i in range(12)]\n",
    "    x = pd.DataFrame(x)\n",
    "    x.columns = column_names\n",
    "    preds = predictor.predict(x).to_numpy()\n",
    "        \n",
    "    return preds\n",
    "\n",
    "test_data = TabularDataset('Test.csv')\n",
    "\n",
    "to_be_explained = pd.DataFrame(test_data).drop('label', axis=1).to_numpy()[0]\n",
    "explainer = shap.KernelExplainer(wrapped_model, pd.read_csv('./Train.csv').drop('label', axis=1).sample(n=100))\n",
    "shap_values = explainer.shap_values(to_be_explained)\n",
    "relevance = abs(shap_values.ravel())\n",
    "\n",
    "\n",
    "norm_relevance = ((relevance - min(relevance)) / (max(relevance) - min(relevance)))\n",
    "\n",
    "print(relevance)\n",
    "plt.imshow(norm_relevance.reshape((2, 6)))\n",
    "plt.colorbar()"
   ],
   "metadata": {
    "collapsed": false,
    "ExecuteTime": {
     "end_time": "2024-02-27T16:22:07.243709900Z",
     "start_time": "2024-02-27T16:22:06.161711400Z"
    }
   },
   "id": "53fa8c49c9979333"
  },
  {
   "cell_type": "code",
   "execution_count": 28,
   "outputs": [
    {
     "data": {
      "text/plain": "                  model   score_test   score_val              eval_metric  \\\n0   WeightedEnsemble_L2  -864.777567 -851.193578  root_mean_squared_error   \n1       NeuralNetFastAI  -871.452567 -862.007270  root_mean_squared_error   \n2              CatBoost  -874.392598 -862.014261  root_mean_squared_error   \n3               XGBoost  -874.580263 -862.676594  root_mean_squared_error   \n4            LightGBMXT  -874.625472 -862.525423  root_mean_squared_error   \n5              LightGBM  -877.855435 -864.203128  root_mean_squared_error   \n6         LightGBMLarge  -880.022788 -864.160039  root_mean_squared_error   \n7        NeuralNetTorch  -907.496117 -888.359756  root_mean_squared_error   \n8         ExtraTreesMSE  -911.525525 -889.042982  root_mean_squared_error   \n9       RandomForestMSE  -928.204409 -903.845828  root_mean_squared_error   \n10       KNeighborsUnif -1000.851881 -978.234814  root_mean_squared_error   \n11       KNeighborsDist -1028.123800 -985.836040  root_mean_squared_error   \n\n    pred_time_test  pred_time_val   fit_time  pred_time_test_marginal  \\\n0         1.108070       0.248980  41.171174                 0.005999   \n1         0.148617       0.023000  15.598369                 0.148617   \n2         0.059017       0.002981   1.606015                 0.059017   \n3         0.030994       0.005999   0.842525                 0.030994   \n4         0.054903       0.013001   1.533518                 0.054903   \n5         0.014000       0.006999   0.965998                 0.014000   \n6         0.023000       0.010999   1.474072                 0.023000   \n7         0.037001       0.011000  18.416183                 0.037001   \n8         0.826442       0.202999   4.401082                 0.826442   \n9         0.835002       0.186997   6.382169                 0.835002   \n10        0.057000       0.040998   0.054002                 0.057000   \n11        0.064250       0.034317   0.049004                 0.064250   \n\n    pred_time_val_marginal  fit_time_marginal  stack_level  can_infer  \\\n0                 0.003001           0.307000            2       True   \n1                 0.023000          15.598369            1       True   \n2                 0.002981           1.606015            1       True   \n3                 0.005999           0.842525            1       True   \n4                 0.013001           1.533518            1       True   \n5                 0.006999           0.965998            1       True   \n6                 0.010999           1.474072            1       True   \n7                 0.011000          18.416183            1       True   \n8                 0.202999           4.401082            1       True   \n9                 0.186997           6.382169            1       True   \n10                0.040998           0.054002            1       True   \n11                0.034317           0.049004            1       True   \n\n    fit_order  \n0          12  \n1           8  \n2           6  \n3           9  \n4           3  \n5           4  \n6          11  \n7          10  \n8           7  \n9           5  \n10          1  \n11          2  ",
      "text/html": "<div>\n<style scoped>\n    .dataframe tbody tr th:only-of-type {\n        vertical-align: middle;\n    }\n\n    .dataframe tbody tr th {\n        vertical-align: top;\n    }\n\n    .dataframe thead th {\n        text-align: right;\n    }\n</style>\n<table border=\"1\" class=\"dataframe\">\n  <thead>\n    <tr style=\"text-align: right;\">\n      <th></th>\n      <th>model</th>\n      <th>score_test</th>\n      <th>score_val</th>\n      <th>eval_metric</th>\n      <th>pred_time_test</th>\n      <th>pred_time_val</th>\n      <th>fit_time</th>\n      <th>pred_time_test_marginal</th>\n      <th>pred_time_val_marginal</th>\n      <th>fit_time_marginal</th>\n      <th>stack_level</th>\n      <th>can_infer</th>\n      <th>fit_order</th>\n    </tr>\n  </thead>\n  <tbody>\n    <tr>\n      <th>0</th>\n      <td>WeightedEnsemble_L2</td>\n      <td>-864.777567</td>\n      <td>-851.193578</td>\n      <td>root_mean_squared_error</td>\n      <td>1.108070</td>\n      <td>0.248980</td>\n      <td>41.171174</td>\n      <td>0.005999</td>\n      <td>0.003001</td>\n      <td>0.307000</td>\n      <td>2</td>\n      <td>True</td>\n      <td>12</td>\n    </tr>\n    <tr>\n      <th>1</th>\n      <td>NeuralNetFastAI</td>\n      <td>-871.452567</td>\n      <td>-862.007270</td>\n      <td>root_mean_squared_error</td>\n      <td>0.148617</td>\n      <td>0.023000</td>\n      <td>15.598369</td>\n      <td>0.148617</td>\n      <td>0.023000</td>\n      <td>15.598369</td>\n      <td>1</td>\n      <td>True</td>\n      <td>8</td>\n    </tr>\n    <tr>\n      <th>2</th>\n      <td>CatBoost</td>\n      <td>-874.392598</td>\n      <td>-862.014261</td>\n      <td>root_mean_squared_error</td>\n      <td>0.059017</td>\n      <td>0.002981</td>\n      <td>1.606015</td>\n      <td>0.059017</td>\n      <td>0.002981</td>\n      <td>1.606015</td>\n      <td>1</td>\n      <td>True</td>\n      <td>6</td>\n    </tr>\n    <tr>\n      <th>3</th>\n      <td>XGBoost</td>\n      <td>-874.580263</td>\n      <td>-862.676594</td>\n      <td>root_mean_squared_error</td>\n      <td>0.030994</td>\n      <td>0.005999</td>\n      <td>0.842525</td>\n      <td>0.030994</td>\n      <td>0.005999</td>\n      <td>0.842525</td>\n      <td>1</td>\n      <td>True</td>\n      <td>9</td>\n    </tr>\n    <tr>\n      <th>4</th>\n      <td>LightGBMXT</td>\n      <td>-874.625472</td>\n      <td>-862.525423</td>\n      <td>root_mean_squared_error</td>\n      <td>0.054903</td>\n      <td>0.013001</td>\n      <td>1.533518</td>\n      <td>0.054903</td>\n      <td>0.013001</td>\n      <td>1.533518</td>\n      <td>1</td>\n      <td>True</td>\n      <td>3</td>\n    </tr>\n    <tr>\n      <th>5</th>\n      <td>LightGBM</td>\n      <td>-877.855435</td>\n      <td>-864.203128</td>\n      <td>root_mean_squared_error</td>\n      <td>0.014000</td>\n      <td>0.006999</td>\n      <td>0.965998</td>\n      <td>0.014000</td>\n      <td>0.006999</td>\n      <td>0.965998</td>\n      <td>1</td>\n      <td>True</td>\n      <td>4</td>\n    </tr>\n    <tr>\n      <th>6</th>\n      <td>LightGBMLarge</td>\n      <td>-880.022788</td>\n      <td>-864.160039</td>\n      <td>root_mean_squared_error</td>\n      <td>0.023000</td>\n      <td>0.010999</td>\n      <td>1.474072</td>\n      <td>0.023000</td>\n      <td>0.010999</td>\n      <td>1.474072</td>\n      <td>1</td>\n      <td>True</td>\n      <td>11</td>\n    </tr>\n    <tr>\n      <th>7</th>\n      <td>NeuralNetTorch</td>\n      <td>-907.496117</td>\n      <td>-888.359756</td>\n      <td>root_mean_squared_error</td>\n      <td>0.037001</td>\n      <td>0.011000</td>\n      <td>18.416183</td>\n      <td>0.037001</td>\n      <td>0.011000</td>\n      <td>18.416183</td>\n      <td>1</td>\n      <td>True</td>\n      <td>10</td>\n    </tr>\n    <tr>\n      <th>8</th>\n      <td>ExtraTreesMSE</td>\n      <td>-911.525525</td>\n      <td>-889.042982</td>\n      <td>root_mean_squared_error</td>\n      <td>0.826442</td>\n      <td>0.202999</td>\n      <td>4.401082</td>\n      <td>0.826442</td>\n      <td>0.202999</td>\n      <td>4.401082</td>\n      <td>1</td>\n      <td>True</td>\n      <td>7</td>\n    </tr>\n    <tr>\n      <th>9</th>\n      <td>RandomForestMSE</td>\n      <td>-928.204409</td>\n      <td>-903.845828</td>\n      <td>root_mean_squared_error</td>\n      <td>0.835002</td>\n      <td>0.186997</td>\n      <td>6.382169</td>\n      <td>0.835002</td>\n      <td>0.186997</td>\n      <td>6.382169</td>\n      <td>1</td>\n      <td>True</td>\n      <td>5</td>\n    </tr>\n    <tr>\n      <th>10</th>\n      <td>KNeighborsUnif</td>\n      <td>-1000.851881</td>\n      <td>-978.234814</td>\n      <td>root_mean_squared_error</td>\n      <td>0.057000</td>\n      <td>0.040998</td>\n      <td>0.054002</td>\n      <td>0.057000</td>\n      <td>0.040998</td>\n      <td>0.054002</td>\n      <td>1</td>\n      <td>True</td>\n      <td>1</td>\n    </tr>\n    <tr>\n      <th>11</th>\n      <td>KNeighborsDist</td>\n      <td>-1028.123800</td>\n      <td>-985.836040</td>\n      <td>root_mean_squared_error</td>\n      <td>0.064250</td>\n      <td>0.034317</td>\n      <td>0.049004</td>\n      <td>0.064250</td>\n      <td>0.034317</td>\n      <td>0.049004</td>\n      <td>1</td>\n      <td>True</td>\n      <td>2</td>\n    </tr>\n  </tbody>\n</table>\n</div>"
     },
     "execution_count": 28,
     "metadata": {},
     "output_type": "execute_result"
    }
   ],
   "source": [
    "import lime.lime_tabular\n",
    "import numpy as np\n",
    "import matplotlib.pyplot as plt\n",
    "import pandas as pd\n",
    "\n",
    "\n",
    "def wrapped_net(x):\n",
    "    column_names = [f'column_{i}' for i in range(12)]\n",
    "    x = pd.DataFrame(x)\n",
    "    x.columns = column_names\n",
    "    preds = predictor.predict_proba(x).to_numpy()\n",
    "        \n",
    "    return preds\n",
    "\n",
    "background = pd.read_csv('./Train.csv').drop('label', axis=1).sample(n=100).to_numpy()\n",
    "explainer = lime.lime_tabular.LimeTabularExplainer(\n",
    "    background,\n",
    "    feature_names=[str(i) for i in range(12)],\n",
    "    verbose=True,\n",
    "    mode='classification',\n",
    ")\n",
    "\n",
    "test = pd.read_csv('./Train.csv').drop('label', axis=1).to_numpy()[0]\n",
    "\n",
    "exp = explainer.explain_instance(test, wrapped_net, num_features=12)\n",
    "# exp.save_to_file('lime_explanationall.html')\n",
    "# relevance = abs(np.asarray([float(i) for i in exp.domain_mapper.feature_values]))\n",
    "relevance = abs(np.asarray([j for i, j in sorted(exp.local_exp[1], key=lambda i: i[0])]))\n",
    "# relevance = exp.local_exp[1]\n",
    "norm_relevance = ((relevance - min(relevance)) / (max(relevance) - min(relevance)))\n",
    "\n",
    "\n",
    "print(relevance)\n",
    "plt.imshow(norm_relevance.reshape((2, 6)))\n",
    "plt.colorbar()"
   ],
   "metadata": {
    "collapsed": false,
    "ExecuteTime": {
     "end_time": "2024-02-27T16:22:15.816129100Z",
     "start_time": "2024-02-27T16:22:13.541899200Z"
    }
   },
   "id": "560f722e3a940959"
  },
  {
   "cell_type": "code",
   "execution_count": null,
   "outputs": [],
   "source": [],
   "metadata": {
    "collapsed": false
   },
   "id": "109f45bf49d7a772"
  }
 ],
 "metadata": {
  "authors": [],
  "date": "",
  "title": "Allegato A: Autogloun test for gender detection",
  "kernelspec": {
   "display_name": "Python 3",
   "language": "python",
   "name": "python3"
  },
  "language_info": {
   "codemirror_mode": {
    "name": "ipython",
    "version": 2
   },
   "file_extension": ".py",
   "mimetype": "text/x-python",
   "name": "python",
   "nbconvert_exporter": "python",
   "pygments_lexer": "ipython2",
   "version": "2.7.6"
  }
 },
 "nbformat": 4,
 "nbformat_minor": 5
}
