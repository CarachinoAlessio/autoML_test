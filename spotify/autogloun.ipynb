{
 "cells": [
  {
   "cell_type": "code",
   "execution_count": 1,
   "outputs": [],
   "source": [
    "from autogluon.tabular import TabularDataset, TabularPredictor\n",
    "import pandas as pd"
   ],
   "metadata": {
    "collapsed": false,
    "ExecuteTime": {
     "end_time": "2024-02-21T14:12:26.325383500Z",
     "start_time": "2024-02-21T14:12:13.487894100Z"
    }
   },
   "id": "58e0d7686f02376d"
  },
  {
   "cell_type": "code",
   "execution_count": 2,
   "outputs": [
    {
     "data": {
      "text/plain": "                                                  artists       album_name  \\\n34889                                         Andrew Bird  sadsadchristmas   \n41850                                      Rotting Christ          Rituals   \n50608   A.N.I.M.A.L.;Chuck Jhonson and Juan Jose Burgo...     Poder Latino   \n109067                                           Goom Gum    Like A Friend   \n20698                             Robin Schulz;Tom Walker     Pop Brandneu   \n\n                        track_name  popularity  duration_ms  explicit  \\\n34889           Christmas In April           0       211346     False   \n41850                    Devadevam          36       318248     False   \n50608               Latino América          22       165440     False   \n109067  Like A Friend - Radio Edit          51       202926     False   \n20698               Sun Will Shine           0       201700     False   \n\n        danceability  energy  key  loudness  mode  speechiness  acousticness  \\\n34889          0.530   0.304    7   -10.509     1       0.0342      0.825000   \n41850          0.387   0.809    2    -5.499     1       0.0526      0.000050   \n50608          0.528   0.964    4    -6.511     0       0.0650      0.000061   \n109067         0.610   0.852    7    -8.419     1       0.0349      0.000760   \n20698          0.534   0.714    6    -6.347     0       0.0629      0.006330   \n\n        instrumentalness  liveness  valence    tempo  time_signature  \\\n34889           0.018200    0.1450   0.3010   90.495               3   \n41850           0.831000    0.0832   0.0706  115.975               4   \n50608           0.000008    0.1350   0.1630  100.651               4   \n109067          0.841000    0.1280   0.1170  122.994               4   \n20698           0.000000    0.0879   0.4150  125.990               4   \n\n        track_genre  \n34889          folk  \n41850          goth  \n50608   heavy-metal  \n109067       techno  \n20698         dance  ",
      "text/html": "<div>\n<style scoped>\n    .dataframe tbody tr th:only-of-type {\n        vertical-align: middle;\n    }\n\n    .dataframe tbody tr th {\n        vertical-align: top;\n    }\n\n    .dataframe thead th {\n        text-align: right;\n    }\n</style>\n<table border=\"1\" class=\"dataframe\">\n  <thead>\n    <tr style=\"text-align: right;\">\n      <th></th>\n      <th>artists</th>\n      <th>album_name</th>\n      <th>track_name</th>\n      <th>popularity</th>\n      <th>duration_ms</th>\n      <th>explicit</th>\n      <th>danceability</th>\n      <th>energy</th>\n      <th>key</th>\n      <th>loudness</th>\n      <th>mode</th>\n      <th>speechiness</th>\n      <th>acousticness</th>\n      <th>instrumentalness</th>\n      <th>liveness</th>\n      <th>valence</th>\n      <th>tempo</th>\n      <th>time_signature</th>\n      <th>track_genre</th>\n    </tr>\n  </thead>\n  <tbody>\n    <tr>\n      <th>34889</th>\n      <td>Andrew Bird</td>\n      <td>sadsadchristmas</td>\n      <td>Christmas In April</td>\n      <td>0</td>\n      <td>211346</td>\n      <td>False</td>\n      <td>0.530</td>\n      <td>0.304</td>\n      <td>7</td>\n      <td>-10.509</td>\n      <td>1</td>\n      <td>0.0342</td>\n      <td>0.825000</td>\n      <td>0.018200</td>\n      <td>0.1450</td>\n      <td>0.3010</td>\n      <td>90.495</td>\n      <td>3</td>\n      <td>folk</td>\n    </tr>\n    <tr>\n      <th>41850</th>\n      <td>Rotting Christ</td>\n      <td>Rituals</td>\n      <td>Devadevam</td>\n      <td>36</td>\n      <td>318248</td>\n      <td>False</td>\n      <td>0.387</td>\n      <td>0.809</td>\n      <td>2</td>\n      <td>-5.499</td>\n      <td>1</td>\n      <td>0.0526</td>\n      <td>0.000050</td>\n      <td>0.831000</td>\n      <td>0.0832</td>\n      <td>0.0706</td>\n      <td>115.975</td>\n      <td>4</td>\n      <td>goth</td>\n    </tr>\n    <tr>\n      <th>50608</th>\n      <td>A.N.I.M.A.L.;Chuck Jhonson and Juan Jose Burgo...</td>\n      <td>Poder Latino</td>\n      <td>Latino América</td>\n      <td>22</td>\n      <td>165440</td>\n      <td>False</td>\n      <td>0.528</td>\n      <td>0.964</td>\n      <td>4</td>\n      <td>-6.511</td>\n      <td>0</td>\n      <td>0.0650</td>\n      <td>0.000061</td>\n      <td>0.000008</td>\n      <td>0.1350</td>\n      <td>0.1630</td>\n      <td>100.651</td>\n      <td>4</td>\n      <td>heavy-metal</td>\n    </tr>\n    <tr>\n      <th>109067</th>\n      <td>Goom Gum</td>\n      <td>Like A Friend</td>\n      <td>Like A Friend - Radio Edit</td>\n      <td>51</td>\n      <td>202926</td>\n      <td>False</td>\n      <td>0.610</td>\n      <td>0.852</td>\n      <td>7</td>\n      <td>-8.419</td>\n      <td>1</td>\n      <td>0.0349</td>\n      <td>0.000760</td>\n      <td>0.841000</td>\n      <td>0.1280</td>\n      <td>0.1170</td>\n      <td>122.994</td>\n      <td>4</td>\n      <td>techno</td>\n    </tr>\n    <tr>\n      <th>20698</th>\n      <td>Robin Schulz;Tom Walker</td>\n      <td>Pop Brandneu</td>\n      <td>Sun Will Shine</td>\n      <td>0</td>\n      <td>201700</td>\n      <td>False</td>\n      <td>0.534</td>\n      <td>0.714</td>\n      <td>6</td>\n      <td>-6.347</td>\n      <td>0</td>\n      <td>0.0629</td>\n      <td>0.006330</td>\n      <td>0.000000</td>\n      <td>0.0879</td>\n      <td>0.4150</td>\n      <td>125.990</td>\n      <td>4</td>\n      <td>dance</td>\n    </tr>\n  </tbody>\n</table>\n</div>"
     },
     "execution_count": 2,
     "metadata": {},
     "output_type": "execute_result"
    }
   ],
   "source": [
    "from sklearn.model_selection import train_test_split\n",
    "\n",
    "data = pd.read_csv('train.csv')\n",
    "label = 'track_genre'\n",
    "data = data.drop(columns=['Unnamed: 0', 'track_id'])\n",
    "data.head()\n",
    "\n",
    "train_data, test_data = train_test_split(data, test_size=0.8, shuffle=True)\n",
    "train_data.head()\n"
   ],
   "metadata": {
    "collapsed": false,
    "ExecuteTime": {
     "end_time": "2024-02-21T14:12:26.767907500Z",
     "start_time": "2024-02-21T14:12:26.329385600Z"
    }
   },
   "id": "3bf574bd1b2fa943"
  },
  {
   "cell_type": "code",
   "execution_count": 3,
   "outputs": [
    {
     "data": {
      "text/plain": "count         22800\nunique          114\ntop       punk-rock\nfreq            241\nName: track_genre, dtype: object"
     },
     "execution_count": 3,
     "metadata": {},
     "output_type": "execute_result"
    }
   ],
   "source": [
    "train_data[label].describe()"
   ],
   "metadata": {
    "collapsed": false,
    "ExecuteTime": {
     "end_time": "2024-02-19T15:25:57.413807800Z",
     "start_time": "2024-02-19T15:25:57.195807500Z"
    }
   },
   "id": "30518dfc3c57bb79"
  },
  {
   "cell_type": "code",
   "execution_count": 4,
   "outputs": [
    {
     "name": "stderr",
     "output_type": "stream",
     "text": [
      "No path specified. Models will be saved in: \"AutogluonModels\\ag-20240219_152243\"\n",
      "No presets specified! To achieve strong results with AutoGluon, it is recommended to use the available presets.\n",
      "\tRecommended Presets (For more details refer to https://auto.gluon.ai/stable/tutorials/tabular/tabular-essentials.html#presets):\n",
      "\tpresets='best_quality'   : Maximize accuracy. Default time_limit=3600.\n",
      "\tpresets='high_quality'   : Strong accuracy with fast inference speed. Default time_limit=3600.\n",
      "\tpresets='good_quality'   : Good accuracy with very fast inference speed. Default time_limit=3600.\n",
      "\tpresets='medium_quality' : Fast training time, ideal for initial prototyping.\n",
      "Beginning AutoGluon training ...\n",
      "AutoGluon will save models to \"AutogluonModels\\ag-20240219_152243\"\n",
      "=================== System Info ===================\n",
      "AutoGluon Version:  1.0.0\n",
      "Python Version:     3.10.11\n",
      "Operating System:   Windows\n",
      "Platform Machine:   AMD64\n",
      "Platform Version:   10.0.19045\n",
      "CPU Count:          8\n",
      "Memory Avail:       16.16 GB / 31.85 GB (50.7%)\n",
      "Disk Space Avail:   776.14 GB / 940.03 GB (82.6%)\n",
      "===================================================\n",
      "Train Data Rows:    22800\n",
      "Train Data Columns: 18\n",
      "Label Column:       track_genre\n",
      "AutoGluon infers your prediction problem is: 'multiclass' (because dtype of label-column == object).\n",
      "\tFirst 10 (of 114) unique label values:  ['hardcore', 'house', 'romance', 'grindcore', 'forro', 'salsa', 'trip-hop', 'alt-rock', 'dub', 'j-rock']\n",
      "\tIf 'multiclass' is not the correct problem_type, please manually specify the problem_type parameter during predictor init (You may specify problem_type as one of: ['binary', 'multiclass', 'regression'])\n",
      "Problem Type:       multiclass\n",
      "Preprocessing data ...\n",
      "Train Data Class Count: 114\n",
      "Using Feature Generators to preprocess the data ...\n",
      "Fitting AutoMLPipelineFeatureGenerator...\n",
      "\tAvailable Memory:                    16545.71 MB\n",
      "\tTrain Data (Original)  Memory Usage: 7.58 MB (0.0% of available memory)\n",
      "\tInferring data type of each feature based on column values. Set feature_metadata_in to manually specify special dtypes of the features.\n",
      "\tStage 1 Generators:\n",
      "\t\tFitting AsTypeFeatureGenerator...\n",
      "\t\t\tNote: Converting 2 features to boolean dtype as they only contain 2 unique values.\n",
      "\tStage 2 Generators:\n",
      "\t\tFitting FillNaFeatureGenerator...\n",
      "\tStage 3 Generators:\n",
      "\t\tFitting IdentityFeatureGenerator...\n",
      "\t\tFitting CategoryFeatureGenerator...\n",
      "\t\t\tFitting CategoryMemoryMinimizeFeatureGenerator...\n",
      "\t\tFitting TextSpecialFeatureGenerator...\n",
      "\t\t\tFitting BinnedFeatureGenerator...\n",
      "\t\t\tFitting DropDuplicatesFeatureGenerator...\n",
      "\t\tFitting TextNgramFeatureGenerator...\n",
      "\t\t\tFitting CountVectorizer for text features: ['album_name', 'track_name']\n",
      "\t\t\tCountVectorizer fit with vocabulary size = 641\n",
      "\tStage 4 Generators:\n",
      "\t\tFitting DropUniqueFeatureGenerator...\n",
      "\tStage 5 Generators:\n",
      "\t\tFitting DropDuplicatesFeatureGenerator...\n",
      "\tTypes of features in original data (raw dtype, special dtypes):\n",
      "\t\t('bool', [])         : 1 | ['explicit']\n",
      "\t\t('float', [])        : 9 | ['danceability', 'energy', 'loudness', 'speechiness', 'acousticness', ...]\n",
      "\t\t('int', [])          : 5 | ['popularity', 'duration_ms', 'key', 'mode', 'time_signature']\n",
      "\t\t('object', [])       : 1 | ['artists']\n",
      "\t\t('object', ['text']) : 2 | ['album_name', 'track_name']\n",
      "\tTypes of features in processed data (raw dtype, special dtypes):\n",
      "\t\t('category', [])                    :   1 | ['artists']\n",
      "\t\t('category', ['text_as_category'])  :   2 | ['album_name', 'track_name']\n",
      "\t\t('float', [])                       :   9 | ['danceability', 'energy', 'loudness', 'speechiness', 'acousticness', ...]\n",
      "\t\t('int', [])                         :   4 | ['popularity', 'duration_ms', 'key', 'time_signature']\n",
      "\t\t('int', ['binned', 'text_special']) :  34 | ['album_name.char_count', 'album_name.word_count', 'album_name.capital_ratio', 'album_name.lower_ratio', 'album_name.digit_ratio', ...]\n",
      "\t\t('int', ['bool'])                   :   2 | ['explicit', 'mode']\n",
      "\t\t('int', ['text_ngram'])             : 597 | ['__nlp__.10', '__nlp__.100', '__nlp__.12', '__nlp__.14', '__nlp__.15', ...]\n",
      "\t10.3s = Fit runtime\n",
      "\t18 features in original data used to generate 649 features in processed data.\n",
      "\tTrain Data (Processed) Memory Usage: 29.14 MB (0.2% of available memory)\n",
      "Data preprocessing and feature engineering runtime = 10.7s ...\n",
      "AutoGluon will gauge predictive performance using evaluation metric: 'accuracy'\n",
      "\tTo change this, specify the eval_metric parameter of Predictor()\n",
      "\n",
      "KeyboardInterrupt\n",
      "\n"
     ]
    }
   ],
   "source": [
    "predictor = TabularPredictor(label=label).fit(train_data)"
   ],
   "metadata": {
    "collapsed": false,
    "ExecuteTime": {
     "end_time": "2024-02-19T15:22:56.958350600Z",
     "start_time": "2024-02-19T15:22:43.790183500Z"
    }
   },
   "id": "dfba6a4205bcebdc"
  },
  {
   "cell_type": "code",
   "execution_count": 3,
   "outputs": [
    {
     "name": "stderr",
     "output_type": "stream",
     "text": [
      "No path specified. Models will be saved in: \"AutogluonModels\\ag-20240221_141226\"\n"
     ]
    }
   ],
   "source": [
    "predictor = TabularPredictor(label=label).load(path=\"./AutogluonModels/ag-20231218_165601\")"
   ],
   "metadata": {
    "collapsed": false,
    "ExecuteTime": {
     "end_time": "2024-02-21T14:12:26.915906900Z",
     "start_time": "2024-02-21T14:12:26.774910100Z"
    }
   },
   "id": "38fcde9cfff45740"
  },
  {
   "cell_type": "code",
   "execution_count": 4,
   "outputs": [
    {
     "name": "stderr",
     "output_type": "stream",
     "text": [
      "\n",
      "KeyboardInterrupt\n",
      "\n"
     ]
    }
   ],
   "source": [
    "y_pred = predictor.predict(test_data.drop(columns=[label]))\n",
    "y_pred.head()"
   ],
   "metadata": {
    "collapsed": false,
    "ExecuteTime": {
     "end_time": "2024-02-21T14:14:04.430834800Z",
     "start_time": "2024-02-21T14:13:57.849649900Z"
    }
   },
   "id": "219c26018c7fbeef"
  },
  {
   "cell_type": "code",
   "execution_count": 11,
   "outputs": [
    {
     "data": {
      "text/plain": "{'accuracy': 0.5265241228070175,\n 'balanced_accuracy': 0.526900646936321,\n 'mcc': 0.5224446476977957}"
     },
     "execution_count": 11,
     "metadata": {},
     "output_type": "execute_result"
    }
   ],
   "source": [
    "predictor.evaluate(test_data, silent=True)"
   ],
   "metadata": {
    "collapsed": false,
    "ExecuteTime": {
     "end_time": "2023-12-19T01:09:29.194596Z",
     "start_time": "2023-12-19T01:03:38.054560500Z"
    }
   },
   "id": "cd75517906b275bd"
  },
  {
   "cell_type": "code",
   "execution_count": 12,
   "outputs": [
    {
     "data": {
      "text/plain": "                  model  score_test  score_val eval_metric  pred_time_test  \\\n0   WeightedEnsemble_L2    0.526524   0.583333    accuracy      335.978919   \n1              CatBoost    0.500757   0.542544    accuracy        2.878095   \n2       NeuralNetFastAI    0.467971   0.529386    accuracy        1.614493   \n3            LightGBMXT    0.462467   0.479825    accuracy      111.398182   \n4              LightGBM    0.461480   0.471053    accuracy       31.349216   \n5         LightGBMLarge    0.424660   0.437281    accuracy       72.571206   \n6               XGBoost    0.396897   0.410088    accuracy       77.684627   \n7      RandomForestGini    0.354013   0.362719    accuracy        3.580987   \n8        NeuralNetTorch    0.338257   0.341667    accuracy        0.930996   \n9        ExtraTreesGini    0.329759   0.338596    accuracy        3.755892   \n10     RandomForestEntr    0.310110   0.320175    accuracy        3.584993   \n11       ExtraTreesEntr    0.285439   0.294298    accuracy        3.981418   \n12       KNeighborsDist    0.057818   0.055702    accuracy       22.482218   \n13       KNeighborsUnif    0.039901   0.039035    accuracy       21.587455   \n\n    pred_time_val      fit_time  pred_time_test_marginal  \\\n0       10.565239  28786.541324                 1.097592   \n1        0.142564  28073.050463                 2.878095   \n2        0.058005     61.345477                 1.614493   \n3        4.047759    166.541418               111.398182   \n4        1.064715    125.489245                31.349216   \n5        1.848805    187.671970                72.571206   \n6        2.141906    137.015564                77.684627   \n7        0.104571      9.727989                 3.580987   \n8        0.035089     64.819554                 0.930996   \n9        0.075314      5.853106                 3.755892   \n10       0.091455     10.454653                 3.584993   \n11       0.060448      5.389389                 3.981418   \n12       0.926696      0.453457                22.482218   \n13       1.915076     13.659499                21.587455   \n\n    pred_time_val_marginal  fit_time_marginal  stack_level  can_infer  \\\n0                 0.003002           3.548591            2       True   \n1                 0.142564       28073.050463            1       True   \n2                 0.058005          61.345477            1       True   \n3                 4.047759         166.541418            1       True   \n4                 1.064715         125.489245            1       True   \n5                 1.848805         187.671970            1       True   \n6                 2.141906         137.015564            1       True   \n7                 0.104571           9.727989            1       True   \n8                 0.035089          64.819554            1       True   \n9                 0.075314           5.853106            1       True   \n10                0.091455          10.454653            1       True   \n11                0.060448           5.389389            1       True   \n12                0.926696           0.453457            1       True   \n13                1.915076          13.659499            1       True   \n\n    fit_order  \n0          14  \n1           8  \n2           3  \n3           4  \n4           5  \n5          13  \n6          11  \n7           6  \n8          12  \n9           9  \n10          7  \n11         10  \n12          2  \n13          1  ",
      "text/html": "<div>\n<style scoped>\n    .dataframe tbody tr th:only-of-type {\n        vertical-align: middle;\n    }\n\n    .dataframe tbody tr th {\n        vertical-align: top;\n    }\n\n    .dataframe thead th {\n        text-align: right;\n    }\n</style>\n<table border=\"1\" class=\"dataframe\">\n  <thead>\n    <tr style=\"text-align: right;\">\n      <th></th>\n      <th>model</th>\n      <th>score_test</th>\n      <th>score_val</th>\n      <th>eval_metric</th>\n      <th>pred_time_test</th>\n      <th>pred_time_val</th>\n      <th>fit_time</th>\n      <th>pred_time_test_marginal</th>\n      <th>pred_time_val_marginal</th>\n      <th>fit_time_marginal</th>\n      <th>stack_level</th>\n      <th>can_infer</th>\n      <th>fit_order</th>\n    </tr>\n  </thead>\n  <tbody>\n    <tr>\n      <th>0</th>\n      <td>WeightedEnsemble_L2</td>\n      <td>0.526524</td>\n      <td>0.583333</td>\n      <td>accuracy</td>\n      <td>335.978919</td>\n      <td>10.565239</td>\n      <td>28786.541324</td>\n      <td>1.097592</td>\n      <td>0.003002</td>\n      <td>3.548591</td>\n      <td>2</td>\n      <td>True</td>\n      <td>14</td>\n    </tr>\n    <tr>\n      <th>1</th>\n      <td>CatBoost</td>\n      <td>0.500757</td>\n      <td>0.542544</td>\n      <td>accuracy</td>\n      <td>2.878095</td>\n      <td>0.142564</td>\n      <td>28073.050463</td>\n      <td>2.878095</td>\n      <td>0.142564</td>\n      <td>28073.050463</td>\n      <td>1</td>\n      <td>True</td>\n      <td>8</td>\n    </tr>\n    <tr>\n      <th>2</th>\n      <td>NeuralNetFastAI</td>\n      <td>0.467971</td>\n      <td>0.529386</td>\n      <td>accuracy</td>\n      <td>1.614493</td>\n      <td>0.058005</td>\n      <td>61.345477</td>\n      <td>1.614493</td>\n      <td>0.058005</td>\n      <td>61.345477</td>\n      <td>1</td>\n      <td>True</td>\n      <td>3</td>\n    </tr>\n    <tr>\n      <th>3</th>\n      <td>LightGBMXT</td>\n      <td>0.462467</td>\n      <td>0.479825</td>\n      <td>accuracy</td>\n      <td>111.398182</td>\n      <td>4.047759</td>\n      <td>166.541418</td>\n      <td>111.398182</td>\n      <td>4.047759</td>\n      <td>166.541418</td>\n      <td>1</td>\n      <td>True</td>\n      <td>4</td>\n    </tr>\n    <tr>\n      <th>4</th>\n      <td>LightGBM</td>\n      <td>0.461480</td>\n      <td>0.471053</td>\n      <td>accuracy</td>\n      <td>31.349216</td>\n      <td>1.064715</td>\n      <td>125.489245</td>\n      <td>31.349216</td>\n      <td>1.064715</td>\n      <td>125.489245</td>\n      <td>1</td>\n      <td>True</td>\n      <td>5</td>\n    </tr>\n    <tr>\n      <th>5</th>\n      <td>LightGBMLarge</td>\n      <td>0.424660</td>\n      <td>0.437281</td>\n      <td>accuracy</td>\n      <td>72.571206</td>\n      <td>1.848805</td>\n      <td>187.671970</td>\n      <td>72.571206</td>\n      <td>1.848805</td>\n      <td>187.671970</td>\n      <td>1</td>\n      <td>True</td>\n      <td>13</td>\n    </tr>\n    <tr>\n      <th>6</th>\n      <td>XGBoost</td>\n      <td>0.396897</td>\n      <td>0.410088</td>\n      <td>accuracy</td>\n      <td>77.684627</td>\n      <td>2.141906</td>\n      <td>137.015564</td>\n      <td>77.684627</td>\n      <td>2.141906</td>\n      <td>137.015564</td>\n      <td>1</td>\n      <td>True</td>\n      <td>11</td>\n    </tr>\n    <tr>\n      <th>7</th>\n      <td>RandomForestGini</td>\n      <td>0.354013</td>\n      <td>0.362719</td>\n      <td>accuracy</td>\n      <td>3.580987</td>\n      <td>0.104571</td>\n      <td>9.727989</td>\n      <td>3.580987</td>\n      <td>0.104571</td>\n      <td>9.727989</td>\n      <td>1</td>\n      <td>True</td>\n      <td>6</td>\n    </tr>\n    <tr>\n      <th>8</th>\n      <td>NeuralNetTorch</td>\n      <td>0.338257</td>\n      <td>0.341667</td>\n      <td>accuracy</td>\n      <td>0.930996</td>\n      <td>0.035089</td>\n      <td>64.819554</td>\n      <td>0.930996</td>\n      <td>0.035089</td>\n      <td>64.819554</td>\n      <td>1</td>\n      <td>True</td>\n      <td>12</td>\n    </tr>\n    <tr>\n      <th>9</th>\n      <td>ExtraTreesGini</td>\n      <td>0.329759</td>\n      <td>0.338596</td>\n      <td>accuracy</td>\n      <td>3.755892</td>\n      <td>0.075314</td>\n      <td>5.853106</td>\n      <td>3.755892</td>\n      <td>0.075314</td>\n      <td>5.853106</td>\n      <td>1</td>\n      <td>True</td>\n      <td>9</td>\n    </tr>\n    <tr>\n      <th>10</th>\n      <td>RandomForestEntr</td>\n      <td>0.310110</td>\n      <td>0.320175</td>\n      <td>accuracy</td>\n      <td>3.584993</td>\n      <td>0.091455</td>\n      <td>10.454653</td>\n      <td>3.584993</td>\n      <td>0.091455</td>\n      <td>10.454653</td>\n      <td>1</td>\n      <td>True</td>\n      <td>7</td>\n    </tr>\n    <tr>\n      <th>11</th>\n      <td>ExtraTreesEntr</td>\n      <td>0.285439</td>\n      <td>0.294298</td>\n      <td>accuracy</td>\n      <td>3.981418</td>\n      <td>0.060448</td>\n      <td>5.389389</td>\n      <td>3.981418</td>\n      <td>0.060448</td>\n      <td>5.389389</td>\n      <td>1</td>\n      <td>True</td>\n      <td>10</td>\n    </tr>\n    <tr>\n      <th>12</th>\n      <td>KNeighborsDist</td>\n      <td>0.057818</td>\n      <td>0.055702</td>\n      <td>accuracy</td>\n      <td>22.482218</td>\n      <td>0.926696</td>\n      <td>0.453457</td>\n      <td>22.482218</td>\n      <td>0.926696</td>\n      <td>0.453457</td>\n      <td>1</td>\n      <td>True</td>\n      <td>2</td>\n    </tr>\n    <tr>\n      <th>13</th>\n      <td>KNeighborsUnif</td>\n      <td>0.039901</td>\n      <td>0.039035</td>\n      <td>accuracy</td>\n      <td>21.587455</td>\n      <td>1.915076</td>\n      <td>13.659499</td>\n      <td>21.587455</td>\n      <td>1.915076</td>\n      <td>13.659499</td>\n      <td>1</td>\n      <td>True</td>\n      <td>1</td>\n    </tr>\n  </tbody>\n</table>\n</div>"
     },
     "execution_count": 12,
     "metadata": {},
     "output_type": "execute_result"
    }
   ],
   "source": [
    "predictor.leaderboard(test_data)"
   ],
   "metadata": {
    "collapsed": false,
    "ExecuteTime": {
     "end_time": "2023-12-19T01:15:32.647691300Z",
     "start_time": "2023-12-19T01:09:29.195594800Z"
    }
   },
   "id": "60df8f7f5872ed15"
  },
  {
   "cell_type": "code",
   "execution_count": 16,
   "outputs": [
    {
     "data": {
      "text/plain": "                artists  \\\n39351       Hans Zimmer   \n1579    Ikebe Shakedown   \n6818    Mord'a'Stigmata   \n82742   Swingin' Utters   \n111345       Cibo Matto   \n\n                                                                  album_name  \\\n39351   Interstellar (Original Motion Picture Soundtrack) [Expanded Edition]   \n1579                                                         Ikebe Shakedown   \n6818                                                  Dreams of Quiet Places   \n82742                                                   Five Lessons Learned   \n111345                                                       Hotel Valentine   \n\n                      track_name  popularity  duration_ms  explicit  \\\n39351                 First Step          59       107767     False   \n1579              Tame the Beats          18       202466     False   \n6818      Between Walls of Glass          16       523351     False   \n82742   A Promise to Distinction          23       128066     False   \n111345                       MFN          22       207911      True   \n\n        danceability  energy  key  loudness  mode  speechiness  acousticness  \\\n39351          0.163   0.084    9   -19.007     0       0.0329       0.43300   \n1579           0.826   0.744    8    -8.207     1       0.0528       0.39600   \n6818           0.248   0.534    6    -8.270     1       0.0523       0.04380   \n82742          0.396   0.981    7    -4.153     1       0.0633       0.00329   \n111345         0.565   0.701    5    -4.098     1       0.0445       0.14400   \n\n        instrumentalness  liveness  valence    tempo  time_signature  \\\n39351           0.950000    0.1020   0.0345   71.028               4   \n1579            0.901000    0.0672   0.9770  144.981               4   \n6818            0.633000    0.1190   0.0357  113.970               4   \n82742           0.000035    0.1940   0.7610  115.804               4   \n111345          0.000000    0.1250   0.4210  150.900               4   \n\n        track_genre  \n39351        german  \n1579       afrobeat  \n6818    black-metal  \n82742     power-pop  \n111345     trip-hop  ",
      "text/html": "<div>\n<style scoped>\n    .dataframe tbody tr th:only-of-type {\n        vertical-align: middle;\n    }\n\n    .dataframe tbody tr th {\n        vertical-align: top;\n    }\n\n    .dataframe thead th {\n        text-align: right;\n    }\n</style>\n<table border=\"1\" class=\"dataframe\">\n  <thead>\n    <tr style=\"text-align: right;\">\n      <th></th>\n      <th>artists</th>\n      <th>album_name</th>\n      <th>track_name</th>\n      <th>popularity</th>\n      <th>duration_ms</th>\n      <th>explicit</th>\n      <th>danceability</th>\n      <th>energy</th>\n      <th>key</th>\n      <th>loudness</th>\n      <th>mode</th>\n      <th>speechiness</th>\n      <th>acousticness</th>\n      <th>instrumentalness</th>\n      <th>liveness</th>\n      <th>valence</th>\n      <th>tempo</th>\n      <th>time_signature</th>\n      <th>track_genre</th>\n    </tr>\n  </thead>\n  <tbody>\n    <tr>\n      <th>39351</th>\n      <td>Hans Zimmer</td>\n      <td>Interstellar (Original Motion Picture Soundtrack) [Expanded Edition]</td>\n      <td>First Step</td>\n      <td>59</td>\n      <td>107767</td>\n      <td>False</td>\n      <td>0.163</td>\n      <td>0.084</td>\n      <td>9</td>\n      <td>-19.007</td>\n      <td>0</td>\n      <td>0.0329</td>\n      <td>0.43300</td>\n      <td>0.950000</td>\n      <td>0.1020</td>\n      <td>0.0345</td>\n      <td>71.028</td>\n      <td>4</td>\n      <td>german</td>\n    </tr>\n    <tr>\n      <th>1579</th>\n      <td>Ikebe Shakedown</td>\n      <td>Ikebe Shakedown</td>\n      <td>Tame the Beats</td>\n      <td>18</td>\n      <td>202466</td>\n      <td>False</td>\n      <td>0.826</td>\n      <td>0.744</td>\n      <td>8</td>\n      <td>-8.207</td>\n      <td>1</td>\n      <td>0.0528</td>\n      <td>0.39600</td>\n      <td>0.901000</td>\n      <td>0.0672</td>\n      <td>0.9770</td>\n      <td>144.981</td>\n      <td>4</td>\n      <td>afrobeat</td>\n    </tr>\n    <tr>\n      <th>6818</th>\n      <td>Mord'a'Stigmata</td>\n      <td>Dreams of Quiet Places</td>\n      <td>Between Walls of Glass</td>\n      <td>16</td>\n      <td>523351</td>\n      <td>False</td>\n      <td>0.248</td>\n      <td>0.534</td>\n      <td>6</td>\n      <td>-8.270</td>\n      <td>1</td>\n      <td>0.0523</td>\n      <td>0.04380</td>\n      <td>0.633000</td>\n      <td>0.1190</td>\n      <td>0.0357</td>\n      <td>113.970</td>\n      <td>4</td>\n      <td>black-metal</td>\n    </tr>\n    <tr>\n      <th>82742</th>\n      <td>Swingin' Utters</td>\n      <td>Five Lessons Learned</td>\n      <td>A Promise to Distinction</td>\n      <td>23</td>\n      <td>128066</td>\n      <td>False</td>\n      <td>0.396</td>\n      <td>0.981</td>\n      <td>7</td>\n      <td>-4.153</td>\n      <td>1</td>\n      <td>0.0633</td>\n      <td>0.00329</td>\n      <td>0.000035</td>\n      <td>0.1940</td>\n      <td>0.7610</td>\n      <td>115.804</td>\n      <td>4</td>\n      <td>power-pop</td>\n    </tr>\n    <tr>\n      <th>111345</th>\n      <td>Cibo Matto</td>\n      <td>Hotel Valentine</td>\n      <td>MFN</td>\n      <td>22</td>\n      <td>207911</td>\n      <td>True</td>\n      <td>0.565</td>\n      <td>0.701</td>\n      <td>5</td>\n      <td>-4.098</td>\n      <td>1</td>\n      <td>0.0445</td>\n      <td>0.14400</td>\n      <td>0.000000</td>\n      <td>0.1250</td>\n      <td>0.4210</td>\n      <td>150.900</td>\n      <td>4</td>\n      <td>trip-hop</td>\n    </tr>\n  </tbody>\n</table>\n</div>"
     },
     "execution_count": 16,
     "metadata": {},
     "output_type": "execute_result"
    }
   ],
   "source": [
    "train_data.head()"
   ],
   "metadata": {
    "collapsed": false,
    "ExecuteTime": {
     "end_time": "2024-02-15T20:49:18.978783800Z",
     "start_time": "2024-02-15T20:49:18.893782300Z"
    }
   },
   "id": "55cd37cf596b1899"
  },
  {
   "cell_type": "code",
   "execution_count": 7,
   "outputs": [
    {
     "data": {
      "text/plain": "Index(['artists', 'album_name', 'track_name', 'popularity', 'duration_ms',\n       'explicit', 'danceability', 'energy', 'key', 'loudness', 'mode',\n       'speechiness', 'acousticness', 'instrumentalness', 'liveness',\n       'valence', 'tempo', 'time_signature'],\n      dtype='object')"
     },
     "execution_count": 7,
     "metadata": {},
     "output_type": "execute_result"
    }
   ],
   "source": [
    "train_data.columns[:-1]"
   ],
   "metadata": {
    "collapsed": false,
    "ExecuteTime": {
     "end_time": "2024-02-19T15:39:10.647837Z",
     "start_time": "2024-02-19T15:39:10.602837600Z"
    }
   },
   "id": "88dad6a8c2c92681"
  },
  {
   "cell_type": "code",
   "execution_count": 5,
   "outputs": [
    {
     "ename": "KeyboardInterrupt",
     "evalue": "",
     "output_type": "error",
     "traceback": [
      "\u001B[1;31m---------------------------------------------------------------------------\u001B[0m",
      "\u001B[1;31mKeyboardInterrupt\u001B[0m                         Traceback (most recent call last)",
      "Cell \u001B[1;32mIn[5], line 14\u001B[0m\n\u001B[0;32m     11\u001B[0m     \u001B[38;5;28;01mreturn\u001B[39;00m preds\n\u001B[0;32m     13\u001B[0m to_be_explained \u001B[38;5;241m=\u001B[39m pd\u001B[38;5;241m.\u001B[39mDataFrame(test_data)\u001B[38;5;241m.\u001B[39mdrop(\u001B[38;5;124m'\u001B[39m\u001B[38;5;124mtrack_genre\u001B[39m\u001B[38;5;124m'\u001B[39m, axis\u001B[38;5;241m=\u001B[39m\u001B[38;5;241m1\u001B[39m)\u001B[38;5;241m.\u001B[39mto_numpy()[\u001B[38;5;241m0\u001B[39m]\n\u001B[1;32m---> 14\u001B[0m explainer \u001B[38;5;241m=\u001B[39m \u001B[43mshap\u001B[49m\u001B[38;5;241m.\u001B[39mKernelExplainer(wrapped_model, train_data\u001B[38;5;241m.\u001B[39mdrop(\u001B[38;5;124m'\u001B[39m\u001B[38;5;124mtrack_genre\u001B[39m\u001B[38;5;124m'\u001B[39m, axis\u001B[38;5;241m=\u001B[39m\u001B[38;5;241m1\u001B[39m)\u001B[38;5;241m.\u001B[39msample(n\u001B[38;5;241m=\u001B[39m\u001B[38;5;241m100\u001B[39m))\n\u001B[0;32m     15\u001B[0m shap_values \u001B[38;5;241m=\u001B[39m explainer\u001B[38;5;241m.\u001B[39mshap_values(to_be_explained)\n\u001B[0;32m     16\u001B[0m relevance \u001B[38;5;241m=\u001B[39m \u001B[38;5;28mabs\u001B[39m(shap_values\u001B[38;5;241m.\u001B[39mravel())\n",
      "Cell \u001B[1;32mIn[5], line 14\u001B[0m\n\u001B[0;32m     11\u001B[0m     \u001B[38;5;28;01mreturn\u001B[39;00m preds\n\u001B[0;32m     13\u001B[0m to_be_explained \u001B[38;5;241m=\u001B[39m pd\u001B[38;5;241m.\u001B[39mDataFrame(test_data)\u001B[38;5;241m.\u001B[39mdrop(\u001B[38;5;124m'\u001B[39m\u001B[38;5;124mtrack_genre\u001B[39m\u001B[38;5;124m'\u001B[39m, axis\u001B[38;5;241m=\u001B[39m\u001B[38;5;241m1\u001B[39m)\u001B[38;5;241m.\u001B[39mto_numpy()[\u001B[38;5;241m0\u001B[39m]\n\u001B[1;32m---> 14\u001B[0m explainer \u001B[38;5;241m=\u001B[39m \u001B[43mshap\u001B[49m\u001B[38;5;241m.\u001B[39mKernelExplainer(wrapped_model, train_data\u001B[38;5;241m.\u001B[39mdrop(\u001B[38;5;124m'\u001B[39m\u001B[38;5;124mtrack_genre\u001B[39m\u001B[38;5;124m'\u001B[39m, axis\u001B[38;5;241m=\u001B[39m\u001B[38;5;241m1\u001B[39m)\u001B[38;5;241m.\u001B[39msample(n\u001B[38;5;241m=\u001B[39m\u001B[38;5;241m100\u001B[39m))\n\u001B[0;32m     15\u001B[0m shap_values \u001B[38;5;241m=\u001B[39m explainer\u001B[38;5;241m.\u001B[39mshap_values(to_be_explained)\n\u001B[0;32m     16\u001B[0m relevance \u001B[38;5;241m=\u001B[39m \u001B[38;5;28mabs\u001B[39m(shap_values\u001B[38;5;241m.\u001B[39mravel())\n",
      "File \u001B[1;32m_pydevd_bundle\\pydevd_cython_win32_310_64.pyx:1179\u001B[0m, in \u001B[0;36m_pydevd_bundle.pydevd_cython_win32_310_64.SafeCallWrapper.__call__\u001B[1;34m()\u001B[0m\n",
      "File \u001B[1;32m_pydevd_bundle\\pydevd_cython_win32_310_64.pyx:620\u001B[0m, in \u001B[0;36m_pydevd_bundle.pydevd_cython_win32_310_64.PyDBFrame.trace_dispatch\u001B[1;34m()\u001B[0m\n",
      "File \u001B[1;32m_pydevd_bundle\\pydevd_cython_win32_310_64.pyx:929\u001B[0m, in \u001B[0;36m_pydevd_bundle.pydevd_cython_win32_310_64.PyDBFrame.trace_dispatch\u001B[1;34m()\u001B[0m\n",
      "File \u001B[1;32m_pydevd_bundle\\pydevd_cython_win32_310_64.pyx:920\u001B[0m, in \u001B[0;36m_pydevd_bundle.pydevd_cython_win32_310_64.PyDBFrame.trace_dispatch\u001B[1;34m()\u001B[0m\n",
      "File \u001B[1;32m_pydevd_bundle\\pydevd_cython_win32_310_64.pyx:317\u001B[0m, in \u001B[0;36m_pydevd_bundle.pydevd_cython_win32_310_64.PyDBFrame.do_wait_suspend\u001B[1;34m()\u001B[0m\n",
      "File \u001B[1;32m~\\AppData\\Local\\Programs\\PyCharm Professional\\plugins\\python\\helpers\\pydev\\pydevd.py:1160\u001B[0m, in \u001B[0;36mPyDB.do_wait_suspend\u001B[1;34m(self, thread, frame, event, arg, send_suspend_message, is_unhandled_exception)\u001B[0m\n\u001B[0;32m   1157\u001B[0m         from_this_thread\u001B[38;5;241m.\u001B[39mappend(frame_id)\n\u001B[0;32m   1159\u001B[0m \u001B[38;5;28;01mwith\u001B[39;00m \u001B[38;5;28mself\u001B[39m\u001B[38;5;241m.\u001B[39m_threads_suspended_single_notification\u001B[38;5;241m.\u001B[39mnotify_thread_suspended(thread_id, stop_reason):\n\u001B[1;32m-> 1160\u001B[0m     \u001B[38;5;28;43mself\u001B[39;49m\u001B[38;5;241;43m.\u001B[39;49m\u001B[43m_do_wait_suspend\u001B[49m\u001B[43m(\u001B[49m\u001B[43mthread\u001B[49m\u001B[43m,\u001B[49m\u001B[43m \u001B[49m\u001B[43mframe\u001B[49m\u001B[43m,\u001B[49m\u001B[43m \u001B[49m\u001B[43mevent\u001B[49m\u001B[43m,\u001B[49m\u001B[43m \u001B[49m\u001B[43marg\u001B[49m\u001B[43m,\u001B[49m\u001B[43m \u001B[49m\u001B[43msuspend_type\u001B[49m\u001B[43m,\u001B[49m\u001B[43m \u001B[49m\u001B[43mfrom_this_thread\u001B[49m\u001B[43m)\u001B[49m\n",
      "File \u001B[1;32m~\\AppData\\Local\\Programs\\PyCharm Professional\\plugins\\python\\helpers\\pydev\\pydevd.py:1175\u001B[0m, in \u001B[0;36mPyDB._do_wait_suspend\u001B[1;34m(self, thread, frame, event, arg, suspend_type, from_this_thread)\u001B[0m\n\u001B[0;32m   1172\u001B[0m             \u001B[38;5;28mself\u001B[39m\u001B[38;5;241m.\u001B[39m_call_mpl_hook()\n\u001B[0;32m   1174\u001B[0m         \u001B[38;5;28mself\u001B[39m\u001B[38;5;241m.\u001B[39mprocess_internal_commands()\n\u001B[1;32m-> 1175\u001B[0m         \u001B[43mtime\u001B[49m\u001B[38;5;241;43m.\u001B[39;49m\u001B[43msleep\u001B[49m\u001B[43m(\u001B[49m\u001B[38;5;241;43m0.01\u001B[39;49m\u001B[43m)\u001B[49m\n\u001B[0;32m   1177\u001B[0m \u001B[38;5;28mself\u001B[39m\u001B[38;5;241m.\u001B[39mcancel_async_evaluation(get_current_thread_id(thread), \u001B[38;5;28mstr\u001B[39m(\u001B[38;5;28mid\u001B[39m(frame)))\n\u001B[0;32m   1179\u001B[0m \u001B[38;5;66;03m# process any stepping instructions\u001B[39;00m\n",
      "\u001B[1;31mKeyboardInterrupt\u001B[0m: "
     ]
    }
   ],
   "source": [
    "import shap\n",
    "import matplotlib.pyplot as plt\n",
    "import pandas as pd\n",
    "\n",
    "def wrapped_model(x):\n",
    "    column_names = train_data.columns[:-1]\n",
    "    x = pd.DataFrame(x)\n",
    "    x.columns = column_names\n",
    "    preds = predictor.predict(x).to_numpy()\n",
    "        \n",
    "    return preds\n",
    "\n",
    "to_be_explained = pd.DataFrame(test_data).drop('track_genre', axis=1).to_numpy()[0]\n",
    "explainer = shap.KernelExplainer(wrapped_model, train_data.drop('track_genre', axis=1).sample(n=100))\n",
    "shap_values = explainer.shap_values(to_be_explained)\n",
    "relevance = abs(shap_values.ravel())\n",
    "\n",
    "\n",
    "norm_relevance = ((relevance - min(relevance)) / (max(relevance) - min(relevance)))\n",
    "\n",
    "print(relevance)\n",
    "plt.imshow(norm_relevance.reshape((2, 9)))\n",
    "plt.colorbar()"
   ],
   "metadata": {
    "collapsed": false,
    "ExecuteTime": {
     "end_time": "2024-02-21T14:27:22.034520400Z",
     "start_time": "2024-02-21T14:14:10.770791900Z"
    }
   },
   "id": "72805d6b23b8cb35"
  },
  {
   "cell_type": "code",
   "execution_count": 21,
   "outputs": [
    {
     "ename": "TypeError",
     "evalue": "unsupported operand type(s) for -: 'str' and 'str'",
     "output_type": "error",
     "traceback": [
      "\u001B[1;31m---------------------------------------------------------------------------\u001B[0m",
      "\u001B[1;31mTypeError\u001B[0m                                 Traceback (most recent call last)",
      "Cell \u001B[1;32mIn[21], line 16\u001B[0m\n\u001B[0;32m     13\u001B[0m     \u001B[38;5;28;01mreturn\u001B[39;00m preds\n\u001B[0;32m     15\u001B[0m background \u001B[38;5;241m=\u001B[39m train_data\u001B[38;5;241m.\u001B[39mdrop(\u001B[38;5;124m'\u001B[39m\u001B[38;5;124mtrack_genre\u001B[39m\u001B[38;5;124m'\u001B[39m, axis\u001B[38;5;241m=\u001B[39m\u001B[38;5;241m1\u001B[39m)\u001B[38;5;241m.\u001B[39msample(n\u001B[38;5;241m=\u001B[39m\u001B[38;5;241m100\u001B[39m)\u001B[38;5;241m.\u001B[39mto_numpy()\n\u001B[1;32m---> 16\u001B[0m explainer \u001B[38;5;241m=\u001B[39m \u001B[43mlime\u001B[49m\u001B[38;5;241;43m.\u001B[39;49m\u001B[43mlime_tabular\u001B[49m\u001B[38;5;241;43m.\u001B[39;49m\u001B[43mLimeTabularExplainer\u001B[49m\u001B[43m(\u001B[49m\n\u001B[0;32m     17\u001B[0m \u001B[43m    \u001B[49m\u001B[43mbackground\u001B[49m\u001B[43m,\u001B[49m\n\u001B[0;32m     18\u001B[0m \u001B[43m    \u001B[49m\u001B[43mfeature_names\u001B[49m\u001B[38;5;241;43m=\u001B[39;49m\u001B[43mtrain_data\u001B[49m\u001B[38;5;241;43m.\u001B[39;49m\u001B[43mcolumns\u001B[49m\u001B[43m,\u001B[49m\n\u001B[0;32m     19\u001B[0m \u001B[43m    \u001B[49m\u001B[43mverbose\u001B[49m\u001B[38;5;241;43m=\u001B[39;49m\u001B[38;5;28;43;01mTrue\u001B[39;49;00m\u001B[43m,\u001B[49m\n\u001B[0;32m     20\u001B[0m \u001B[43m    \u001B[49m\u001B[43mmode\u001B[49m\u001B[38;5;241;43m=\u001B[39;49m\u001B[38;5;124;43m'\u001B[39;49m\u001B[38;5;124;43mclassification\u001B[39;49m\u001B[38;5;124;43m'\u001B[39;49m\u001B[43m,\u001B[49m\n\u001B[0;32m     21\u001B[0m \u001B[43m)\u001B[49m\n\u001B[0;32m     23\u001B[0m test \u001B[38;5;241m=\u001B[39m train_data\u001B[38;5;241m.\u001B[39mdrop(\u001B[38;5;124m'\u001B[39m\u001B[38;5;124mtrack_genre\u001B[39m\u001B[38;5;124m'\u001B[39m, axis\u001B[38;5;241m=\u001B[39m\u001B[38;5;241m1\u001B[39m)\u001B[38;5;241m.\u001B[39mto_numpy()[\u001B[38;5;241m0\u001B[39m]\n\u001B[0;32m     25\u001B[0m exp \u001B[38;5;241m=\u001B[39m explainer\u001B[38;5;241m.\u001B[39mexplain_instance(test, wrapped_net, num_features\u001B[38;5;241m=\u001B[39m\u001B[38;5;241m18\u001B[39m)\n",
      "File \u001B[1;32m~\\Desktop\\autoML_test\\venv\\lib\\site-packages\\lime\\lime_tabular.py:215\u001B[0m, in \u001B[0;36mLimeTabularExplainer.__init__\u001B[1;34m(self, training_data, mode, training_labels, feature_names, categorical_features, categorical_names, kernel_width, kernel, verbose, class_names, feature_selection, discretize_continuous, discretizer, sample_around_instance, random_state, training_data_stats)\u001B[0m\n\u001B[0;32m    209\u001B[0m     discretizer \u001B[38;5;241m=\u001B[39m StatsDiscretizer(training_data, \u001B[38;5;28mself\u001B[39m\u001B[38;5;241m.\u001B[39mcategorical_features,\n\u001B[0;32m    210\u001B[0m                                    \u001B[38;5;28mself\u001B[39m\u001B[38;5;241m.\u001B[39mfeature_names, labels\u001B[38;5;241m=\u001B[39mtraining_labels,\n\u001B[0;32m    211\u001B[0m                                    data_stats\u001B[38;5;241m=\u001B[39m\u001B[38;5;28mself\u001B[39m\u001B[38;5;241m.\u001B[39mtraining_data_stats,\n\u001B[0;32m    212\u001B[0m                                    random_state\u001B[38;5;241m=\u001B[39m\u001B[38;5;28mself\u001B[39m\u001B[38;5;241m.\u001B[39mrandom_state)\n\u001B[0;32m    214\u001B[0m \u001B[38;5;28;01mif\u001B[39;00m discretizer \u001B[38;5;241m==\u001B[39m \u001B[38;5;124m'\u001B[39m\u001B[38;5;124mquartile\u001B[39m\u001B[38;5;124m'\u001B[39m:\n\u001B[1;32m--> 215\u001B[0m     \u001B[38;5;28mself\u001B[39m\u001B[38;5;241m.\u001B[39mdiscretizer \u001B[38;5;241m=\u001B[39m \u001B[43mQuartileDiscretizer\u001B[49m\u001B[43m(\u001B[49m\n\u001B[0;32m    216\u001B[0m \u001B[43m            \u001B[49m\u001B[43mtraining_data\u001B[49m\u001B[43m,\u001B[49m\u001B[43m \u001B[49m\u001B[38;5;28;43mself\u001B[39;49m\u001B[38;5;241;43m.\u001B[39;49m\u001B[43mcategorical_features\u001B[49m\u001B[43m,\u001B[49m\n\u001B[0;32m    217\u001B[0m \u001B[43m            \u001B[49m\u001B[38;5;28;43mself\u001B[39;49m\u001B[38;5;241;43m.\u001B[39;49m\u001B[43mfeature_names\u001B[49m\u001B[43m,\u001B[49m\u001B[43m \u001B[49m\u001B[43mlabels\u001B[49m\u001B[38;5;241;43m=\u001B[39;49m\u001B[43mtraining_labels\u001B[49m\u001B[43m,\u001B[49m\n\u001B[0;32m    218\u001B[0m \u001B[43m            \u001B[49m\u001B[43mrandom_state\u001B[49m\u001B[38;5;241;43m=\u001B[39;49m\u001B[38;5;28;43mself\u001B[39;49m\u001B[38;5;241;43m.\u001B[39;49m\u001B[43mrandom_state\u001B[49m\u001B[43m)\u001B[49m\n\u001B[0;32m    219\u001B[0m \u001B[38;5;28;01melif\u001B[39;00m discretizer \u001B[38;5;241m==\u001B[39m \u001B[38;5;124m'\u001B[39m\u001B[38;5;124mdecile\u001B[39m\u001B[38;5;124m'\u001B[39m:\n\u001B[0;32m    220\u001B[0m     \u001B[38;5;28mself\u001B[39m\u001B[38;5;241m.\u001B[39mdiscretizer \u001B[38;5;241m=\u001B[39m DecileDiscretizer(\n\u001B[0;32m    221\u001B[0m             training_data, \u001B[38;5;28mself\u001B[39m\u001B[38;5;241m.\u001B[39mcategorical_features,\n\u001B[0;32m    222\u001B[0m             \u001B[38;5;28mself\u001B[39m\u001B[38;5;241m.\u001B[39mfeature_names, labels\u001B[38;5;241m=\u001B[39mtraining_labels,\n\u001B[0;32m    223\u001B[0m             random_state\u001B[38;5;241m=\u001B[39m\u001B[38;5;28mself\u001B[39m\u001B[38;5;241m.\u001B[39mrandom_state)\n",
      "File \u001B[1;32m~\\Desktop\\autoML_test\\venv\\lib\\site-packages\\lime\\discretize.py:178\u001B[0m, in \u001B[0;36mQuartileDiscretizer.__init__\u001B[1;34m(self, data, categorical_features, feature_names, labels, random_state)\u001B[0m\n\u001B[0;32m    176\u001B[0m \u001B[38;5;28;01mdef\u001B[39;00m \u001B[38;5;21m__init__\u001B[39m(\u001B[38;5;28mself\u001B[39m, data, categorical_features, feature_names, labels\u001B[38;5;241m=\u001B[39m\u001B[38;5;28;01mNone\u001B[39;00m, random_state\u001B[38;5;241m=\u001B[39m\u001B[38;5;28;01mNone\u001B[39;00m):\n\u001B[1;32m--> 178\u001B[0m     \u001B[43mBaseDiscretizer\u001B[49m\u001B[38;5;241;43m.\u001B[39;49m\u001B[38;5;21;43m__init__\u001B[39;49m\u001B[43m(\u001B[49m\u001B[38;5;28;43mself\u001B[39;49m\u001B[43m,\u001B[49m\u001B[43m \u001B[49m\u001B[43mdata\u001B[49m\u001B[43m,\u001B[49m\u001B[43m \u001B[49m\u001B[43mcategorical_features\u001B[49m\u001B[43m,\u001B[49m\n\u001B[0;32m    179\u001B[0m \u001B[43m                             \u001B[49m\u001B[43mfeature_names\u001B[49m\u001B[43m,\u001B[49m\u001B[43m \u001B[49m\u001B[43mlabels\u001B[49m\u001B[38;5;241;43m=\u001B[39;49m\u001B[43mlabels\u001B[49m\u001B[43m,\u001B[49m\n\u001B[0;32m    180\u001B[0m \u001B[43m                             \u001B[49m\u001B[43mrandom_state\u001B[49m\u001B[38;5;241;43m=\u001B[39;49m\u001B[43mrandom_state\u001B[49m\u001B[43m)\u001B[49m\n",
      "File \u001B[1;32m~\\Desktop\\autoML_test\\venv\\lib\\site-packages\\lime\\discretize.py:51\u001B[0m, in \u001B[0;36mBaseDiscretizer.__init__\u001B[1;34m(self, data, categorical_features, feature_names, labels, random_state, data_stats)\u001B[0m\n\u001B[0;32m     48\u001B[0m \u001B[38;5;28mself\u001B[39m\u001B[38;5;241m.\u001B[39mrandom_state \u001B[38;5;241m=\u001B[39m check_random_state(random_state)\n\u001B[0;32m     50\u001B[0m \u001B[38;5;66;03m# To override when implementing a custom binning\u001B[39;00m\n\u001B[1;32m---> 51\u001B[0m bins \u001B[38;5;241m=\u001B[39m \u001B[38;5;28;43mself\u001B[39;49m\u001B[38;5;241;43m.\u001B[39;49m\u001B[43mbins\u001B[49m\u001B[43m(\u001B[49m\u001B[43mdata\u001B[49m\u001B[43m,\u001B[49m\u001B[43m \u001B[49m\u001B[43mlabels\u001B[49m\u001B[43m)\u001B[49m\n\u001B[0;32m     52\u001B[0m bins \u001B[38;5;241m=\u001B[39m [np\u001B[38;5;241m.\u001B[39munique(x) \u001B[38;5;28;01mfor\u001B[39;00m x \u001B[38;5;129;01min\u001B[39;00m bins]\n\u001B[0;32m     54\u001B[0m \u001B[38;5;66;03m# Read the stats from data_stats if exists\u001B[39;00m\n",
      "File \u001B[1;32m~\\Desktop\\autoML_test\\venv\\lib\\site-packages\\lime\\discretize.py:185\u001B[0m, in \u001B[0;36mQuartileDiscretizer.bins\u001B[1;34m(self, data, labels)\u001B[0m\n\u001B[0;32m    183\u001B[0m bins \u001B[38;5;241m=\u001B[39m []\n\u001B[0;32m    184\u001B[0m \u001B[38;5;28;01mfor\u001B[39;00m feature \u001B[38;5;129;01min\u001B[39;00m \u001B[38;5;28mself\u001B[39m\u001B[38;5;241m.\u001B[39mto_discretize:\n\u001B[1;32m--> 185\u001B[0m     qts \u001B[38;5;241m=\u001B[39m np\u001B[38;5;241m.\u001B[39marray(\u001B[43mnp\u001B[49m\u001B[38;5;241;43m.\u001B[39;49m\u001B[43mpercentile\u001B[49m\u001B[43m(\u001B[49m\u001B[43mdata\u001B[49m\u001B[43m[\u001B[49m\u001B[43m:\u001B[49m\u001B[43m,\u001B[49m\u001B[43m \u001B[49m\u001B[43mfeature\u001B[49m\u001B[43m]\u001B[49m\u001B[43m,\u001B[49m\u001B[43m \u001B[49m\u001B[43m[\u001B[49m\u001B[38;5;241;43m25\u001B[39;49m\u001B[43m,\u001B[49m\u001B[43m \u001B[49m\u001B[38;5;241;43m50\u001B[39;49m\u001B[43m,\u001B[49m\u001B[43m \u001B[49m\u001B[38;5;241;43m75\u001B[39;49m\u001B[43m]\u001B[49m\u001B[43m)\u001B[49m)\n\u001B[0;32m    186\u001B[0m     bins\u001B[38;5;241m.\u001B[39mappend(qts)\n\u001B[0;32m    187\u001B[0m \u001B[38;5;28;01mreturn\u001B[39;00m bins\n",
      "File \u001B[1;32m~\\Desktop\\autoML_test\\venv\\lib\\site-packages\\numpy\\lib\\function_base.py:4283\u001B[0m, in \u001B[0;36mpercentile\u001B[1;34m(a, q, axis, out, overwrite_input, method, keepdims, interpolation)\u001B[0m\n\u001B[0;32m   4281\u001B[0m \u001B[38;5;28;01mif\u001B[39;00m \u001B[38;5;129;01mnot\u001B[39;00m _quantile_is_valid(q):\n\u001B[0;32m   4282\u001B[0m     \u001B[38;5;28;01mraise\u001B[39;00m \u001B[38;5;167;01mValueError\u001B[39;00m(\u001B[38;5;124m\"\u001B[39m\u001B[38;5;124mPercentiles must be in the range [0, 100]\u001B[39m\u001B[38;5;124m\"\u001B[39m)\n\u001B[1;32m-> 4283\u001B[0m \u001B[38;5;28;01mreturn\u001B[39;00m \u001B[43m_quantile_unchecked\u001B[49m\u001B[43m(\u001B[49m\n\u001B[0;32m   4284\u001B[0m \u001B[43m    \u001B[49m\u001B[43ma\u001B[49m\u001B[43m,\u001B[49m\u001B[43m \u001B[49m\u001B[43mq\u001B[49m\u001B[43m,\u001B[49m\u001B[43m \u001B[49m\u001B[43maxis\u001B[49m\u001B[43m,\u001B[49m\u001B[43m \u001B[49m\u001B[43mout\u001B[49m\u001B[43m,\u001B[49m\u001B[43m \u001B[49m\u001B[43moverwrite_input\u001B[49m\u001B[43m,\u001B[49m\u001B[43m \u001B[49m\u001B[43mmethod\u001B[49m\u001B[43m,\u001B[49m\u001B[43m \u001B[49m\u001B[43mkeepdims\u001B[49m\u001B[43m)\u001B[49m\n",
      "File \u001B[1;32m~\\Desktop\\autoML_test\\venv\\lib\\site-packages\\numpy\\lib\\function_base.py:4555\u001B[0m, in \u001B[0;36m_quantile_unchecked\u001B[1;34m(a, q, axis, out, overwrite_input, method, keepdims)\u001B[0m\n\u001B[0;32m   4547\u001B[0m \u001B[38;5;28;01mdef\u001B[39;00m \u001B[38;5;21m_quantile_unchecked\u001B[39m(a,\n\u001B[0;32m   4548\u001B[0m                         q,\n\u001B[0;32m   4549\u001B[0m                         axis\u001B[38;5;241m=\u001B[39m\u001B[38;5;28;01mNone\u001B[39;00m,\n\u001B[1;32m   (...)\u001B[0m\n\u001B[0;32m   4552\u001B[0m                         method\u001B[38;5;241m=\u001B[39m\u001B[38;5;124m\"\u001B[39m\u001B[38;5;124mlinear\u001B[39m\u001B[38;5;124m\"\u001B[39m,\n\u001B[0;32m   4553\u001B[0m                         keepdims\u001B[38;5;241m=\u001B[39m\u001B[38;5;28;01mFalse\u001B[39;00m):\n\u001B[0;32m   4554\u001B[0m \u001B[38;5;250m    \u001B[39m\u001B[38;5;124;03m\"\"\"Assumes that q is in [0, 1], and is an ndarray\"\"\"\u001B[39;00m\n\u001B[1;32m-> 4555\u001B[0m     \u001B[38;5;28;01mreturn\u001B[39;00m \u001B[43m_ureduce\u001B[49m\u001B[43m(\u001B[49m\u001B[43ma\u001B[49m\u001B[43m,\u001B[49m\n\u001B[0;32m   4556\u001B[0m \u001B[43m                    \u001B[49m\u001B[43mfunc\u001B[49m\u001B[38;5;241;43m=\u001B[39;49m\u001B[43m_quantile_ureduce_func\u001B[49m\u001B[43m,\u001B[49m\n\u001B[0;32m   4557\u001B[0m \u001B[43m                    \u001B[49m\u001B[43mq\u001B[49m\u001B[38;5;241;43m=\u001B[39;49m\u001B[43mq\u001B[49m\u001B[43m,\u001B[49m\n\u001B[0;32m   4558\u001B[0m \u001B[43m                    \u001B[49m\u001B[43mkeepdims\u001B[49m\u001B[38;5;241;43m=\u001B[39;49m\u001B[43mkeepdims\u001B[49m\u001B[43m,\u001B[49m\n\u001B[0;32m   4559\u001B[0m \u001B[43m                    \u001B[49m\u001B[43maxis\u001B[49m\u001B[38;5;241;43m=\u001B[39;49m\u001B[43maxis\u001B[49m\u001B[43m,\u001B[49m\n\u001B[0;32m   4560\u001B[0m \u001B[43m                    \u001B[49m\u001B[43mout\u001B[49m\u001B[38;5;241;43m=\u001B[39;49m\u001B[43mout\u001B[49m\u001B[43m,\u001B[49m\n\u001B[0;32m   4561\u001B[0m \u001B[43m                    \u001B[49m\u001B[43moverwrite_input\u001B[49m\u001B[38;5;241;43m=\u001B[39;49m\u001B[43moverwrite_input\u001B[49m\u001B[43m,\u001B[49m\n\u001B[0;32m   4562\u001B[0m \u001B[43m                    \u001B[49m\u001B[43mmethod\u001B[49m\u001B[38;5;241;43m=\u001B[39;49m\u001B[43mmethod\u001B[49m\u001B[43m)\u001B[49m\n",
      "File \u001B[1;32m~\\Desktop\\autoML_test\\venv\\lib\\site-packages\\numpy\\lib\\function_base.py:3823\u001B[0m, in \u001B[0;36m_ureduce\u001B[1;34m(a, func, keepdims, **kwargs)\u001B[0m\n\u001B[0;32m   3820\u001B[0m             index_out \u001B[38;5;241m=\u001B[39m (\u001B[38;5;241m0\u001B[39m, ) \u001B[38;5;241m*\u001B[39m nd\n\u001B[0;32m   3821\u001B[0m             kwargs[\u001B[38;5;124m'\u001B[39m\u001B[38;5;124mout\u001B[39m\u001B[38;5;124m'\u001B[39m] \u001B[38;5;241m=\u001B[39m out[(\u001B[38;5;28mEllipsis\u001B[39m, ) \u001B[38;5;241m+\u001B[39m index_out]\n\u001B[1;32m-> 3823\u001B[0m r \u001B[38;5;241m=\u001B[39m func(a, \u001B[38;5;241m*\u001B[39m\u001B[38;5;241m*\u001B[39mkwargs)\n\u001B[0;32m   3825\u001B[0m \u001B[38;5;28;01mif\u001B[39;00m out \u001B[38;5;129;01mis\u001B[39;00m \u001B[38;5;129;01mnot\u001B[39;00m \u001B[38;5;28;01mNone\u001B[39;00m:\n\u001B[0;32m   3826\u001B[0m     \u001B[38;5;28;01mreturn\u001B[39;00m out\n",
      "File \u001B[1;32m~\\Desktop\\autoML_test\\venv\\lib\\site-packages\\numpy\\lib\\function_base.py:4721\u001B[0m, in \u001B[0;36m_quantile_ureduce_func\u001B[1;34m(a, q, axis, out, overwrite_input, method)\u001B[0m\n\u001B[0;32m   4719\u001B[0m     \u001B[38;5;28;01melse\u001B[39;00m:\n\u001B[0;32m   4720\u001B[0m         arr \u001B[38;5;241m=\u001B[39m a\u001B[38;5;241m.\u001B[39mcopy()\n\u001B[1;32m-> 4721\u001B[0m result \u001B[38;5;241m=\u001B[39m \u001B[43m_quantile\u001B[49m\u001B[43m(\u001B[49m\u001B[43marr\u001B[49m\u001B[43m,\u001B[49m\n\u001B[0;32m   4722\u001B[0m \u001B[43m                   \u001B[49m\u001B[43mquantiles\u001B[49m\u001B[38;5;241;43m=\u001B[39;49m\u001B[43mq\u001B[49m\u001B[43m,\u001B[49m\n\u001B[0;32m   4723\u001B[0m \u001B[43m                   \u001B[49m\u001B[43maxis\u001B[49m\u001B[38;5;241;43m=\u001B[39;49m\u001B[43maxis\u001B[49m\u001B[43m,\u001B[49m\n\u001B[0;32m   4724\u001B[0m \u001B[43m                   \u001B[49m\u001B[43mmethod\u001B[49m\u001B[38;5;241;43m=\u001B[39;49m\u001B[43mmethod\u001B[49m\u001B[43m,\u001B[49m\n\u001B[0;32m   4725\u001B[0m \u001B[43m                   \u001B[49m\u001B[43mout\u001B[49m\u001B[38;5;241;43m=\u001B[39;49m\u001B[43mout\u001B[49m\u001B[43m)\u001B[49m\n\u001B[0;32m   4726\u001B[0m \u001B[38;5;28;01mreturn\u001B[39;00m result\n",
      "File \u001B[1;32m~\\Desktop\\autoML_test\\venv\\lib\\site-packages\\numpy\\lib\\function_base.py:4840\u001B[0m, in \u001B[0;36m_quantile\u001B[1;34m(arr, quantiles, axis, method, out)\u001B[0m\n\u001B[0;32m   4838\u001B[0m     result_shape \u001B[38;5;241m=\u001B[39m virtual_indexes\u001B[38;5;241m.\u001B[39mshape \u001B[38;5;241m+\u001B[39m (\u001B[38;5;241m1\u001B[39m,) \u001B[38;5;241m*\u001B[39m (arr\u001B[38;5;241m.\u001B[39mndim \u001B[38;5;241m-\u001B[39m \u001B[38;5;241m1\u001B[39m)\n\u001B[0;32m   4839\u001B[0m     gamma \u001B[38;5;241m=\u001B[39m gamma\u001B[38;5;241m.\u001B[39mreshape(result_shape)\n\u001B[1;32m-> 4840\u001B[0m     result \u001B[38;5;241m=\u001B[39m \u001B[43m_lerp\u001B[49m\u001B[43m(\u001B[49m\u001B[43mprevious\u001B[49m\u001B[43m,\u001B[49m\n\u001B[0;32m   4841\u001B[0m \u001B[43m                   \u001B[49m\u001B[38;5;28;43mnext\u001B[39;49m\u001B[43m,\u001B[49m\n\u001B[0;32m   4842\u001B[0m \u001B[43m                   \u001B[49m\u001B[43mgamma\u001B[49m\u001B[43m,\u001B[49m\n\u001B[0;32m   4843\u001B[0m \u001B[43m                   \u001B[49m\u001B[43mout\u001B[49m\u001B[38;5;241;43m=\u001B[39;49m\u001B[43mout\u001B[49m\u001B[43m)\u001B[49m\n\u001B[0;32m   4844\u001B[0m \u001B[38;5;28;01mif\u001B[39;00m np\u001B[38;5;241m.\u001B[39many(slices_having_nans):\n\u001B[0;32m   4845\u001B[0m     \u001B[38;5;28;01mif\u001B[39;00m result\u001B[38;5;241m.\u001B[39mndim \u001B[38;5;241m==\u001B[39m \u001B[38;5;241m0\u001B[39m \u001B[38;5;129;01mand\u001B[39;00m out \u001B[38;5;129;01mis\u001B[39;00m \u001B[38;5;28;01mNone\u001B[39;00m:\n\u001B[0;32m   4846\u001B[0m         \u001B[38;5;66;03m# can't write to a scalar, but indexing will be correct\u001B[39;00m\n",
      "File \u001B[1;32m~\\Desktop\\autoML_test\\venv\\lib\\site-packages\\numpy\\lib\\function_base.py:4655\u001B[0m, in \u001B[0;36m_lerp\u001B[1;34m(a, b, t, out)\u001B[0m\n\u001B[0;32m   4641\u001B[0m \u001B[38;5;28;01mdef\u001B[39;00m \u001B[38;5;21m_lerp\u001B[39m(a, b, t, out\u001B[38;5;241m=\u001B[39m\u001B[38;5;28;01mNone\u001B[39;00m):\n\u001B[0;32m   4642\u001B[0m \u001B[38;5;250m    \u001B[39m\u001B[38;5;124;03m\"\"\"\u001B[39;00m\n\u001B[0;32m   4643\u001B[0m \u001B[38;5;124;03m    Compute the linear interpolation weighted by gamma on each point of\u001B[39;00m\n\u001B[0;32m   4644\u001B[0m \u001B[38;5;124;03m    two same shape array.\u001B[39;00m\n\u001B[1;32m   (...)\u001B[0m\n\u001B[0;32m   4653\u001B[0m \u001B[38;5;124;03m        Output array.\u001B[39;00m\n\u001B[0;32m   4654\u001B[0m \u001B[38;5;124;03m    \"\"\"\u001B[39;00m\n\u001B[1;32m-> 4655\u001B[0m     diff_b_a \u001B[38;5;241m=\u001B[39m \u001B[43msubtract\u001B[49m\u001B[43m(\u001B[49m\u001B[43mb\u001B[49m\u001B[43m,\u001B[49m\u001B[43m \u001B[49m\u001B[43ma\u001B[49m\u001B[43m)\u001B[49m\n\u001B[0;32m   4656\u001B[0m     \u001B[38;5;66;03m# asanyarray is a stop-gap until gh-13105\u001B[39;00m\n\u001B[0;32m   4657\u001B[0m     lerp_interpolation \u001B[38;5;241m=\u001B[39m asanyarray(add(a, diff_b_a \u001B[38;5;241m*\u001B[39m t, out\u001B[38;5;241m=\u001B[39mout))\n",
      "\u001B[1;31mTypeError\u001B[0m: unsupported operand type(s) for -: 'str' and 'str'"
     ]
    }
   ],
   "source": [
    "import lime.lime_tabular\n",
    "import numpy as np\n",
    "import matplotlib.pyplot as plt\n",
    "import pandas as pd\n",
    "\n",
    "\n",
    "def wrapped_net(x):\n",
    "    column_names = train_data.columns\n",
    "    x = pd.DataFrame(x)\n",
    "    x.columns = column_names\n",
    "    preds = predictor.predict_proba(x).to_numpy()\n",
    "        \n",
    "    return preds\n",
    "\n",
    "background = train_data.drop('track_genre', axis=1).sample(n=100).to_numpy()\n",
    "explainer = lime.lime_tabular.LimeTabularExplainer(\n",
    "    background,\n",
    "    feature_names=train_data.columns,\n",
    "    verbose=True,\n",
    "    mode='classification',\n",
    ")\n",
    "\n",
    "test = train_data.drop('track_genre', axis=1).to_numpy()[0]\n",
    "\n",
    "exp = explainer.explain_instance(test, wrapped_net, num_features=18)\n",
    "# exp.save_to_file('lime_explanationall.html')\n",
    "# relevance = abs(np.asarray([float(i) for i in exp.domain_mapper.feature_values]))\n",
    "relevance = abs(np.asarray([j for i, j in sorted(exp.local_exp[1], key=lambda i: i[0])]))\n",
    "# relevance = exp.local_exp[1]\n",
    "norm_relevance = ((relevance - min(relevance)) / (max(relevance) - min(relevance)))\n",
    "\n",
    "\n",
    "print(relevance)\n",
    "plt.imshow(norm_relevance.reshape((2, 9)))\n",
    "plt.colorbar()"
   ],
   "metadata": {
    "collapsed": false,
    "ExecuteTime": {
     "end_time": "2024-02-15T21:04:14.285339500Z",
     "start_time": "2024-02-15T21:04:13.095340600Z"
    }
   },
   "id": "6efa8515b0d9aa4b"
  }
 ],
 "metadata": {
  "authors": [],
  "date": "",
  "title": "Allegato E: Autogloun test for Spotify track genre classification",
  "kernelspec": {
   "display_name": "Python 3",
   "language": "python",
   "name": "python3"
  },
  "language_info": {
   "codemirror_mode": {
    "name": "ipython",
    "version": 2
   },
   "file_extension": ".py",
   "mimetype": "text/x-python",
   "name": "python",
   "nbconvert_exporter": "python",
   "pygments_lexer": "ipython2",
   "version": "2.7.6"
  }
 },
 "nbformat": 4,
 "nbformat_minor": 5
}
