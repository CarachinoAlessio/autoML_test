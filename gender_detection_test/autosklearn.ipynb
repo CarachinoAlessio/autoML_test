{
 "cells": [
  {
   "cell_type": "code",
   "execution_count": 6,
   "id": "eb78c8c53b306836",
   "metadata": {
    "ExecuteTime": {
     "end_time": "2023-12-21T11:39:50.993769286Z",
     "start_time": "2023-12-21T11:39:47.546022992Z"
    },
    "collapsed": false,
    "jupyter": {
     "outputs_hidden": false
    }
   },
   "outputs": [],
   "source": [
    "import autosklearn.classification\n",
    "import pandas as pd"
   ]
  },
  {
   "cell_type": "code",
   "execution_count": 7,
   "id": "8be738bb560c34c7",
   "metadata": {
    "ExecuteTime": {
     "end_time": "2023-12-18T11:39:16.312146233Z",
     "start_time": "2023-12-18T11:39:16.283211050Z"
    },
    "collapsed": false,
    "jupyter": {
     "outputs_hidden": false
    }
   },
   "outputs": [],
   "source": [
    "import autosklearn.classification\n",
    "import sklearn.metrics"
   ]
  },
  {
   "cell_type": "code",
   "execution_count": 8,
   "id": "9a7a77fc034133ff",
   "metadata": {
    "ExecuteTime": {
     "end_time": "2023-12-18T11:39:16.656763916Z",
     "start_time": "2023-12-18T11:39:16.598042235Z"
    },
    "collapsed": false,
    "jupyter": {
     "outputs_hidden": false
    }
   },
   "outputs": [],
   "source": [
    "train = pd.read_csv('Train.csv', header=0)\n",
    "test = pd.read_csv('Test.csv', header=0)\n",
    "train_y = train['label']\n",
    "train_y = train_y.to_numpy()\n",
    "train.drop(columns=('label'))\n",
    "train_X = train\n",
    "train_X = train_X.to_numpy()\n",
    "\n",
    "test_y = test['label']\n",
    "test_y = test_y.to_numpy()\n",
    "test.drop(columns=('label'))\n",
    "test_X = test\n",
    "test_X = test_X.to_numpy()"
   ]
  },
  {
   "cell_type": "code",
   "execution_count": 9,
   "id": "68f97ad0c921ed9a",
   "metadata": {
    "collapsed": false,
    "jupyter": {
     "outputs_hidden": false
    }
   },
   "outputs": [
    {
     "name": "stdout",
     "output_type": "stream",
     "text": [
      "Accuracy score 1.0\n"
     ]
    }
   ],
   "source": [
    "automl = autosklearn.classification.AutoSklearnClassifier()\n",
    "automl.fit(train_X, train_y)\n",
    "y_hat = automl.predict(test_X)\n",
    "print(\"Accuracy score\", sklearn.metrics.accuracy_score(test_y, y_hat))"
   ]
  }
 ],
 "metadata": {
    "authors": [
    ],
    "date": "",
    "title": "Allegato B: Autosklearn test for gender detection",
    "kernelspec": { },
    "language_info": { },
  "kernelspec": {
   "display_name": "Python 3 (ipykernel)",
   "language": "python",
   "name": "python3"
  },
  "language_info": {
   "codemirror_mode": {
    "name": "ipython",
    "version": 3
   },
   "file_extension": ".py",
   "mimetype": "text/x-python",
   "name": "python",
   "nbconvert_exporter": "python",
   "pygments_lexer": "ipython3",
   "version": "3.10.12"
  }
 },
 "nbformat": 4,
 "nbformat_minor": 5
}
