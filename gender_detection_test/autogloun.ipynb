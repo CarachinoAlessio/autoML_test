{
 "cells": [
  {
   "cell_type": "code",
   "execution_count": 1,
   "id": "58e0d7686f02376d",
   "metadata": {
    "collapsed": false,
    "ExecuteTime": {
     "end_time": "2024-02-13T09:57:51.765358800Z",
     "start_time": "2024-02-13T09:57:38.468168400Z"
    }
   },
   "outputs": [],
   "source": [
    "from autogluon.tabular import TabularDataset, TabularPredictor"
   ]
  },
  {
   "cell_type": "code",
   "execution_count": 2,
   "id": "30518dfc3c57bb79",
   "metadata": {
    "collapsed": false,
    "ExecuteTime": {
     "end_time": "2024-02-13T09:58:12.629680600Z",
     "start_time": "2024-02-13T09:58:12.545677800Z"
    }
   },
   "outputs": [
    {
     "data": {
      "text/plain": "count    6000.000000\nmean        0.500000\nstd         0.500042\nmin         0.000000\n25%         0.000000\n50%         0.500000\n75%         1.000000\nmax         1.000000\nName: label, dtype: float64"
     },
     "execution_count": 2,
     "metadata": {},
     "output_type": "execute_result"
    }
   ],
   "source": [
    "train_data = TabularDataset('Train.csv')\n",
    "test_data = TabularDataset('Test.csv')\n",
    "\n",
    "\n",
    "train_data.head()\n",
    "\n",
    "label = 'label'\n",
    "train_data[label].describe()"
   ]
  },
  {
   "cell_type": "code",
   "execution_count": 3,
   "id": "dfba6a4205bcebdc",
   "metadata": {
    "collapsed": false,
    "ExecuteTime": {
     "end_time": "2024-02-13T09:58:32.809846600Z",
     "start_time": "2024-02-13T09:58:17.660195200Z"
    }
   },
   "outputs": [
    {
     "name": "stderr",
     "output_type": "stream",
     "text": [
      "No path specified. Models will be saved in: \"AutogluonModels\\ag-20240213_095817\"\n",
      "No presets specified! To achieve strong results with AutoGluon, it is recommended to use the available presets.\n",
      "\tRecommended Presets (For more details refer to https://auto.gluon.ai/stable/tutorials/tabular/tabular-essentials.html#presets):\n",
      "\tpresets='best_quality'   : Maximize accuracy. Default time_limit=3600.\n",
      "\tpresets='high_quality'   : Strong accuracy with fast inference speed. Default time_limit=3600.\n",
      "\tpresets='good_quality'   : Good accuracy with very fast inference speed. Default time_limit=3600.\n",
      "\tpresets='medium_quality' : Fast training time, ideal for initial prototyping.\n",
      "Beginning AutoGluon training ...\n",
      "AutoGluon will save models to \"AutogluonModels\\ag-20240213_095817\"\n",
      "=================== System Info ===================\n",
      "AutoGluon Version:  1.0.0\n",
      "Python Version:     3.10.11\n",
      "Operating System:   Windows\n",
      "Platform Machine:   AMD64\n",
      "Platform Version:   10.0.19045\n",
      "CPU Count:          8\n",
      "Memory Avail:       15.44 GB / 31.85 GB (48.5%)\n",
      "Disk Space Avail:   761.33 GB / 940.03 GB (81.0%)\n",
      "===================================================\n",
      "Train Data Rows:    6000\n",
      "Train Data Columns: 12\n",
      "Label Column:       label\n",
      "AutoGluon infers your prediction problem is: 'binary' (because only two unique label-values observed).\n",
      "\t2 unique label values:  [0, 1]\n",
      "\tIf 'binary' is not the correct problem_type, please manually specify the problem_type parameter during predictor init (You may specify problem_type as one of: ['binary', 'multiclass', 'regression'])\n",
      "Problem Type:       binary\n",
      "Preprocessing data ...\n",
      "Selected class <--> label mapping:  class 1 = 1, class 0 = 0\n",
      "Using Feature Generators to preprocess the data ...\n",
      "Fitting AutoMLPipelineFeatureGenerator...\n",
      "\tAvailable Memory:                    15815.72 MB\n",
      "\tTrain Data (Original)  Memory Usage: 0.55 MB (0.0% of available memory)\n",
      "\tInferring data type of each feature based on column values. Set feature_metadata_in to manually specify special dtypes of the features.\n",
      "\tStage 1 Generators:\n",
      "\t\tFitting AsTypeFeatureGenerator...\n",
      "\tStage 2 Generators:\n",
      "\t\tFitting FillNaFeatureGenerator...\n",
      "\tStage 3 Generators:\n",
      "\t\tFitting IdentityFeatureGenerator...\n",
      "\tStage 4 Generators:\n",
      "\t\tFitting DropUniqueFeatureGenerator...\n",
      "\tStage 5 Generators:\n",
      "\t\tFitting DropDuplicatesFeatureGenerator...\n",
      "\tTypes of features in original data (raw dtype, special dtypes):\n",
      "\t\t('float', []) : 12 | ['column_0', 'column_1', 'column_2', 'column_3', 'column_4', ...]\n",
      "\tTypes of features in processed data (raw dtype, special dtypes):\n",
      "\t\t('float', []) : 12 | ['column_0', 'column_1', 'column_2', 'column_3', 'column_4', ...]\n",
      "\t0.1s = Fit runtime\n",
      "\t12 features in original data used to generate 12 features in processed data.\n",
      "\tTrain Data (Processed) Memory Usage: 0.55 MB (0.0% of available memory)\n",
      "Data preprocessing and feature engineering runtime = 0.2s ...\n",
      "AutoGluon will gauge predictive performance using evaluation metric: 'accuracy'\n",
      "\tTo change this, specify the eval_metric parameter of Predictor()\n",
      "Automatically generating train/validation split with holdout_frac=0.1, Train Rows: 5400, Val Rows: 600\n",
      "User-specified model hyperparameters to be fit:\n",
      "{\n",
      "\t'NN_TORCH': {},\n",
      "\t'GBM': [{'extra_trees': True, 'ag_args': {'name_suffix': 'XT'}}, {}, 'GBMLarge'],\n",
      "\t'CAT': {},\n",
      "\t'XGB': {},\n",
      "\t'FASTAI': {},\n",
      "\t'RF': [{'criterion': 'gini', 'ag_args': {'name_suffix': 'Gini', 'problem_types': ['binary', 'multiclass']}}, {'criterion': 'entropy', 'ag_args': {'name_suffix': 'Entr', 'problem_types': ['binary', 'multiclass']}}, {'criterion': 'squared_error', 'ag_args': {'name_suffix': 'MSE', 'problem_types': ['regression', 'quantile']}}],\n",
      "\t'XT': [{'criterion': 'gini', 'ag_args': {'name_suffix': 'Gini', 'problem_types': ['binary', 'multiclass']}}, {'criterion': 'entropy', 'ag_args': {'name_suffix': 'Entr', 'problem_types': ['binary', 'multiclass']}}, {'criterion': 'squared_error', 'ag_args': {'name_suffix': 'MSE', 'problem_types': ['regression', 'quantile']}}],\n",
      "\t'KNN': [{'weights': 'uniform', 'ag_args': {'name_suffix': 'Unif'}}, {'weights': 'distance', 'ag_args': {'name_suffix': 'Dist'}}],\n",
      "}\n",
      "Fitting 13 L1 models ...\n",
      "Fitting model: KNeighborsUnif ...\n",
      "\t0.9533\t = Validation score   (accuracy)\n",
      "\t6.91s\t = Training   runtime\n",
      "\t0.04s\t = Validation runtime\n",
      "Fitting model: KNeighborsDist ...\n",
      "\t0.9533\t = Validation score   (accuracy)\n",
      "\t0.02s\t = Training   runtime\n",
      "\t0.03s\t = Validation runtime\n",
      "Fitting model: LightGBMXT ...\n",
      "\t0.9783\t = Validation score   (accuracy)\n",
      "\t1.56s\t = Training   runtime\n",
      "\t0.01s\t = Validation runtime\n",
      "Fitting model: LightGBM ...\n",
      "\t0.97\t = Validation score   (accuracy)\n",
      "\t1.41s\t = Training   runtime\n",
      "\t0.01s\t = Validation runtime\n",
      "Fitting model: RandomForestGini ...\n",
      "\t0.965\t = Validation score   (accuracy)\n",
      "\t2.42s\t = Training   runtime\n",
      "\t0.07s\t = Validation runtime\n",
      "Fitting model: RandomForestEntr ...\n",
      "\n",
      "KeyboardInterrupt\n",
      "\n"
     ]
    }
   ],
   "source": [
    "predictor = TabularPredictor(label=label).fit(train_data)"
   ]
  },
  {
   "cell_type": "code",
   "execution_count": 4,
   "outputs": [
    {
     "name": "stderr",
     "output_type": "stream",
     "text": [
      "No path specified. Models will be saved in: \"AutogluonModels\\ag-20240213_095845\"\n"
     ]
    }
   ],
   "source": [
    "predictor = TabularPredictor(label=label).load(path=\"./AutogluonModels/ag-20231215_150640\")"
   ],
   "metadata": {
    "collapsed": false,
    "ExecuteTime": {
     "end_time": "2024-02-13T09:58:45.144175900Z",
     "start_time": "2024-02-13T09:58:45.097163800Z"
    }
   },
   "id": "b7014ee3327dcfd8"
  },
  {
   "cell_type": "code",
   "execution_count": 5,
   "id": "219c26018c7fbeef",
   "metadata": {
    "collapsed": false,
    "ExecuteTime": {
     "end_time": "2024-02-13T09:59:01.455284300Z",
     "start_time": "2024-02-13T09:58:55.940274900Z"
    }
   },
   "outputs": [
    {
     "data": {
      "text/plain": "0    0\n1    0\n2    0\n3    0\n4    0\nName: label, dtype: int64"
     },
     "execution_count": 5,
     "metadata": {},
     "output_type": "execute_result"
    }
   ],
   "source": [
    "y_pred = predictor.predict(test_data.drop(columns=[label]))\n",
    "y_pred.head()"
   ]
  },
  {
   "cell_type": "code",
   "execution_count": 6,
   "id": "cd75517906b275bd",
   "metadata": {
    "collapsed": false,
    "ExecuteTime": {
     "end_time": "2024-02-13T09:59:04.121546700Z",
     "start_time": "2024-02-13T09:59:04.004547700Z"
    }
   },
   "outputs": [
    {
     "data": {
      "text/plain": "{'accuracy': 0.97325,\n 'balanced_accuracy': 0.97325,\n 'mcc': 0.9465341941654075,\n 'roc_auc': 0.996737,\n 'f1': 0.9733632063729151,\n 'precision': 0.969261279127417,\n 'recall': 0.9775}"
     },
     "execution_count": 6,
     "metadata": {},
     "output_type": "execute_result"
    }
   ],
   "source": [
    "predictor.evaluate(test_data, silent=True)"
   ]
  },
  {
   "cell_type": "code",
   "execution_count": 7,
   "id": "60df8f7f5872ed15",
   "metadata": {
    "collapsed": false,
    "ExecuteTime": {
     "end_time": "2024-02-13T09:59:11.595046600Z",
     "start_time": "2024-02-13T09:59:08.914121900Z"
    }
   },
   "outputs": [
    {
     "data": {
      "text/plain": "                  model  score_test  score_val eval_metric  pred_time_test  \\\n0   WeightedEnsemble_L2     0.97325   0.983333    accuracy        0.076997   \n1            LightGBMXT     0.97275   0.978333    accuracy        0.029999   \n2       NeuralNetFastAI     0.97100   0.978333    accuracy        1.248926   \n3        NeuralNetTorch     0.96800   0.978333    accuracy        0.027001   \n4              CatBoost     0.96700   0.980000    accuracy        0.012000   \n5              LightGBM     0.96700   0.970000    accuracy        0.049001   \n6               XGBoost     0.96625   0.971667    accuracy        0.030996   \n7         LightGBMLarge     0.96425   0.965000    accuracy        0.102000   \n8        KNeighborsDist     0.96175   0.953333    accuracy        0.077999   \n9        KNeighborsUnif     0.96150   0.953333    accuracy        0.092985   \n10       ExtraTreesGini     0.96125   0.966667    accuracy        0.130000   \n11       ExtraTreesEntr     0.96050   0.968333    accuracy        0.222000   \n12     RandomForestEntr     0.95800   0.956667    accuracy        0.312000   \n13     RandomForestGini     0.95675   0.965000    accuracy        0.159002   \n\n    pred_time_val   fit_time  pred_time_test_marginal  pred_time_val_marginal  \\\n0        0.018068  10.232093                 0.007000                0.001055   \n1        0.010000   1.898996                 0.029999                0.010000   \n2        0.018003   5.882201                 1.248926                0.018003   \n3        0.005000   6.503999                 0.027001                0.005000   \n4        0.005013   2.189992                 0.012000                0.005013   \n5        0.010001   1.836509                 0.049001                0.010001   \n6        0.006999   0.969000                 0.030996                0.006999   \n7        0.010000   2.042997                 0.102000                0.010000   \n8        0.018999   0.025001                 0.077999                0.018999   \n9        0.042003   5.048506                 0.092985                0.042003   \n10       0.065004   0.788653                 0.130000                0.065004   \n11       0.063980   0.927988                 0.222000                0.063980   \n12       0.065634   2.059010                 0.312000                0.065634   \n13       0.062001   2.326008                 0.159002                0.062001   \n\n    fit_time_marginal  stack_level  can_infer  fit_order  \n0            0.569103            2       True         14  \n1            1.898996            1       True          3  \n2            5.882201            1       True         10  \n3            6.503999            1       True         12  \n4            2.189992            1       True          7  \n5            1.836509            1       True          4  \n6            0.969000            1       True         11  \n7            2.042997            1       True         13  \n8            0.025001            1       True          2  \n9            5.048506            1       True          1  \n10           0.788653            1       True          8  \n11           0.927988            1       True          9  \n12           2.059010            1       True          6  \n13           2.326008            1       True          5  ",
      "text/html": "<div>\n<style scoped>\n    .dataframe tbody tr th:only-of-type {\n        vertical-align: middle;\n    }\n\n    .dataframe tbody tr th {\n        vertical-align: top;\n    }\n\n    .dataframe thead th {\n        text-align: right;\n    }\n</style>\n<table border=\"1\" class=\"dataframe\">\n  <thead>\n    <tr style=\"text-align: right;\">\n      <th></th>\n      <th>model</th>\n      <th>score_test</th>\n      <th>score_val</th>\n      <th>eval_metric</th>\n      <th>pred_time_test</th>\n      <th>pred_time_val</th>\n      <th>fit_time</th>\n      <th>pred_time_test_marginal</th>\n      <th>pred_time_val_marginal</th>\n      <th>fit_time_marginal</th>\n      <th>stack_level</th>\n      <th>can_infer</th>\n      <th>fit_order</th>\n    </tr>\n  </thead>\n  <tbody>\n    <tr>\n      <th>0</th>\n      <td>WeightedEnsemble_L2</td>\n      <td>0.97325</td>\n      <td>0.983333</td>\n      <td>accuracy</td>\n      <td>0.076997</td>\n      <td>0.018068</td>\n      <td>10.232093</td>\n      <td>0.007000</td>\n      <td>0.001055</td>\n      <td>0.569103</td>\n      <td>2</td>\n      <td>True</td>\n      <td>14</td>\n    </tr>\n    <tr>\n      <th>1</th>\n      <td>LightGBMXT</td>\n      <td>0.97275</td>\n      <td>0.978333</td>\n      <td>accuracy</td>\n      <td>0.029999</td>\n      <td>0.010000</td>\n      <td>1.898996</td>\n      <td>0.029999</td>\n      <td>0.010000</td>\n      <td>1.898996</td>\n      <td>1</td>\n      <td>True</td>\n      <td>3</td>\n    </tr>\n    <tr>\n      <th>2</th>\n      <td>NeuralNetFastAI</td>\n      <td>0.97100</td>\n      <td>0.978333</td>\n      <td>accuracy</td>\n      <td>1.248926</td>\n      <td>0.018003</td>\n      <td>5.882201</td>\n      <td>1.248926</td>\n      <td>0.018003</td>\n      <td>5.882201</td>\n      <td>1</td>\n      <td>True</td>\n      <td>10</td>\n    </tr>\n    <tr>\n      <th>3</th>\n      <td>NeuralNetTorch</td>\n      <td>0.96800</td>\n      <td>0.978333</td>\n      <td>accuracy</td>\n      <td>0.027001</td>\n      <td>0.005000</td>\n      <td>6.503999</td>\n      <td>0.027001</td>\n      <td>0.005000</td>\n      <td>6.503999</td>\n      <td>1</td>\n      <td>True</td>\n      <td>12</td>\n    </tr>\n    <tr>\n      <th>4</th>\n      <td>CatBoost</td>\n      <td>0.96700</td>\n      <td>0.980000</td>\n      <td>accuracy</td>\n      <td>0.012000</td>\n      <td>0.005013</td>\n      <td>2.189992</td>\n      <td>0.012000</td>\n      <td>0.005013</td>\n      <td>2.189992</td>\n      <td>1</td>\n      <td>True</td>\n      <td>7</td>\n    </tr>\n    <tr>\n      <th>5</th>\n      <td>LightGBM</td>\n      <td>0.96700</td>\n      <td>0.970000</td>\n      <td>accuracy</td>\n      <td>0.049001</td>\n      <td>0.010001</td>\n      <td>1.836509</td>\n      <td>0.049001</td>\n      <td>0.010001</td>\n      <td>1.836509</td>\n      <td>1</td>\n      <td>True</td>\n      <td>4</td>\n    </tr>\n    <tr>\n      <th>6</th>\n      <td>XGBoost</td>\n      <td>0.96625</td>\n      <td>0.971667</td>\n      <td>accuracy</td>\n      <td>0.030996</td>\n      <td>0.006999</td>\n      <td>0.969000</td>\n      <td>0.030996</td>\n      <td>0.006999</td>\n      <td>0.969000</td>\n      <td>1</td>\n      <td>True</td>\n      <td>11</td>\n    </tr>\n    <tr>\n      <th>7</th>\n      <td>LightGBMLarge</td>\n      <td>0.96425</td>\n      <td>0.965000</td>\n      <td>accuracy</td>\n      <td>0.102000</td>\n      <td>0.010000</td>\n      <td>2.042997</td>\n      <td>0.102000</td>\n      <td>0.010000</td>\n      <td>2.042997</td>\n      <td>1</td>\n      <td>True</td>\n      <td>13</td>\n    </tr>\n    <tr>\n      <th>8</th>\n      <td>KNeighborsDist</td>\n      <td>0.96175</td>\n      <td>0.953333</td>\n      <td>accuracy</td>\n      <td>0.077999</td>\n      <td>0.018999</td>\n      <td>0.025001</td>\n      <td>0.077999</td>\n      <td>0.018999</td>\n      <td>0.025001</td>\n      <td>1</td>\n      <td>True</td>\n      <td>2</td>\n    </tr>\n    <tr>\n      <th>9</th>\n      <td>KNeighborsUnif</td>\n      <td>0.96150</td>\n      <td>0.953333</td>\n      <td>accuracy</td>\n      <td>0.092985</td>\n      <td>0.042003</td>\n      <td>5.048506</td>\n      <td>0.092985</td>\n      <td>0.042003</td>\n      <td>5.048506</td>\n      <td>1</td>\n      <td>True</td>\n      <td>1</td>\n    </tr>\n    <tr>\n      <th>10</th>\n      <td>ExtraTreesGini</td>\n      <td>0.96125</td>\n      <td>0.966667</td>\n      <td>accuracy</td>\n      <td>0.130000</td>\n      <td>0.065004</td>\n      <td>0.788653</td>\n      <td>0.130000</td>\n      <td>0.065004</td>\n      <td>0.788653</td>\n      <td>1</td>\n      <td>True</td>\n      <td>8</td>\n    </tr>\n    <tr>\n      <th>11</th>\n      <td>ExtraTreesEntr</td>\n      <td>0.96050</td>\n      <td>0.968333</td>\n      <td>accuracy</td>\n      <td>0.222000</td>\n      <td>0.063980</td>\n      <td>0.927988</td>\n      <td>0.222000</td>\n      <td>0.063980</td>\n      <td>0.927988</td>\n      <td>1</td>\n      <td>True</td>\n      <td>9</td>\n    </tr>\n    <tr>\n      <th>12</th>\n      <td>RandomForestEntr</td>\n      <td>0.95800</td>\n      <td>0.956667</td>\n      <td>accuracy</td>\n      <td>0.312000</td>\n      <td>0.065634</td>\n      <td>2.059010</td>\n      <td>0.312000</td>\n      <td>0.065634</td>\n      <td>2.059010</td>\n      <td>1</td>\n      <td>True</td>\n      <td>6</td>\n    </tr>\n    <tr>\n      <th>13</th>\n      <td>RandomForestGini</td>\n      <td>0.95675</td>\n      <td>0.965000</td>\n      <td>accuracy</td>\n      <td>0.159002</td>\n      <td>0.062001</td>\n      <td>2.326008</td>\n      <td>0.159002</td>\n      <td>0.062001</td>\n      <td>2.326008</td>\n      <td>1</td>\n      <td>True</td>\n      <td>5</td>\n    </tr>\n  </tbody>\n</table>\n</div>"
     },
     "execution_count": 7,
     "metadata": {},
     "output_type": "execute_result"
    }
   ],
   "source": [
    "predictor.leaderboard(test_data)"
   ]
  },
  {
   "cell_type": "code",
   "execution_count": 10,
   "outputs": [
    {
     "name": "stderr",
     "output_type": "stream",
     "text": [
      "Loaded data from: Test.csv | Columns = 13 / 13 | Rows = 4000 -> 4000\n"
     ]
    },
    {
     "name": "stdout",
     "output_type": "stream",
     "text": [
      "[0.00115013 0.00855338 0.01626303 0.2737999  0.00631682 0.05408015\n",
      " 0.13812457 0.02068841 0.01505978 0.00305058 0.01080162 0.00383445]\n"
     ]
    },
    {
     "data": {
      "text/plain": "<matplotlib.colorbar.Colorbar at 0x1188dbfee00>"
     },
     "execution_count": 10,
     "metadata": {},
     "output_type": "execute_result"
    },
    {
     "data": {
      "text/plain": "<Figure size 640x480 with 2 Axes>",
      "image/png": "[encoded data removed]"
     },
     "metadata": {},
     "output_type": "display_data"
    }
   ],
   "source": [
    "import shap\n",
    "import matplotlib.pyplot as plt\n",
    "import pandas as pd\n",
    "\n",
    "def wrapped_model(x):\n",
    "    column_names = [f'column_{i}' for i in range(12)]\n",
    "    x = pd.DataFrame(x)\n",
    "    x.columns = column_names\n",
    "    preds = predictor.predict(x).to_numpy()\n",
    "        \n",
    "    return preds\n",
    "\n",
    "test_data = TabularDataset('Test.csv')\n",
    "\n",
    "to_be_explained = pd.DataFrame(test_data).drop('label', axis=1).to_numpy()[0]\n",
    "explainer = shap.KernelExplainer(wrapped_model, pd.read_csv('./Train.csv').drop('label', axis=1).sample(n=100))\n",
    "shap_values = explainer.shap_values(to_be_explained)\n",
    "relevance = abs(shap_values.ravel())\n",
    "\n",
    "\n",
    "norm_relevance = ((relevance - min(relevance)) / (max(relevance) - min(relevance)))\n",
    "\n",
    "print(relevance)\n",
    "plt.imshow(norm_relevance.reshape((2, 6)))\n",
    "plt.colorbar()"
   ],
   "metadata": {
    "collapsed": false,
    "ExecuteTime": {
     "end_time": "2024-01-26T16:56:46.828973900Z",
     "start_time": "2024-01-26T16:56:44.620468400Z"
    }
   },
   "id": "53fa8c49c9979333"
  },
  {
   "cell_type": "code",
   "execution_count": 9,
   "outputs": [
    {
     "name": "stdout",
     "output_type": "stream",
     "text": [
      "Intercept 0.6048015107710185\n",
      "Prediction_local [0.16731967]\n",
      "Right: 0.004854635801166296\n",
      "[0.01284813 0.09808043 0.02995154 0.1029113  0.01256941 0.27437583\n",
      " 0.06893565 0.00233376 0.02109475 0.15272804 0.00549973 0.00543167]\n"
     ]
    },
    {
     "data": {
      "text/plain": "<matplotlib.colorbar.Colorbar at 0x19fae2d5840>"
     },
     "execution_count": 9,
     "metadata": {},
     "output_type": "execute_result"
    },
    {
     "data": {
      "text/plain": "<Figure size 640x480 with 2 Axes>",
      "image/png": "[encoded data removed]"
     },
     "metadata": {},
     "output_type": "display_data"
    }
   ],
   "source": [
    "import lime.lime_tabular\n",
    "import numpy as np\n",
    "import matplotlib.pyplot as plt\n",
    "import pandas as pd\n",
    "\n",
    "\n",
    "def wrapped_net(x):\n",
    "    column_names = [f'column_{i}' for i in range(12)]\n",
    "    x = pd.DataFrame(x)\n",
    "    x.columns = column_names\n",
    "    preds = predictor.predict_proba(x).to_numpy()\n",
    "        \n",
    "    return preds\n",
    "\n",
    "background = pd.read_csv('./Train.csv').drop('label', axis=1).sample(n=100).to_numpy()\n",
    "explainer = lime.lime_tabular.LimeTabularExplainer(\n",
    "    background,\n",
    "    feature_names=[str(i) for i in range(12)],\n",
    "    verbose=True,\n",
    "    mode='classification',\n",
    ")\n",
    "\n",
    "test = pd.read_csv('./Train.csv').drop('label', axis=1).to_numpy()[0]\n",
    "\n",
    "exp = explainer.explain_instance(test, wrapped_net, num_features=12)\n",
    "# exp.save_to_file('lime_explanationall.html')\n",
    "# relevance = abs(np.asarray([float(i) for i in exp.domain_mapper.feature_values]))\n",
    "relevance = abs(np.asarray([j for i, j in sorted(exp.local_exp[1], key=lambda i: i[0])]))\n",
    "\n",
    "\n",
    "perc_relevance = 100 * relevance / sum(relevance)\n",
    "# relevance = exp.local_exp[1]\n",
    "norm_relevance = ((relevance - min(relevance)) / (max(relevance) - min(relevance)))\n",
    "\n",
    "\n",
    "print(relevance)\n",
    "plt.imshow(norm_relevance.reshape((2, 6)))\n",
    "plt.colorbar()"
   ],
   "metadata": {
    "collapsed": false,
    "ExecuteTime": {
     "end_time": "2024-02-13T10:00:00.127278500Z",
     "start_time": "2024-02-13T09:59:59.681315600Z"
    }
   },
   "id": "560f722e3a940959"
  },
  {
   "cell_type": "code",
   "execution_count": null,
   "outputs": [],
   "source": [],
   "metadata": {
    "collapsed": false
   },
   "id": "109f45bf49d7a772"
  }
 ],
 "metadata": {
  "authors": [],
  "date": "",
  "title": "Allegato A: Autogloun test for gender detection",
  "kernelspec": {
   "display_name": "Python 3",
   "language": "python",
   "name": "python3"
  },
  "language_info": {
   "codemirror_mode": {
    "name": "ipython",
    "version": 2
   },
   "file_extension": ".py",
   "mimetype": "text/x-python",
   "name": "python",
   "nbconvert_exporter": "python",
   "pygments_lexer": "ipython2",
   "version": "2.7.6"
  }
 },
 "nbformat": 4,
 "nbformat_minor": 5
}
